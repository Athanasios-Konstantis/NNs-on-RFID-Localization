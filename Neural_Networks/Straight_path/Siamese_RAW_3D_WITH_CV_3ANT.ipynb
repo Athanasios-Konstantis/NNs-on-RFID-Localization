{
  "cells": [
    {
      "cell_type": "markdown",
      "metadata": {},
      "source": [
        "# Νευρωνικά Δίκτυα"
      ]
    },
    {
      "cell_type": "markdown",
      "metadata": {},
      "source": [
        "Παρακάτω θα παρουσιάσουμε μερικές αρχιτεκτονικές νευρωνικών δικτύων."
      ]
    },
    {
      "cell_type": "markdown",
      "metadata": {},
      "source": [
        "***"
      ]
    },
    {
      "cell_type": "markdown",
      "metadata": {},
      "source": [
        "## Συναρτήσεις "
      ]
    },
    {
      "cell_type": "markdown",
      "metadata": {},
      "source": [
        "Οι παρακάτω βοηθητικές συναρτήσεις θα χρησιμοποιηθούν για να κάνουμε train και test το μοντέλο."
      ]
    },
    {
      "cell_type": "markdown",
      "metadata": {},
      "source": [
        "Αρχικά κάνουμε τα απαραίτητα imports και ορίζουμε την συσκευή που θα χρησιμοποιήσουμε (cpu/gpu)."
      ]
    },
    {
      "cell_type": "code",
      "execution_count": 52,
      "metadata": {},
      "outputs": [
        {
          "name": "stdout",
          "output_type": "stream",
          "text": [
            "Using cpu device, imports complete!\n"
          ]
        }
      ],
      "source": [
        "import torch\n",
        "import numpy as np\n",
        "from sklearn.model_selection import train_test_split\n",
        "import matplotlib.pyplot as plt\n",
        "from sklearn.preprocessing import StandardScaler\n",
        "from torch.utils.data import DataLoader, TensorDataset\n",
        "from torch import nn\n",
        "import os\n",
        "from torch.optim import lr_scheduler\n",
        "from pathlib import Path\n",
        "from sklearn.model_selection import KFold\n",
        "\n",
        "BATCH_SIZE = 32\n",
        "# For implementation of ReLock\n",
        "labels_holdout = []\n",
        "info_holdout = []\n",
        "\n",
        "device = 'cuda' if torch.cuda.is_available() else 'cpu'\n",
        "print('Using {} device, imports complete!'.format(device))"
      ]
    },
    {
      "cell_type": "markdown",
      "metadata": {},
      "source": [
        "Στην συνέχεια ορίζουμε την πρώτη συνάρτηση η οποία δέχεται ένα μοντέλο, το training dataset, την συνάρτηση λάθους, τον optimizer, και την συσκευή που χρησιμοποιούμε. Προχωράει το training κατά ένα βήμα και επιστρέφει την απώλεια."
      ]
    },
    {
      "cell_type": "code",
      "execution_count": 27,
      "metadata": {},
      "outputs": [],
      "source": [
        "def train_step(model: torch.nn.Module,\n",
        "               data_loader: torch.utils.data.DataLoader,\n",
        "               loss_fn: torch.nn.Module,\n",
        "               optimizer: torch.optim.Optimizer,\n",
        "               device: torch.device = 'cpu'):\n",
        "    model.to(device)\n",
        "    model.train()\n",
        "\n",
        "    train_loss = 0\n",
        "    for X_batch, y_batch in data_loader:\n",
        "        # Send data to GPU\n",
        "        X_batch, y_batch = X_batch.to(device), y_batch.to(device)\n",
        "\n",
        "        # Forward pass\n",
        "        size = int(X_batch.shape[1]/ 3)\n",
        "        antenna1 = X_batch[:,:size]\n",
        "        antenna2 = X_batch[:,size: 2* size]\n",
        "        antenna3 = X_batch[:,2*size:]\n",
        "        y_pred = model(antenna1, antenna2, antenna3)\n",
        "\n",
        "        # Compute loss\n",
        "        loss = loss_fn(y_pred, y_batch)\n",
        "\n",
        "        # Zero gradients\n",
        "        optimizer.zero_grad()\n",
        "\n",
        "        # Backward pass\n",
        "        loss.backward()\n",
        "\n",
        "        # Update the weights\n",
        "        torch.nn.utils.clip_grad_norm_(model.parameters(), max_norm=1.0)  # Gradient clipping to prevent gradients exploding\n",
        "        optimizer.step()\n",
        "\n",
        "        train_loss += loss.item()\n",
        "    \n",
        "    return train_loss\n"
      ]
    },
    {
      "cell_type": "markdown",
      "metadata": {},
      "source": [
        "Ομοίως η παρακάτω συνάρτηση κάνει test το μοντέλο σε κάθε εποχή, και επιστρέφει την απώλεια."
      ]
    },
    {
      "cell_type": "code",
      "execution_count": 28,
      "metadata": {},
      "outputs": [],
      "source": [
        "def test_step(model: torch.nn.Module,\n",
        "              data_loader: torch.utils.data.DataLoader,\n",
        "              loss_fn: torch.nn.Module,\n",
        "              device: torch.device = 'cpu'):\n",
        "    model.to(device)\n",
        "    model.eval()\n",
        "\n",
        "    test_loss = 0\n",
        "    with torch.inference_mode():\n",
        "        for X_batch, y_batch in data_loader:\n",
        "            # Send data to GPU\n",
        "            X_batch, y_batch = X_batch.to(device), y_batch.to(device)\n",
        "            size = int(X_batch.shape[1]/ 3)\n",
        "            antenna1 = X_batch[:,:size]\n",
        "            antenna2 = X_batch[:,size: 2* size]\n",
        "            antenna3 = X_batch[:,2*size:]\n",
        "\n",
        "            y_test_pred = model(antenna1, antenna2, antenna3)\n",
        "            test_loss += loss_fn(y_test_pred, y_batch).item()\n",
        "    \n",
        "    return test_loss"
      ]
    },
    {
      "cell_type": "markdown",
      "metadata": {},
      "source": [
        "Ορίζουμε μία κλάση έτσι ώστε το μοντέλο μας να σταματάει νωρίς όταν παρατηρεί ότι το test loss αυξάνεται η μέθοδος αυτή είναι γνωστή και ως early stopping."
      ]
    },
    {
      "cell_type": "code",
      "execution_count": 29,
      "metadata": {},
      "outputs": [],
      "source": [
        "class EarlyStopping:\n",
        "    def __init__(self, patience=10, min_delta=0.0, verbose=False, path='best_model.pth'):\n",
        "        self.patience = patience\n",
        "        self.min_delta = min_delta\n",
        "        self.verbose = verbose\n",
        "        self.path = path\n",
        "\n",
        "        self.counter = 0\n",
        "        self.best_loss = float('inf')\n",
        "        self.early_stop = False\n",
        "\n",
        "    def __call__(self, val_loss, model):\n",
        "        if val_loss < self.best_loss - self.min_delta:\n",
        "            self.best_loss = val_loss\n",
        "            self.counter = 0\n",
        "            torch.save(model.state_dict(), self.path)\n",
        "            if self.verbose:\n",
        "                print(f\"Validation loss decreased to {val_loss:.6f}. Saving model...\")\n",
        "        else:\n",
        "            self.counter += 1\n",
        "            if self.verbose:\n",
        "                print(f\"No improvement. Counter: {self.counter}/{self.patience}\")\n",
        "            if self.counter >= self.patience:\n",
        "                self.early_stop = True\n",
        "    \n",
        "    def get_best_loss(self):\n",
        "        return self.best_loss"
      ]
    },
    {
      "cell_type": "markdown",
      "metadata": {},
      "source": [
        "Η βασική συνάρτηση, επαναληπτικά για όσες εποχές έχουμε διαλέξει κάνει train και test το μοντέλο, και ανά 10 εποχές εκτυπώνει τα αποτελέσματα. Επιστρέφει 2 πίνακες με τις συνολικές απώλειες σε κάθε επανάληψη."
      ]
    },
    {
      "cell_type": "code",
      "execution_count": 30,
      "metadata": {},
      "outputs": [],
      "source": [
        "def train_test_model(epoch: int, \n",
        "                     model: torch.nn.Module,\n",
        "                     train_loader: torch.utils.data.DataLoader,\n",
        "                     test_loader: torch.utils.data.DataLoader,\n",
        "                     loss_fn: torch.nn.Module,\n",
        "                     optimizer: torch.optim.Optimizer,\n",
        "                     scheduler,\n",
        "                     early_stopper = None,\n",
        "                     device: torch.device = 'cpu',\n",
        "                     test: bool = True,\n",
        "                     verbose: bool = True):\n",
        "\n",
        "    torch.manual_seed(42)\n",
        "    train_loss_arr = []\n",
        "    test_loss_arr = []\n",
        "    \n",
        "    if(test):\n",
        "        for epochs in range(epoch):\n",
        "            # Train for one epoch\n",
        "            epoch_loss = train_step(model, train_loader, loss_fn, optimizer, device)\n",
        "            train_loss_arr.append(epoch_loss / len(train_loader))\n",
        "\n",
        "            # Scheduler update\n",
        "            scheduler.step(epoch_loss)\n",
        "            after_lr = optimizer.param_groups[0]['lr']\n",
        "\n",
        "            # Evaluate on test set\n",
        "            test_loss = test_step(model, test_loader, loss_fn, device)\n",
        "            test_loss_arr.append(test_loss / len(test_loader))\n",
        "\n",
        "            # Print progress\n",
        "            if verbose == True:\n",
        "                if (epochs % 10 == 0) or (epochs == 0):\n",
        "                    print(f'Epoch {epochs} | Loss train: {train_loss_arr[-1]:.6f} | Loss test: {test_loss_arr[-1]:.6f} | lr = {after_lr}')\n",
        "                elif epochs + 1 == epoch:\n",
        "                    print(f'Epoch {epoch} | Loss train: {train_loss_arr[-1]:.6f} | Loss test: {test_loss_arr[-1]:.6f} | lr = {after_lr}')\n",
        "\n",
        "            # Early stopping check\n",
        "            early_stopper(test_loss_arr[-1], model)\n",
        "            if early_stopper.early_stop:\n",
        "                if verbose == True:\n",
        "                    print(f\"Early stopping at epoch {epochs}\")\n",
        "                break\n",
        "\n",
        "        # Load the best model weights after stopping\n",
        "        if early_stopper.path is not None:\n",
        "            model.load_state_dict(torch.load(early_stopper.path, weights_only= True))\n",
        "            if verbose == True:\n",
        "                print(f\"Loaded best model from {early_stopper.path}\")\n",
        "\n",
        "        return train_loss_arr, test_loss_arr, early_stopper.get_best_loss(), epochs\n",
        "    else:\n",
        "        for epochs in range(epoch):\n",
        "            # Train for one epoch\n",
        "            epoch_loss = train_step(model, train_loader, loss_fn, optimizer, device)\n",
        "            train_loss_arr.append(epoch_loss / len(train_loader))\n",
        "\n",
        "            # Scheduler update\n",
        "            scheduler.step(epoch_loss)\n",
        "            after_lr = optimizer.param_groups[0]['lr']\n",
        "\n",
        "            # Print progress\n",
        "            if verbose == True:\n",
        "                if (epochs % 10 == 0) or (epochs == 0):\n",
        "                    print(f'Epoch {epochs} | Loss train: {train_loss_arr[-1]:.6f} | lr = {after_lr}')\n",
        "                elif epochs + 1 == epoch:\n",
        "                    print(f'Epoch {epoch} | Loss train: {train_loss_arr[-1]:.6f} | lr = {after_lr}')\n",
        "        return train_loss_arr"
      ]
    },
    {
      "cell_type": "markdown",
      "metadata": {},
      "source": [
        "Η συνάρτηση είναι παρόμοια με την test_step με την διαφορά ότι επιστρέφει ένα dictionary με τα βασικά στοιχεία του μοντέλου."
      ]
    },
    {
      "cell_type": "code",
      "execution_count": 31,
      "metadata": {},
      "outputs": [],
      "source": [
        "def eval_model_3d(model: torch.nn.Module, \n",
        "                  data_loader: torch.utils.data.DataLoader, \n",
        "                  scaler,\n",
        "                  device: torch.device = 'cpu',\n",
        "                  verbose=True):\n",
        "\n",
        "    model.eval()\n",
        "    model.to(device)\n",
        "    all_preds = []\n",
        "    all_targets = []\n",
        "\n",
        "    with torch.inference_mode():\n",
        "        for X, y in data_loader:\n",
        "            X, y = X.to(device), y.to(device)\n",
        "\n",
        "            size = int(X.shape[1]/ 3)\n",
        "            antenna1 = X[:,:size]\n",
        "            antenna2 = X[:,size:2 *size]\n",
        "            antenna3 = X[:, 2*size :]\n",
        "            y_pred = model(antenna1, antenna2, antenna3)\n",
        "\n",
        "            # Move to CPU and collect all predictions and targets\n",
        "            all_preds.append(y_pred.cpu())\n",
        "            all_targets.append(y.cpu())\n",
        "\n",
        "    # Concatenate all batches\n",
        "    all_preds = torch.cat(all_preds, dim=0).numpy()\n",
        "    all_targets = torch.cat(all_targets, dim=0).numpy()\n",
        "\n",
        "    # Reverse scaling\n",
        "    y_pred_real = scaler.inverse_transform(all_preds)\n",
        "    y_true_real = scaler.inverse_transform(all_targets)\n",
        "\n",
        "    # Calculate average Euclidean distance (in cm)\n",
        "    distances = np.linalg.norm(y_pred_real - y_true_real, axis=1)\n",
        "    mean_distance_error = np.mean(distances)\n",
        "    std_distance_error = np.std(distances)\n",
        "\n",
        "    # Plot real data VS predicted in 3D\n",
        "    if verbose:\n",
        "        fig = plt.figure(figsize=(15, 15))\n",
        "        ax = fig.add_subplot(111, projection='3d')\n",
        "\n",
        "        number_of_points = 20\n",
        "\n",
        "        # Plot ground truth points\n",
        "        ax.scatter(\n",
        "            y_true_real[:number_of_points, 0], \n",
        "            y_true_real[:number_of_points, 1], \n",
        "            y_true_real[:number_of_points, 2], \n",
        "            color='blue', label='Ground Truth', s=100\n",
        "        )\n",
        "\n",
        "        # Plot predicted points\n",
        "        ax.scatter(\n",
        "            y_pred_real[:number_of_points, 0], \n",
        "            y_pred_real[:number_of_points, 1], \n",
        "            y_pred_real[:number_of_points, 2], \n",
        "            color='red', label='Predicted', s=100\n",
        "        )\n",
        "\n",
        "        # Draw lines connecting corresponding points\n",
        "        for i, (gt, pred) in enumerate(zip(y_true_real[:number_of_points], y_pred_real[:number_of_points])):\n",
        "            ax.plot(\n",
        "                [gt[0], pred[0]], \n",
        "                [gt[1], pred[1]], \n",
        "                [gt[2], pred[2]], \n",
        "                color='gray', linestyle='--', linewidth=1\n",
        "            )\n",
        "            \n",
        "            # Calculate the midpoint of the line for placing the text\n",
        "            mid_x = (gt[0] + pred[0]) / 2\n",
        "            mid_y = (gt[1] + pred[1]) / 2\n",
        "            mid_z = (gt[2] + pred[2]) / 2\n",
        "            \n",
        "            # Annotate the line with the corresponding distance from the distances array\n",
        "            ax.text(mid_x, mid_y, mid_z, f'{distances[i]:.2f} cm', fontsize=9, ha='center', va='bottom', color='black',\n",
        "                    bbox=dict(facecolor='white', edgecolor='none', alpha=0.3))\n",
        "\n",
        "        # Add labels and legend\n",
        "        ax.set_xlabel('X')\n",
        "        ax.set_ylabel('Y')\n",
        "        ax.set_zlabel('Z')\n",
        "        ax.set_title(f'Ground Truth vs Predicted Points\\nMean Distance Error: {mean_distance_error:.2f} cm, Std: {std_distance_error:.2f} cm')\n",
        "        ax.legend()\n",
        "        ax.grid(True)\n",
        "\n",
        "        # Show the plot\n",
        "        plt.show()\n",
        "\n",
        "    return {\n",
        "        \"model_name\": model.__class__.__name__,\n",
        "        \"mean_distance_error_cm\": mean_distance_error.item(),\n",
        "        \"std\": std_distance_error.item()\n",
        "    }"
      ]
    },
    {
      "cell_type": "markdown",
      "metadata": {},
      "source": [
        "Η συνάρτηση αυτή χρησιμοποιείται για να εμφανίσει τις κανονικοποιημένες στο (0,1) train_loss και test_loss curves."
      ]
    },
    {
      "cell_type": "code",
      "execution_count": 32,
      "metadata": {},
      "outputs": [],
      "source": [
        "def plot_results(train_arr, test_arr):\n",
        "    # Plot the loss curves\n",
        "    train_arr = (train_arr - np.min(train_arr)) / (np.max(train_arr) - np.min(train_arr))\n",
        "    test_arr = (test_arr - np.min(test_arr)) / (np.max(test_arr) - np.min(test_arr))\n",
        "    \n",
        "    plt.figure(figsize=(8, 5))\n",
        "    plt.plot(train_arr, label='Train Loss')\n",
        "    plt.plot(test_arr, label='Test Loss')\n",
        "    plt.xlabel(\"Epochs\")\n",
        "    plt.ylabel(\"Normalized Loss\")\n",
        "    plt.title(\"Normalized Training Loss\")\n",
        "    plt.grid()\n",
        "    plt.legend()\n",
        "    plt.show()"
      ]
    },
    {
      "cell_type": "markdown",
      "metadata": {},
      "source": [
        "***"
      ]
    },
    {
      "cell_type": "markdown",
      "metadata": {},
      "source": [
        "## Εισαγωγή δεδομένων"
      ]
    },
    {
      "cell_type": "markdown",
      "metadata": {},
      "source": [
        "Κάνουμε scale και το Y οπότε σε περίπτωση τυχαίου διανύσματος θα πρέπει να το κάνουμε και αυτό scale, και μετά το output να το επαναφέρουμε."
      ]
    },
    {
      "cell_type": "markdown",
      "metadata": {},
      "source": [
        "Έχοντας δοκιμάσει να κανονικοποιήσουμε τα δεδομένα εισόδου σε [-1,1] και τα δεδομένα εξόδου με την χρήση του standardscaler, τα αποτελέσματα είναι **ελαφρώς χειρότερα** από το να κανονικοποιήσουμε και την είσοδο και την έξοδο με τον standard scaler."
      ]
    },
    {
      "cell_type": "markdown",
      "metadata": {},
      "source": [
        "Κάνοντας χρήση της μεθόδου [-1,1] τοσο για την είσοδο όσο για την έξοδο τα αποτελέσματα είναι **σαφώς χειρότερα**"
      ]
    },
    {
      "cell_type": "markdown",
      "metadata": {},
      "source": [
        "Για την ώρα κρατάμε το [-1,1] για την είσοδο και το StandardScaler για την έξοδο."
      ]
    },
    {
      "cell_type": "markdown",
      "metadata": {},
      "source": [
        "Ανάλογα με τον ποιον φάκελο θέλουμε να διαβάσουμε αλλάζουμε το νουμεράκι."
      ]
    },
    {
      "cell_type": "code",
      "execution_count": 33,
      "metadata": {},
      "outputs": [
        {
          "data": {
            "text/plain": [
              "((4074, 500, 12), (4074, 3), (30, 500, 12), (30, 3))"
            ]
          },
          "execution_count": 33,
          "metadata": {},
          "output_type": "execute_result"
        }
      ],
      "source": [
        "# Get the directory of the script\n",
        "parent_dir = Path(__file__).parent if \"__file__\" in globals() else Path.cwd()\n",
        "\n",
        "parent_dir = os.path.join(parent_dir, '..', '..', 'Experiments', 'Raw_Data_Triple_Antenna_1') \n",
        "\n",
        "\n",
        "rfid_label = np.load(f\"{parent_dir}\\\\labels.npy\")\n",
        "info_tensor = np.load(f\"{parent_dir}\\\\dataset.npy\")\n",
        "\n",
        "holdout_tensor = np.load(f\"{parent_dir}\\\\holdout_dataset.npy\")\n",
        "holdout_labels = np.load(f\"{parent_dir}\\\\holdout_labels.npy\")\n",
        "\n",
        "info_tensor.shape , rfid_label.shape, holdout_tensor.shape, holdout_labels.shape"
      ]
    },
    {
      "cell_type": "code",
      "execution_count": 34,
      "metadata": {},
      "outputs": [
        {
          "name": "stdout",
          "output_type": "stream",
          "text": [
            "[[107.3 107.3 107.3 ... 107.3 107.3 107.3]\n",
            " [107.3 107.3 107.3 ... 107.3 107.3 107.3]\n",
            " [152.8 152.8 152.8 ... 152.8 152.8 152.8]\n",
            " ...\n",
            " [107.3 107.3 107.3 ... 107.3 107.3 107.3]\n",
            " [152.8 152.8 152.8 ... 152.8 152.8 152.8]\n",
            " [152.8 152.8 152.8 ... 152.8 152.8 152.8]]\n"
          ]
        }
      ],
      "source": [
        "print(info_tensor[:,:,6])"
      ]
    },
    {
      "cell_type": "markdown",
      "metadata": {},
      "source": [
        "Ουσιαστικά αναζητούμε τα **Χ και Υ** του RFID TAG, γνωρίζοντας το πως **κινήθηκε** και την μέτρηση της **φάσης** του."
      ]
    },
    {
      "cell_type": "markdown",
      "metadata": {},
      "source": [
        "Αποθηκεύουμε σε μεταβλητές τα μεγέθη του input και του output για τα γραμμικά μοντέλα."
      ]
    },
    {
      "cell_type": "code",
      "execution_count": 35,
      "metadata": {},
      "outputs": [
        {
          "data": {
            "text/plain": [
              "(6000, 3)"
            ]
          },
          "execution_count": 35,
          "metadata": {},
          "output_type": "execute_result"
        }
      ],
      "source": [
        "output_len = rfid_label.shape[1]\n",
        "input_len = info_tensor.shape[1] * info_tensor.shape[2]\n",
        "\n",
        "input_len,output_len"
      ]
    },
    {
      "cell_type": "code",
      "execution_count": 36,
      "metadata": {},
      "outputs": [],
      "source": [
        "def data_func_eval(X_main, X_holdout, y_main, y_holdout, batch_size = 32):\n",
        "    # Compute abs max PER FEATURE on training data\n",
        "    abs_max = np.abs(X_main).max(axis=(0,1))  # max per feature over (samples, time)\n",
        "\n",
        "    # Prevent division by zero\n",
        "    abs_max[abs_max == 0] = 1.0\n",
        "\n",
        "    # Normalize per feature\n",
        "    X_train_norm = X_main / abs_max  # shape (N_train, 500, 4)\n",
        "    X_test_norm = X_holdout / abs_max    # shape (N_test, 500, 4)\n",
        "\n",
        "    # Now reshape for linear model\n",
        "    X_train_scaled = X_train_norm.reshape(len(X_train_norm), -1)  # (N_train, 2000)\n",
        "    X_test_scaled = X_test_norm.reshape(len(X_test_norm), -1)     # (N_test, 2000)\n",
        "\n",
        "    # Scale Y with StandardScaler (correct approach)\n",
        "    scaler_Y = StandardScaler()\n",
        "    y_main_scaled = scaler_Y.fit_transform(y_main)\n",
        "    y_holdout_scaled = scaler_Y.transform(y_holdout)\n",
        "\n",
        "    # Convert to tensors\n",
        "    X_train_tensor = torch.tensor(X_train_scaled, dtype=torch.float32)\n",
        "    X_test_tensor = torch.tensor(X_test_scaled, dtype=torch.float32)\n",
        "    y_main_tensor = torch.tensor(y_main_scaled, dtype=torch.float32)\n",
        "    y_holdout_tensor = torch.tensor(y_holdout_scaled, dtype=torch.float32)\n",
        "\n",
        "    # Dataloaders\n",
        "    train_data = TensorDataset(X_train_tensor, y_main_tensor)\n",
        "    test_data = TensorDataset(X_test_tensor, y_holdout_tensor)\n",
        "\n",
        "    train_loader = DataLoader(dataset=train_data, batch_size=batch_size, shuffle=True)\n",
        "    test_loader = DataLoader(dataset=test_data, batch_size=batch_size)\n",
        "\n",
        "    return train_loader, test_loader, scaler_Y"
      ]
    },
    {
      "cell_type": "code",
      "execution_count": 37,
      "metadata": {},
      "outputs": [],
      "source": [
        "def data_func_cv(input_array, labels, train_idx, val_idx, batch_size=32):\n",
        "    # Trim into subset\n",
        "    X_train_raw = input_array[train_idx]\n",
        "    X_test_raw = input_array[val_idx]\n",
        "    y_train = labels[train_idx, :]\n",
        "    y_test = labels[val_idx, :]\n",
        "\n",
        "    # Compute abs max PER FEATURE on training data\n",
        "    abs_max = np.abs(X_train_raw).max(axis=(0,1))  # max per feature over (samples, time)\n",
        "\n",
        "    # Prevent division by zero\n",
        "    abs_max[abs_max == 0] = 1.0\n",
        "\n",
        "    # Normalize per feature\n",
        "    X_train_norm = X_train_raw / abs_max  \n",
        "    X_test_norm = X_test_raw / abs_max  \n",
        "\n",
        "    # Now reshape for linear model\n",
        "    X_train_scaled = X_train_norm.reshape(len(X_train_norm), -1)  \n",
        "    X_test_scaled = X_test_norm.reshape(len(X_test_norm), -1)   \n",
        "\n",
        "    # Scale Y with StandardScaler (correct approach)\n",
        "    scaler_Y = StandardScaler()\n",
        "    y_train_scaled = scaler_Y.fit_transform(y_train)\n",
        "    y_test_scaled = scaler_Y.transform(y_test)\n",
        "\n",
        "    # Convert to tensors\n",
        "    X_train_tensor = torch.tensor(X_train_scaled, dtype=torch.float32)\n",
        "    X_test_tensor = torch.tensor(X_test_scaled, dtype=torch.float32)\n",
        "    y_train_tensor = torch.tensor(y_train_scaled, dtype=torch.float32)\n",
        "    y_test_tensor = torch.tensor(y_test_scaled, dtype=torch.float32)\n",
        "\n",
        "    # Dataloaders\n",
        "    train_data = TensorDataset(X_train_tensor, y_train_tensor)\n",
        "    test_data = TensorDataset(X_test_tensor, y_test_tensor)\n",
        "\n",
        "    train_loader = DataLoader(dataset=train_data, batch_size=batch_size, shuffle=True)\n",
        "    test_loader = DataLoader(dataset=test_data, batch_size=batch_size)\n",
        "\n",
        "    return train_loader, test_loader, scaler_Y\n"
      ]
    },
    {
      "cell_type": "markdown",
      "metadata": {},
      "source": [
        "***"
      ]
    },
    {
      "cell_type": "markdown",
      "metadata": {},
      "source": [
        "## Cross Validation "
      ]
    },
    {
      "cell_type": "markdown",
      "metadata": {},
      "source": [
        "Η κύρια συνάρτηση, δέχεται όλες τις παραμέτρους του μοντέλου, χωρίζει το dataset σε main και holdout, το main θα χρησιμοποιηθεί για το CV ενώ το holdout για το τελικό evaluation."
      ]
    },
    {
      "cell_type": "markdown",
      "metadata": {},
      "source": [
        "Χωρίζει το main dataset σε n_splits subsets , και προπονεί και τεστάρει το μοντέλο σε αυτά τα subsets έτσι ώστε να υπάρχει μία καλύτερη εικόνα των δεδομένων."
      ]
    },
    {
      "cell_type": "markdown",
      "metadata": {},
      "source": [
        "Μετά το CV, προπονεί το μοντέλο στο main dataset και το τεστάρει στο holdout που μέχρι τώρα δεν το έχει δει καθόλου το μοντέλο, αντιπροσωπέυοντας την real world case."
      ]
    },
    {
      "cell_type": "code",
      "execution_count": 38,
      "metadata": {},
      "outputs": [],
      "source": [
        "def cross_validation(input_array, labels, holdout_tensor,holdout_labels, n_splits, model, model_param, loss_fn, optimizer_1, optimizer_param, scheduler_param, early_stopper_param, epochs, device, verbose = True):\n",
        "    X_main, y_main, X_holdout, y_holdout = input_array, labels, holdout_tensor, holdout_labels\n",
        "\n",
        "    # Initialize KFold\n",
        "    kf = KFold(n_splits= n_splits, shuffle= True, random_state= 42)\n",
        "\n",
        "    # Initialize arrays to store losses and epochs\n",
        "    cv_losses = []\n",
        "    epoch_array = []\n",
        "\n",
        "    # Loop over the folds to perform cross-validation\n",
        "    for fold_idx, (train_idx, val_idx) in enumerate(kf.split(X_main)):\n",
        "        \n",
        "        print(f\"Fold {fold_idx + 1}\")\n",
        "\n",
        "        train_loader, test_loader, _ = data_func_cv(X_main, y_main, train_idx, val_idx, batch_size=BATCH_SIZE)\n",
        "        # Instantiate the model\n",
        "        model_0 = model(**model_param)\n",
        "\n",
        "        loss_fn = loss_fn\n",
        "        optimizer = optimizer_1(model_0.parameters(), **optimizer_param)\n",
        "\n",
        "        # Initialize the scheduler\n",
        "        scheduler = lr_scheduler.CosineAnnealingLR(optimizer, **scheduler_param)\n",
        "\n",
        "        # Initialize early stopping\n",
        "        early_stopper = EarlyStopping(**early_stopper_param)\n",
        "\n",
        "        # Load the data\n",
        "        arr1, arr2, best_loss, epoch_stop = train_test_model(epoch = epochs,model = model_0, train_loader= train_loader, test_loader= test_loader, loss_fn= loss_fn, optimizer=optimizer, scheduler= scheduler,early_stopper= early_stopper, device=device, test= True, verbose = verbose)\n",
        "        \n",
        "        if verbose == True:\n",
        "            plot_results(arr1, arr2)\n",
        "\n",
        "        cv_losses.append(best_loss)\n",
        "        epoch_array.append(epoch_stop)\n",
        "    \n",
        "    # Evaluate the final model\n",
        "    train_loader, test_loader, scaler_Y = data_func_eval(X_main, X_holdout, y_main, y_holdout, batch_size=BATCH_SIZE)\n",
        "    print(f\"Cross-Validation finished with mean error across {n_splits} subsets = {np.mean(cv_losses)}, evaluating final model...\")\n",
        "\n",
        "    # Instantiate the model\n",
        "    final_model = model(**model_param)\n",
        "\n",
        "    final_optimizer = optimizer_1(final_model.parameters(), **optimizer_param)\n",
        "\n",
        "    # Initialize the scheduler\n",
        "    scheduler = lr_scheduler.CosineAnnealingLR(final_optimizer, **scheduler_param)\n",
        "\n",
        "    # Load the data\n",
        "    arr1= train_test_model(epoch = np.max(epoch_array),model = final_model, train_loader= train_loader, test_loader= test_loader, loss_fn= loss_fn, optimizer=final_optimizer, scheduler= scheduler,early_stopper= early_stopper, device=device, test= False, verbose= verbose)\n",
        "\n",
        "    result = eval_model_3d(model= final_model, data_loader= test_loader, scaler= scaler_Y, verbose= True)\n",
        "    return result, final_model"
      ]
    },
    {
      "cell_type": "markdown",
      "metadata": {},
      "source": [
        "***"
      ]
    },
    {
      "cell_type": "markdown",
      "metadata": {},
      "source": [
        "## Siamese Network"
      ]
    },
    {
      "cell_type": "code",
      "execution_count": 44,
      "metadata": {},
      "outputs": [],
      "source": [
        "import torch\n",
        "import torch.nn as nn\n",
        "\n",
        "class SiameseNetwork(nn.Module):\n",
        "    def __init__(self, input_size, output_size, hidden_units=256, dropout_rate=0.1):\n",
        "        super(SiameseNetwork, self).__init__()\n",
        "        \n",
        "        # Shared encoder for both antennas\n",
        "        self.shared_network = nn.Sequential(\n",
        "            nn.Linear(input_size, hidden_units),\n",
        "            #nn.LayerNorm(hidden_units),\n",
        "            #nn.Dropout(dropout_rate),\n",
        "            nn.LeakyReLU(0.1),\n",
        "            \n",
        "            nn.Linear(hidden_units, hidden_units),\n",
        "            #nn.LayerNorm(hidden_units),\n",
        "            #nn.Dropout(dropout_rate),\n",
        "            nn.LeakyReLU(0.1),\n",
        "\n",
        "            nn.Linear(hidden_units, hidden_units // 2),\n",
        "            #nn.LayerNorm(hidden_units//2),\n",
        "            nn.LeakyReLU(0.1),\n",
        "        )\n",
        "\n",
        "        # Final layers after feature fusion\n",
        "        self.fc = nn.Sequential(\n",
        "            nn.Linear((hidden_units // 2), hidden_units//2),\n",
        "            nn.LeakyReLU(0.1),\n",
        "            nn.Linear(hidden_units//2, output_size)\n",
        "        )\n",
        "\n",
        "    def forward(self, antenna1, antenna2, antenna3):\n",
        "        # Encode both inputs\n",
        "        feat1 = self.shared_network(antenna1)\n",
        "        feat2 = self.shared_network(antenna2)\n",
        "        feat3 = self.shared_network(antenna3)\n",
        "\n",
        "        # Combine features with rich interactions\n",
        "        combined = torch.cat([\n",
        "            (feat1 + feat2 + feat3) / 3\n",
        "        ], dim=1)\n",
        "\n",
        "        # Final prediction\n",
        "        output = self.fc(combined)\n",
        "        return output"
      ]
    },
    {
      "cell_type": "code",
      "execution_count": 45,
      "metadata": {},
      "outputs": [
        {
          "name": "stdout",
          "output_type": "stream",
          "text": [
            "Fold 1\n"
          ]
        },
        {
          "name": "stderr",
          "output_type": "stream",
          "text": [
            "c:\\Users\\jimka\\AppData\\Local\\Programs\\Python\\Python311\\Lib\\site-packages\\torch\\optim\\lr_scheduler.py:243: UserWarning: The epoch parameter in `scheduler.step()` was not necessary and is being deprecated where possible. Please use `scheduler.step()` to step the scheduler. During the deprecation, if epoch is different from None, the closed form is used instead of the new chainable form, where available. Please open an issue if you are unable to replicate your use case: https://github.com/pytorch/pytorch/issues/new/choose.\n",
            "  warnings.warn(EPOCH_DEPRECATION_WARNING, UserWarning)\n"
          ]
        },
        {
          "name": "stdout",
          "output_type": "stream",
          "text": [
            "Epoch 0 | Loss train: 0.330095 | Loss test: 0.290974 | lr = 0.0008949222036187454\n",
            "Epoch 10 | Loss train: 0.144911 | Loss test: 0.157685 | lr = 0.0009791375448883913\n",
            "Epoch 20 | Loss train: 0.089874 | Loss test: 0.104264 | lr = 0.0009919403071362994\n",
            "Epoch 30 | Loss train: 0.055348 | Loss test: 0.074766 | lr = 0.0009969381457959068\n",
            "Epoch 40 | Loss train: 0.043135 | Loss test: 0.063698 | lr = 0.0009981395415115996\n",
            "Epoch 50 | Loss train: 0.030371 | Loss test: 0.055085 | lr = 0.0009990773986542855\n",
            "Epoch 60 | Loss train: 0.021258 | Loss test: 0.044125 | lr = 0.0009995479169106589\n",
            "Epoch 70 | Loss train: 0.020430 | Loss test: 0.051659 | lr = 0.0009995824538047606\n",
            "Epoch 80 | Loss train: 0.017387 | Loss test: 0.044927 | lr = 0.0009996975690565143\n",
            "Epoch 90 | Loss train: 0.019744 | Loss test: 0.048194 | lr = 0.0009996100176877405\n"
          ]
        },
        {
          "ename": "KeyboardInterrupt",
          "evalue": "",
          "output_type": "error",
          "traceback": [
            "\u001b[1;31m---------------------------------------------------------------------------\u001b[0m",
            "\u001b[1;31mKeyboardInterrupt\u001b[0m                         Traceback (most recent call last)",
            "Cell \u001b[1;32mIn[45], line 12\u001b[0m\n\u001b[0;32m      9\u001b[0m scheduler_params \u001b[38;5;241m=\u001b[39m {\u001b[38;5;124m'\u001b[39m\u001b[38;5;124mT_max\u001b[39m\u001b[38;5;124m'\u001b[39m: \u001b[38;5;241m100\u001b[39m, \u001b[38;5;124m'\u001b[39m\u001b[38;5;124meta_min\u001b[39m\u001b[38;5;124m'\u001b[39m: \u001b[38;5;241m1e-5\u001b[39m}  \u001b[38;5;66;03m# For CosineAnnealingLR\u001b[39;00m\n\u001b[0;32m     10\u001b[0m early_stop_params \u001b[38;5;241m=\u001b[39m {\u001b[38;5;124m'\u001b[39m\u001b[38;5;124mpatience\u001b[39m\u001b[38;5;124m'\u001b[39m: \u001b[38;5;241m50\u001b[39m, \u001b[38;5;124m'\u001b[39m\u001b[38;5;124mmin_delta\u001b[39m\u001b[38;5;124m'\u001b[39m: \u001b[38;5;241m1e-5\u001b[39m, \u001b[38;5;124m'\u001b[39m\u001b[38;5;124mverbose\u001b[39m\u001b[38;5;124m'\u001b[39m: \u001b[38;5;28;01mFalse\u001b[39;00m, \u001b[38;5;124m'\u001b[39m\u001b[38;5;124mpath\u001b[39m\u001b[38;5;124m'\u001b[39m: \u001b[38;5;124m'\u001b[39m\u001b[38;5;124mtemp_model.pth\u001b[39m\u001b[38;5;124m'\u001b[39m}\n\u001b[1;32m---> 12\u001b[0m siameseNetwork, trained_model \u001b[38;5;241m=\u001b[39m \u001b[43mcross_validation\u001b[49m\u001b[43m(\u001b[49m\u001b[43minfo_tensor\u001b[49m\u001b[43m,\u001b[49m\u001b[43m \u001b[49m\u001b[43mrfid_label\u001b[49m\u001b[43m,\u001b[49m\u001b[43mholdout_tensor\u001b[49m\u001b[43m,\u001b[49m\u001b[43mholdout_labels\u001b[49m\u001b[43m,\u001b[49m\u001b[43m \u001b[49m\u001b[43mn_splits\u001b[49m\u001b[38;5;241;43m=\u001b[39;49m\u001b[43mnum_splits\u001b[49m\u001b[43m,\u001b[49m\u001b[43m \u001b[49m\u001b[43mmodel\u001b[49m\u001b[38;5;241;43m=\u001b[39;49m\u001b[43m \u001b[49m\u001b[43mSiameseNetwork\u001b[49m\u001b[43m,\u001b[49m\u001b[43m \u001b[49m\u001b[43mmodel_param\u001b[49m\u001b[38;5;241;43m=\u001b[39;49m\u001b[43m \u001b[49m\u001b[43mmodel_params\u001b[49m\u001b[43m,\u001b[49m\u001b[43m \u001b[49m\u001b[43mloss_fn\u001b[49m\u001b[38;5;241;43m=\u001b[39;49m\u001b[43m \u001b[49m\u001b[43mloss_fn\u001b[49m\u001b[43m,\u001b[49m\u001b[43m \u001b[49m\u001b[43moptimizer_1\u001b[49m\u001b[38;5;241;43m=\u001b[39;49m\u001b[43m \u001b[49m\u001b[43moptim\u001b[49m\u001b[43m,\u001b[49m\u001b[43m \u001b[49m\u001b[43moptimizer_param\u001b[49m\u001b[38;5;241;43m=\u001b[39;49m\u001b[43m \u001b[49m\u001b[43moptimizer_params\u001b[49m\u001b[43m,\u001b[49m\u001b[43m \u001b[49m\u001b[43mscheduler_param\u001b[49m\u001b[38;5;241;43m=\u001b[39;49m\u001b[43m \u001b[49m\u001b[43mscheduler_params\u001b[49m\u001b[43m,\u001b[49m\u001b[43m \u001b[49m\u001b[43mearly_stopper_param\u001b[49m\u001b[38;5;241;43m=\u001b[39;49m\u001b[43m \u001b[49m\u001b[43mearly_stop_params\u001b[49m\u001b[43m,\u001b[49m\u001b[43m \u001b[49m\u001b[43mepochs\u001b[49m\u001b[38;5;241;43m=\u001b[39;49m\u001b[43m \u001b[49m\u001b[43mepoch\u001b[49m\u001b[43m,\u001b[49m\u001b[43m \u001b[49m\u001b[43mdevice\u001b[49m\u001b[38;5;241;43m=\u001b[39;49m\u001b[43mdevice\u001b[49m\u001b[43m)\u001b[49m\n",
            "Cell \u001b[1;32mIn[38], line 30\u001b[0m, in \u001b[0;36mcross_validation\u001b[1;34m(input_array, labels, holdout_tensor, holdout_labels, n_splits, model, model_param, loss_fn, optimizer_1, optimizer_param, scheduler_param, early_stopper_param, epochs, device, verbose)\u001b[0m\n\u001b[0;32m     27\u001b[0m early_stopper \u001b[38;5;241m=\u001b[39m EarlyStopping(\u001b[38;5;241m*\u001b[39m\u001b[38;5;241m*\u001b[39mearly_stopper_param)\n\u001b[0;32m     29\u001b[0m \u001b[38;5;66;03m# Load the data\u001b[39;00m\n\u001b[1;32m---> 30\u001b[0m arr1, arr2, best_loss, epoch_stop \u001b[38;5;241m=\u001b[39m \u001b[43mtrain_test_model\u001b[49m\u001b[43m(\u001b[49m\u001b[43mepoch\u001b[49m\u001b[43m \u001b[49m\u001b[38;5;241;43m=\u001b[39;49m\u001b[43m \u001b[49m\u001b[43mepochs\u001b[49m\u001b[43m,\u001b[49m\u001b[43mmodel\u001b[49m\u001b[43m \u001b[49m\u001b[38;5;241;43m=\u001b[39;49m\u001b[43m \u001b[49m\u001b[43mmodel_0\u001b[49m\u001b[43m,\u001b[49m\u001b[43m \u001b[49m\u001b[43mtrain_loader\u001b[49m\u001b[38;5;241;43m=\u001b[39;49m\u001b[43m \u001b[49m\u001b[43mtrain_loader\u001b[49m\u001b[43m,\u001b[49m\u001b[43m \u001b[49m\u001b[43mtest_loader\u001b[49m\u001b[38;5;241;43m=\u001b[39;49m\u001b[43m \u001b[49m\u001b[43mtest_loader\u001b[49m\u001b[43m,\u001b[49m\u001b[43m \u001b[49m\u001b[43mloss_fn\u001b[49m\u001b[38;5;241;43m=\u001b[39;49m\u001b[43m \u001b[49m\u001b[43mloss_fn\u001b[49m\u001b[43m,\u001b[49m\u001b[43m \u001b[49m\u001b[43moptimizer\u001b[49m\u001b[38;5;241;43m=\u001b[39;49m\u001b[43moptimizer\u001b[49m\u001b[43m,\u001b[49m\u001b[43m \u001b[49m\u001b[43mscheduler\u001b[49m\u001b[38;5;241;43m=\u001b[39;49m\u001b[43m \u001b[49m\u001b[43mscheduler\u001b[49m\u001b[43m,\u001b[49m\u001b[43mearly_stopper\u001b[49m\u001b[38;5;241;43m=\u001b[39;49m\u001b[43m \u001b[49m\u001b[43mearly_stopper\u001b[49m\u001b[43m,\u001b[49m\u001b[43m \u001b[49m\u001b[43mdevice\u001b[49m\u001b[38;5;241;43m=\u001b[39;49m\u001b[43mdevice\u001b[49m\u001b[43m,\u001b[49m\u001b[43m \u001b[49m\u001b[43mtest\u001b[49m\u001b[38;5;241;43m=\u001b[39;49m\u001b[43m \u001b[49m\u001b[38;5;28;43;01mTrue\u001b[39;49;00m\u001b[43m,\u001b[49m\u001b[43m \u001b[49m\u001b[43mverbose\u001b[49m\u001b[43m \u001b[49m\u001b[38;5;241;43m=\u001b[39;49m\u001b[43m \u001b[49m\u001b[43mverbose\u001b[49m\u001b[43m)\u001b[49m\n\u001b[0;32m     32\u001b[0m \u001b[38;5;28;01mif\u001b[39;00m verbose \u001b[38;5;241m==\u001b[39m \u001b[38;5;28;01mTrue\u001b[39;00m:\n\u001b[0;32m     33\u001b[0m     plot_results(arr1, arr2)\n",
            "Cell \u001b[1;32mIn[30], line 20\u001b[0m, in \u001b[0;36mtrain_test_model\u001b[1;34m(epoch, model, train_loader, test_loader, loss_fn, optimizer, scheduler, early_stopper, device, test, verbose)\u001b[0m\n\u001b[0;32m     17\u001b[0m \u001b[38;5;28;01mif\u001b[39;00m(test):\n\u001b[0;32m     18\u001b[0m     \u001b[38;5;28;01mfor\u001b[39;00m epochs \u001b[38;5;129;01min\u001b[39;00m \u001b[38;5;28mrange\u001b[39m(epoch):\n\u001b[0;32m     19\u001b[0m         \u001b[38;5;66;03m# Train for one epoch\u001b[39;00m\n\u001b[1;32m---> 20\u001b[0m         epoch_loss \u001b[38;5;241m=\u001b[39m \u001b[43mtrain_step\u001b[49m\u001b[43m(\u001b[49m\u001b[43mmodel\u001b[49m\u001b[43m,\u001b[49m\u001b[43m \u001b[49m\u001b[43mtrain_loader\u001b[49m\u001b[43m,\u001b[49m\u001b[43m \u001b[49m\u001b[43mloss_fn\u001b[49m\u001b[43m,\u001b[49m\u001b[43m \u001b[49m\u001b[43moptimizer\u001b[49m\u001b[43m,\u001b[49m\u001b[43m \u001b[49m\u001b[43mdevice\u001b[49m\u001b[43m)\u001b[49m\n\u001b[0;32m     21\u001b[0m         train_loss_arr\u001b[38;5;241m.\u001b[39mappend(epoch_loss \u001b[38;5;241m/\u001b[39m \u001b[38;5;28mlen\u001b[39m(train_loader))\n\u001b[0;32m     23\u001b[0m         \u001b[38;5;66;03m# Scheduler update\u001b[39;00m\n",
            "Cell \u001b[1;32mIn[27], line 19\u001b[0m, in \u001b[0;36mtrain_step\u001b[1;34m(model, data_loader, loss_fn, optimizer, device)\u001b[0m\n\u001b[0;32m     17\u001b[0m antenna2 \u001b[38;5;241m=\u001b[39m X_batch[:,size: \u001b[38;5;241m2\u001b[39m\u001b[38;5;241m*\u001b[39m size]\n\u001b[0;32m     18\u001b[0m antenna3 \u001b[38;5;241m=\u001b[39m X_batch[:,\u001b[38;5;241m2\u001b[39m\u001b[38;5;241m*\u001b[39msize:]\n\u001b[1;32m---> 19\u001b[0m y_pred \u001b[38;5;241m=\u001b[39m \u001b[43mmodel\u001b[49m\u001b[43m(\u001b[49m\u001b[43mantenna1\u001b[49m\u001b[43m,\u001b[49m\u001b[43m \u001b[49m\u001b[43mantenna2\u001b[49m\u001b[43m,\u001b[49m\u001b[43m \u001b[49m\u001b[43mantenna3\u001b[49m\u001b[43m)\u001b[49m\n\u001b[0;32m     21\u001b[0m \u001b[38;5;66;03m# Compute loss\u001b[39;00m\n\u001b[0;32m     22\u001b[0m loss \u001b[38;5;241m=\u001b[39m loss_fn(y_pred, y_batch)\n",
            "File \u001b[1;32mc:\\Users\\jimka\\AppData\\Local\\Programs\\Python\\Python311\\Lib\\site-packages\\torch\\nn\\modules\\module.py:1739\u001b[0m, in \u001b[0;36mModule._wrapped_call_impl\u001b[1;34m(self, *args, **kwargs)\u001b[0m\n\u001b[0;32m   1737\u001b[0m     \u001b[38;5;28;01mreturn\u001b[39;00m \u001b[38;5;28mself\u001b[39m\u001b[38;5;241m.\u001b[39m_compiled_call_impl(\u001b[38;5;241m*\u001b[39margs, \u001b[38;5;241m*\u001b[39m\u001b[38;5;241m*\u001b[39mkwargs)  \u001b[38;5;66;03m# type: ignore[misc]\u001b[39;00m\n\u001b[0;32m   1738\u001b[0m \u001b[38;5;28;01melse\u001b[39;00m:\n\u001b[1;32m-> 1739\u001b[0m     \u001b[38;5;28;01mreturn\u001b[39;00m \u001b[38;5;28;43mself\u001b[39;49m\u001b[38;5;241;43m.\u001b[39;49m\u001b[43m_call_impl\u001b[49m\u001b[43m(\u001b[49m\u001b[38;5;241;43m*\u001b[39;49m\u001b[43margs\u001b[49m\u001b[43m,\u001b[49m\u001b[43m \u001b[49m\u001b[38;5;241;43m*\u001b[39;49m\u001b[38;5;241;43m*\u001b[39;49m\u001b[43mkwargs\u001b[49m\u001b[43m)\u001b[49m\n",
            "File \u001b[1;32mc:\\Users\\jimka\\AppData\\Local\\Programs\\Python\\Python311\\Lib\\site-packages\\torch\\nn\\modules\\module.py:1750\u001b[0m, in \u001b[0;36mModule._call_impl\u001b[1;34m(self, *args, **kwargs)\u001b[0m\n\u001b[0;32m   1745\u001b[0m \u001b[38;5;66;03m# If we don't have any hooks, we want to skip the rest of the logic in\u001b[39;00m\n\u001b[0;32m   1746\u001b[0m \u001b[38;5;66;03m# this function, and just call forward.\u001b[39;00m\n\u001b[0;32m   1747\u001b[0m \u001b[38;5;28;01mif\u001b[39;00m \u001b[38;5;129;01mnot\u001b[39;00m (\u001b[38;5;28mself\u001b[39m\u001b[38;5;241m.\u001b[39m_backward_hooks \u001b[38;5;129;01mor\u001b[39;00m \u001b[38;5;28mself\u001b[39m\u001b[38;5;241m.\u001b[39m_backward_pre_hooks \u001b[38;5;129;01mor\u001b[39;00m \u001b[38;5;28mself\u001b[39m\u001b[38;5;241m.\u001b[39m_forward_hooks \u001b[38;5;129;01mor\u001b[39;00m \u001b[38;5;28mself\u001b[39m\u001b[38;5;241m.\u001b[39m_forward_pre_hooks\n\u001b[0;32m   1748\u001b[0m         \u001b[38;5;129;01mor\u001b[39;00m _global_backward_pre_hooks \u001b[38;5;129;01mor\u001b[39;00m _global_backward_hooks\n\u001b[0;32m   1749\u001b[0m         \u001b[38;5;129;01mor\u001b[39;00m _global_forward_hooks \u001b[38;5;129;01mor\u001b[39;00m _global_forward_pre_hooks):\n\u001b[1;32m-> 1750\u001b[0m     \u001b[38;5;28;01mreturn\u001b[39;00m \u001b[43mforward_call\u001b[49m\u001b[43m(\u001b[49m\u001b[38;5;241;43m*\u001b[39;49m\u001b[43margs\u001b[49m\u001b[43m,\u001b[49m\u001b[43m \u001b[49m\u001b[38;5;241;43m*\u001b[39;49m\u001b[38;5;241;43m*\u001b[39;49m\u001b[43mkwargs\u001b[49m\u001b[43m)\u001b[49m\n\u001b[0;32m   1752\u001b[0m result \u001b[38;5;241m=\u001b[39m \u001b[38;5;28;01mNone\u001b[39;00m\n\u001b[0;32m   1753\u001b[0m called_always_called_hooks \u001b[38;5;241m=\u001b[39m \u001b[38;5;28mset\u001b[39m()\n",
            "Cell \u001b[1;32mIn[44], line 34\u001b[0m, in \u001b[0;36mSiameseNetwork.forward\u001b[1;34m(self, antenna1, antenna2, antenna3)\u001b[0m\n\u001b[0;32m     32\u001b[0m \u001b[38;5;28;01mdef\u001b[39;00m\u001b[38;5;250m \u001b[39m\u001b[38;5;21mforward\u001b[39m(\u001b[38;5;28mself\u001b[39m, antenna1, antenna2, antenna3):\n\u001b[0;32m     33\u001b[0m     \u001b[38;5;66;03m# Encode both inputs\u001b[39;00m\n\u001b[1;32m---> 34\u001b[0m     feat1 \u001b[38;5;241m=\u001b[39m \u001b[38;5;28;43mself\u001b[39;49m\u001b[38;5;241;43m.\u001b[39;49m\u001b[43mshared_network\u001b[49m\u001b[43m(\u001b[49m\u001b[43mantenna1\u001b[49m\u001b[43m)\u001b[49m\n\u001b[0;32m     35\u001b[0m     feat2 \u001b[38;5;241m=\u001b[39m \u001b[38;5;28mself\u001b[39m\u001b[38;5;241m.\u001b[39mshared_network(antenna2)\n\u001b[0;32m     36\u001b[0m     feat3 \u001b[38;5;241m=\u001b[39m \u001b[38;5;28mself\u001b[39m\u001b[38;5;241m.\u001b[39mshared_network(antenna3)\n",
            "File \u001b[1;32mc:\\Users\\jimka\\AppData\\Local\\Programs\\Python\\Python311\\Lib\\site-packages\\torch\\nn\\modules\\module.py:1739\u001b[0m, in \u001b[0;36mModule._wrapped_call_impl\u001b[1;34m(self, *args, **kwargs)\u001b[0m\n\u001b[0;32m   1737\u001b[0m     \u001b[38;5;28;01mreturn\u001b[39;00m \u001b[38;5;28mself\u001b[39m\u001b[38;5;241m.\u001b[39m_compiled_call_impl(\u001b[38;5;241m*\u001b[39margs, \u001b[38;5;241m*\u001b[39m\u001b[38;5;241m*\u001b[39mkwargs)  \u001b[38;5;66;03m# type: ignore[misc]\u001b[39;00m\n\u001b[0;32m   1738\u001b[0m \u001b[38;5;28;01melse\u001b[39;00m:\n\u001b[1;32m-> 1739\u001b[0m     \u001b[38;5;28;01mreturn\u001b[39;00m \u001b[38;5;28;43mself\u001b[39;49m\u001b[38;5;241;43m.\u001b[39;49m\u001b[43m_call_impl\u001b[49m\u001b[43m(\u001b[49m\u001b[38;5;241;43m*\u001b[39;49m\u001b[43margs\u001b[49m\u001b[43m,\u001b[49m\u001b[43m \u001b[49m\u001b[38;5;241;43m*\u001b[39;49m\u001b[38;5;241;43m*\u001b[39;49m\u001b[43mkwargs\u001b[49m\u001b[43m)\u001b[49m\n",
            "File \u001b[1;32mc:\\Users\\jimka\\AppData\\Local\\Programs\\Python\\Python311\\Lib\\site-packages\\torch\\nn\\modules\\module.py:1750\u001b[0m, in \u001b[0;36mModule._call_impl\u001b[1;34m(self, *args, **kwargs)\u001b[0m\n\u001b[0;32m   1745\u001b[0m \u001b[38;5;66;03m# If we don't have any hooks, we want to skip the rest of the logic in\u001b[39;00m\n\u001b[0;32m   1746\u001b[0m \u001b[38;5;66;03m# this function, and just call forward.\u001b[39;00m\n\u001b[0;32m   1747\u001b[0m \u001b[38;5;28;01mif\u001b[39;00m \u001b[38;5;129;01mnot\u001b[39;00m (\u001b[38;5;28mself\u001b[39m\u001b[38;5;241m.\u001b[39m_backward_hooks \u001b[38;5;129;01mor\u001b[39;00m \u001b[38;5;28mself\u001b[39m\u001b[38;5;241m.\u001b[39m_backward_pre_hooks \u001b[38;5;129;01mor\u001b[39;00m \u001b[38;5;28mself\u001b[39m\u001b[38;5;241m.\u001b[39m_forward_hooks \u001b[38;5;129;01mor\u001b[39;00m \u001b[38;5;28mself\u001b[39m\u001b[38;5;241m.\u001b[39m_forward_pre_hooks\n\u001b[0;32m   1748\u001b[0m         \u001b[38;5;129;01mor\u001b[39;00m _global_backward_pre_hooks \u001b[38;5;129;01mor\u001b[39;00m _global_backward_hooks\n\u001b[0;32m   1749\u001b[0m         \u001b[38;5;129;01mor\u001b[39;00m _global_forward_hooks \u001b[38;5;129;01mor\u001b[39;00m _global_forward_pre_hooks):\n\u001b[1;32m-> 1750\u001b[0m     \u001b[38;5;28;01mreturn\u001b[39;00m \u001b[43mforward_call\u001b[49m\u001b[43m(\u001b[49m\u001b[38;5;241;43m*\u001b[39;49m\u001b[43margs\u001b[49m\u001b[43m,\u001b[49m\u001b[43m \u001b[49m\u001b[38;5;241;43m*\u001b[39;49m\u001b[38;5;241;43m*\u001b[39;49m\u001b[43mkwargs\u001b[49m\u001b[43m)\u001b[49m\n\u001b[0;32m   1752\u001b[0m result \u001b[38;5;241m=\u001b[39m \u001b[38;5;28;01mNone\u001b[39;00m\n\u001b[0;32m   1753\u001b[0m called_always_called_hooks \u001b[38;5;241m=\u001b[39m \u001b[38;5;28mset\u001b[39m()\n",
            "File \u001b[1;32mc:\\Users\\jimka\\AppData\\Local\\Programs\\Python\\Python311\\Lib\\site-packages\\torch\\nn\\modules\\container.py:250\u001b[0m, in \u001b[0;36mSequential.forward\u001b[1;34m(self, input)\u001b[0m\n\u001b[0;32m    248\u001b[0m \u001b[38;5;28;01mdef\u001b[39;00m\u001b[38;5;250m \u001b[39m\u001b[38;5;21mforward\u001b[39m(\u001b[38;5;28mself\u001b[39m, \u001b[38;5;28minput\u001b[39m):\n\u001b[0;32m    249\u001b[0m     \u001b[38;5;28;01mfor\u001b[39;00m module \u001b[38;5;129;01min\u001b[39;00m \u001b[38;5;28mself\u001b[39m:\n\u001b[1;32m--> 250\u001b[0m         \u001b[38;5;28minput\u001b[39m \u001b[38;5;241m=\u001b[39m \u001b[43mmodule\u001b[49m\u001b[43m(\u001b[49m\u001b[38;5;28;43minput\u001b[39;49m\u001b[43m)\u001b[49m\n\u001b[0;32m    251\u001b[0m     \u001b[38;5;28;01mreturn\u001b[39;00m \u001b[38;5;28minput\u001b[39m\n",
            "File \u001b[1;32mc:\\Users\\jimka\\AppData\\Local\\Programs\\Python\\Python311\\Lib\\site-packages\\torch\\nn\\modules\\module.py:1739\u001b[0m, in \u001b[0;36mModule._wrapped_call_impl\u001b[1;34m(self, *args, **kwargs)\u001b[0m\n\u001b[0;32m   1737\u001b[0m     \u001b[38;5;28;01mreturn\u001b[39;00m \u001b[38;5;28mself\u001b[39m\u001b[38;5;241m.\u001b[39m_compiled_call_impl(\u001b[38;5;241m*\u001b[39margs, \u001b[38;5;241m*\u001b[39m\u001b[38;5;241m*\u001b[39mkwargs)  \u001b[38;5;66;03m# type: ignore[misc]\u001b[39;00m\n\u001b[0;32m   1738\u001b[0m \u001b[38;5;28;01melse\u001b[39;00m:\n\u001b[1;32m-> 1739\u001b[0m     \u001b[38;5;28;01mreturn\u001b[39;00m \u001b[38;5;28;43mself\u001b[39;49m\u001b[38;5;241;43m.\u001b[39;49m\u001b[43m_call_impl\u001b[49m\u001b[43m(\u001b[49m\u001b[38;5;241;43m*\u001b[39;49m\u001b[43margs\u001b[49m\u001b[43m,\u001b[49m\u001b[43m \u001b[49m\u001b[38;5;241;43m*\u001b[39;49m\u001b[38;5;241;43m*\u001b[39;49m\u001b[43mkwargs\u001b[49m\u001b[43m)\u001b[49m\n",
            "File \u001b[1;32mc:\\Users\\jimka\\AppData\\Local\\Programs\\Python\\Python311\\Lib\\site-packages\\torch\\nn\\modules\\module.py:1750\u001b[0m, in \u001b[0;36mModule._call_impl\u001b[1;34m(self, *args, **kwargs)\u001b[0m\n\u001b[0;32m   1745\u001b[0m \u001b[38;5;66;03m# If we don't have any hooks, we want to skip the rest of the logic in\u001b[39;00m\n\u001b[0;32m   1746\u001b[0m \u001b[38;5;66;03m# this function, and just call forward.\u001b[39;00m\n\u001b[0;32m   1747\u001b[0m \u001b[38;5;28;01mif\u001b[39;00m \u001b[38;5;129;01mnot\u001b[39;00m (\u001b[38;5;28mself\u001b[39m\u001b[38;5;241m.\u001b[39m_backward_hooks \u001b[38;5;129;01mor\u001b[39;00m \u001b[38;5;28mself\u001b[39m\u001b[38;5;241m.\u001b[39m_backward_pre_hooks \u001b[38;5;129;01mor\u001b[39;00m \u001b[38;5;28mself\u001b[39m\u001b[38;5;241m.\u001b[39m_forward_hooks \u001b[38;5;129;01mor\u001b[39;00m \u001b[38;5;28mself\u001b[39m\u001b[38;5;241m.\u001b[39m_forward_pre_hooks\n\u001b[0;32m   1748\u001b[0m         \u001b[38;5;129;01mor\u001b[39;00m _global_backward_pre_hooks \u001b[38;5;129;01mor\u001b[39;00m _global_backward_hooks\n\u001b[0;32m   1749\u001b[0m         \u001b[38;5;129;01mor\u001b[39;00m _global_forward_hooks \u001b[38;5;129;01mor\u001b[39;00m _global_forward_pre_hooks):\n\u001b[1;32m-> 1750\u001b[0m     \u001b[38;5;28;01mreturn\u001b[39;00m \u001b[43mforward_call\u001b[49m\u001b[43m(\u001b[49m\u001b[38;5;241;43m*\u001b[39;49m\u001b[43margs\u001b[49m\u001b[43m,\u001b[49m\u001b[43m \u001b[49m\u001b[38;5;241;43m*\u001b[39;49m\u001b[38;5;241;43m*\u001b[39;49m\u001b[43mkwargs\u001b[49m\u001b[43m)\u001b[49m\n\u001b[0;32m   1752\u001b[0m result \u001b[38;5;241m=\u001b[39m \u001b[38;5;28;01mNone\u001b[39;00m\n\u001b[0;32m   1753\u001b[0m called_always_called_hooks \u001b[38;5;241m=\u001b[39m \u001b[38;5;28mset\u001b[39m()\n",
            "File \u001b[1;32mc:\\Users\\jimka\\AppData\\Local\\Programs\\Python\\Python311\\Lib\\site-packages\\torch\\nn\\modules\\linear.py:125\u001b[0m, in \u001b[0;36mLinear.forward\u001b[1;34m(self, input)\u001b[0m\n\u001b[0;32m    124\u001b[0m \u001b[38;5;28;01mdef\u001b[39;00m\u001b[38;5;250m \u001b[39m\u001b[38;5;21mforward\u001b[39m(\u001b[38;5;28mself\u001b[39m, \u001b[38;5;28minput\u001b[39m: Tensor) \u001b[38;5;241m-\u001b[39m\u001b[38;5;241m>\u001b[39m Tensor:\n\u001b[1;32m--> 125\u001b[0m     \u001b[38;5;28;01mreturn\u001b[39;00m \u001b[43mF\u001b[49m\u001b[38;5;241;43m.\u001b[39;49m\u001b[43mlinear\u001b[49m\u001b[43m(\u001b[49m\u001b[38;5;28;43minput\u001b[39;49m\u001b[43m,\u001b[49m\u001b[43m \u001b[49m\u001b[38;5;28;43mself\u001b[39;49m\u001b[38;5;241;43m.\u001b[39;49m\u001b[43mweight\u001b[49m\u001b[43m,\u001b[49m\u001b[43m \u001b[49m\u001b[38;5;28;43mself\u001b[39;49m\u001b[38;5;241;43m.\u001b[39;49m\u001b[43mbias\u001b[49m\u001b[43m)\u001b[49m\n",
            "\u001b[1;31mKeyboardInterrupt\u001b[0m: "
          ]
        }
      ],
      "source": [
        "#loss_fn = nn.MSELoss()\n",
        "loss_fn = nn.HuberLoss()\n",
        "optim = torch.optim.Adam\n",
        "\n",
        "num_splits = 2\n",
        "epoch = 300\n",
        "model_params = {'input_size': int(input_len/3), 'output_size': output_len}\n",
        "optimizer_params = {'lr': 1e-3, 'weight_decay': 1e-4}\n",
        "scheduler_params = {'T_max': 100, 'eta_min': 1e-5}  # For CosineAnnealingLR\n",
        "early_stop_params = {'patience': 50, 'min_delta': 1e-5, 'verbose': False, 'path': 'temp_model.pth'}\n",
        "\n",
        "siameseNetwork, trained_model = cross_validation(info_tensor, rfid_label,holdout_tensor,holdout_labels, n_splits=num_splits, model= SiameseNetwork, model_param= model_params, loss_fn= loss_fn, optimizer_1= optim, optimizer_param= optimizer_params, scheduler_param= scheduler_params, early_stopper_param= early_stop_params, epochs= epoch, device=device)"
      ]
    },
    {
      "cell_type": "code",
      "execution_count": 41,
      "metadata": {},
      "outputs": [
        {
          "data": {
            "text/plain": [
              "tensor([[1081.9419,   58.2106,  232.5885]], grad_fn=<AddmmBackward0>)"
            ]
          },
          "execution_count": 41,
          "metadata": {},
          "output_type": "execute_result"
        }
      ],
      "source": [
        "trained_model(torch.Tensor(info_tensor[0,:,:4].reshape(2000,-1).T) , torch.Tensor(info_tensor[0,:,4:8].reshape(2000,-1).T), torch.Tensor(info_tensor[0,:,8:].reshape(2000,-1).T))"
      ]
    },
    {
      "cell_type": "code",
      "execution_count": 42,
      "metadata": {},
      "outputs": [
        {
          "data": {
            "text/plain": [
              "tensor([[1081.9419,   58.2106,  232.5883]], grad_fn=<AddmmBackward0>)"
            ]
          },
          "execution_count": 42,
          "metadata": {},
          "output_type": "execute_result"
        }
      ],
      "source": [
        "trained_model(torch.Tensor(info_tensor[0,:,:4].reshape(2000,-1).T) , torch.Tensor(info_tensor[0,:,8:].reshape(2000,-1).T), torch.Tensor(info_tensor[0,:,4:8].reshape(2000,-1).T))"
      ]
    },
    {
      "cell_type": "code",
      "execution_count": 43,
      "metadata": {},
      "outputs": [
        {
          "data": {
            "text/plain": [
              "array([160.54328362,  54.3956607 ,  81.5       ])"
            ]
          },
          "execution_count": 43,
          "metadata": {},
          "output_type": "execute_result"
        }
      ],
      "source": [
        "rfid_label[0]"
      ]
    },
    {
      "cell_type": "markdown",
      "metadata": {},
      "source": [
        "Η απόκλιση ευθύνεται στο ότι η είσοδος δεν είναι scaled whatever"
      ]
    },
    {
      "attachments": {
        "image.png": {
          "image/png": "[encoded data removed]"
        }
      },
      "cell_type": "markdown",
      "metadata": {},
      "source": [
        "![image.png](attachment:image.png)"
      ]
    }
  ],
  "metadata": {
    "kernelspec": {
      "display_name": "Python 3",
      "language": "python",
      "name": "python3"
    },
    "language_info": {
      "codemirror_mode": {
        "name": "ipython",
        "version": 3
      },
      "file_extension": ".py",
      "mimetype": "text/x-python",
      "name": "python",
      "nbconvert_exporter": "python",
      "pygments_lexer": "ipython3",
      "version": "3.11.9"
    }
  },
  "nbformat": 4,
  "nbformat_minor": 2
}
