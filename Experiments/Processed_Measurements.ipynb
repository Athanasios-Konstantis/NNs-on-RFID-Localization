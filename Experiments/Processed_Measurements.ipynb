{
  "cells": [
    {
      "cell_type": "markdown",
      "metadata": {},
      "source": [
        "# Μετατροπή μετρήσεων"
      ]
    },
    {
      "cell_type": "markdown",
      "metadata": {},
      "source": [
        "Θα μελετήσουμε τον τρόπο με τον οποίο θα μετατρέψουμε τις μετρήσεις στους αντίστοιχους φακέλους. Συγκεκριμένα, θέλουμε κάθε RFID tag να έχει συντεταγμένες ως προς το επιλεγμένο $(0,0)$, και κάθε καμπύλη να έχει μεταφερθεί στο $(0,0)$"
      ]
    },
    {
      "cell_type": "markdown",
      "metadata": {},
      "source": [
        "****"
      ]
    },
    {
      "cell_type": "markdown",
      "metadata": {},
      "source": [
        "Θέλουμε να μετατρέψουμε κάθε φάκελο μετρήσεων. Σε κάθε διαδρομή (πείραμα) θα επιλέξουμε την κεραία με τα περισσότερα δείγματα για ένα tag και θα την μεταφέρουμε στο $(0,0)$."
      ]
    },
    {
      "cell_type": "markdown",
      "metadata": {},
      "source": [
        "Με βάση την μετατροπή αυτής της τροχιάς θα μετατρέψουμε τις συντεταγμένες του tag στον φάκελο ```Transformed_Coordinates.xlsx``` κρατώντας και τις αρχικές συντεταγμένες για ευκολία."
      ]
    },
    {
      "cell_type": "markdown",
      "metadata": {},
      "source": [
        "Για το ίδιο tag, πιθανόν να υπάρχουν και άλλες κεραίες που θα το έχουν διαβάσει. Οι τροχιές που θα έχουν δημιουργηθεί από αυτές (τις κεραίες) θα μετατοπιστούν με βάση τις συντεταγμένες της κεραίας με τα περισσότερα δείγματα."
      ]
    },
    {
      "cell_type": "markdown",
      "metadata": {},
      "source": [
        "***"
      ]
    },
    {
      "cell_type": "markdown",
      "metadata": {},
      "source": [
        "## Συνάρτηση στροφής"
      ]
    },
    {
      "cell_type": "markdown",
      "metadata": {},
      "source": [
        "Η συνάρτηση στροφής που θα χρησιμοποιηθεί είναι η παρακάτω και η διαδικασία έχει ήδη περιγραφεί σε προηγούμενο notebook"
      ]
    },
    {
      "cell_type": "code",
      "execution_count": 1,
      "metadata": {},
      "outputs": [],
      "source": [
        "import matplotlib.pyplot as plt\n",
        "import numpy as np\n",
        "import pandas as pd\n",
        "import os\n",
        "from pathlib import Path"
      ]
    },
    {
      "cell_type": "code",
      "execution_count": 2,
      "metadata": {},
      "outputs": [],
      "source": [
        "def rotate_points_to_zero(x, y, rfid_pos):\n",
        "    # Subtract the starting point from all the points\n",
        "    y_new = y - y[0]\n",
        "    x_new = x - x[0]\n",
        "\n",
        "    rfid_new = np.array([rfid_pos[0] - x[0], rfid_pos[1] - y[0]])\n",
        "\n",
        "    # Calculate the angle\n",
        "    angle = np.arctan2(y_new[-1], x_new[-1])\n",
        "\n",
        "    # Create the rotation matrix\n",
        "    rotation_matrix = np.array([[np.cos(angle), np.sin(angle)],\n",
        "                                [-np.sin(angle), np.cos(angle)]])\n",
        "\n",
        "    # Rotate all the points\n",
        "    rotated_points = np.dot(rotation_matrix, np.vstack((x_new, y_new)))\n",
        "    x_rot, y_rot = rotated_points[0], rotated_points[1]\n",
        "\n",
        "    # Replace very small values with 0\n",
        "    x_rot = np.where(np.abs(x_rot) < 1e-10, 0, x_rot)\n",
        "    y_rot = np.where(np.abs(y_rot) < 1e-10, 0, y_rot)\n",
        "\n",
        "    # Rotate the RFID Tag\n",
        "    rfid_rot = np.dot(rotation_matrix, rfid_new)\n",
        "\n",
        "    # Check if the RFID Tag is in the negative y-axis, then move everything to the positive y-axis\n",
        "    if rfid_rot[1] < 0:\n",
        "        y_rot = -y_rot\n",
        "        rfid_rot[1] = -rfid_rot[1]\n",
        "\n",
        "    return x_rot, y_rot, rfid_rot, angle"
      ]
    },
    {
      "cell_type": "markdown",
      "metadata": {},
      "source": [
        "Ορίζουμε και μία δεύτερη συνάρτηση στροφής που θα χρησιμοποιηθεί για να μεταφέρει τις υπόλοιπες τροχιές στο ίδιο σύστημα συντεταγμένων με την αρχική."
      ]
    },
    {
      "cell_type": "markdown",
      "metadata": {},
      "source": [
        "Λαμβάνει σαν όρισμα τα αρχικά σημεία της επιλεγμένης τροχιάς και την γωνία στροφής και έπειτα μεταφέρει την τροχιά στο ζητούμενο σύστημα συντεταγμένων."
      ]
    },
    {
      "cell_type": "code",
      "execution_count": 3,
      "metadata": {},
      "outputs": [],
      "source": [
        "def rotate_with_respect(x_start, y_start, angle, x, y):\n",
        "    # Create the rotation matrix\n",
        "    rotation_matrix = np.array([[np.cos(angle), np.sin(angle)],\n",
        "                                [-np.sin(angle), np.cos(angle)]])\n",
        "\n",
        "    # Subtract the starting point from all the points\n",
        "    y_new = y - y_start\n",
        "    x_new = x - x_start\n",
        "\n",
        "    # Rotate all the points\n",
        "    rotated_points = np.dot(rotation_matrix, np.vstack((x_new, y_new)))\n",
        "    x_rot, y_rot = rotated_points[0], rotated_points[1]\n",
        "\n",
        "    # Replace very small values with 0\n",
        "    x_rot = np.where(np.abs(x_rot) < 1e-10, 0, x_rot)\n",
        "    y_rot = np.where(np.abs(y_rot) < 1e-10, 0, y_rot)\n",
        "\n",
        "    return x_rot, y_rot"
      ]
    },
    {
      "cell_type": "markdown",
      "metadata": {},
      "source": [
        "***"
      ]
    },
    {
      "cell_type": "markdown",
      "metadata": {},
      "source": [
        "## Μετατροπή των υποφάκελων μετρήσεων"
      ]
    },
    {
      "cell_type": "markdown",
      "metadata": {},
      "source": [
        "**!!!! ΔΕΝ ΧΡΕΙΑΖΕΤΑΙ ΝΑ ΤΡΕΞΕΙ ΑΛΛΟ !!!!**"
      ]
    },
    {
      "cell_type": "markdown",
      "metadata": {},
      "source": [
        "Θα υλοποιήσουμε την διαδικασία που περιγράφεται παραπάνω."
      ]
    },
    {
      "cell_type": "markdown",
      "metadata": {},
      "source": [
        "Ανφέρουμε ξανά και πιο λεπτομερώς την διαδικασία που θα ακολουθήσουμε.\n",
        "- Διαβάζουμε τον κεντρικό φάκελο με όλες τις μετρήσεις.\n",
        "- Επαναληπτικά για όλα τα πειράματα εντοπίζουμε τον φάκελο ```Transformed_Coordinates.xlsx``` που βρίσκεται στο **εξωτερικό** επίπεδο και όχι αυτόν που είναι φωλιασμένος στους φακέλους των κεραιών.\n",
        "- Για συγκεκριμένο πείραμα, επαναληπτικά εντοπίζουμε κάθε tag που αναγράφεται στον προαναφερθέντα φάκελο, και βρίσκουμε την τροχιά με τα περισσότερα samples (μεγαλύτερο μέγεθος) από τις (μέχρι) 4 κεραίες.\n",
        "- Η τροχιά αυτή στρέφεται στον θετικό ημιάξονα Χ και μεταφέρεται στο $(0,0)$.\n",
        "- Με βάση αυτή την τροχιά στρέφεται και το αντίστοιχο RFID tag.\n",
        "- Οι υπόλοιπες τροχιές που βρίσκονται στις άλλες τρεις κεραίες στρέφονται και μετατοπίζονται με βάση την αρχική τροχιά.\n"
      ]
    },
    {
      "cell_type": "code",
      "execution_count": 6,
      "metadata": {},
      "outputs": [],
      "source": [
        "# Root folder where all the files are stored\n",
        "root_folder = Path(__file__).parent if \"__file__\" in globals() else Path.cwd()\n",
        "root_folder /= 'Measurements'\n",
        "\n",
        "# Loop through all directories and files\n",
        "for folder_path, _, files in os.walk(root_folder):\n",
        "    if 'Antenna_' not in folder_path: # It means we are on the top-most subfolder, we don't want to edit the nested \"Transformed_Coordinates\" files\n",
        "        file_tag = os.path.join(folder_path, 'Transformed_Coordinates.xlsx')\n",
        "\n",
        "        # Check if the file exists\n",
        "        try:\n",
        "            rfid_df = pd.read_excel(file_tag)\n",
        "        except FileNotFoundError:\n",
        "            continue\n",
        "        \n",
        "        # All of the folders we expect to iterate through\n",
        "        folders = ['Antenna_1', 'Antenna_2', 'Antenna_3', 'Antenna_4']\n",
        "\n",
        "        # Extract each tag name from the rfid_df\n",
        "        for tag in rfid_df['EPC_TAG'].unique():\n",
        "            # Get the rfid tag coordinates\n",
        "            row = rfid_df[rfid_df[\"EPC_TAG\"] == tag]\n",
        "            rfid_x = row[\"X\"].values[0] \n",
        "            rfid_y = row[\"Y\"].values[0]\n",
        "\n",
        "            # Initialize variables to find the largest file in size\n",
        "            largest_file = None\n",
        "            largest_size = -1\n",
        "\n",
        "            # Iterate through all antenna folders, if they exist, and locate the largest file path for each tag\n",
        "            for folder in folders:\n",
        "                antenna_folder = os.path.join(folder_path, folder)\n",
        "                fol1_folder = os.path.join(antenna_folder, 'unwrapped_measurements')\n",
        "\n",
        "                #for search_folder in [antenna_folder, fol1_folder]:\n",
        "                if os.path.exists(fol1_folder):\n",
        "                    for file in os.listdir(fol1_folder):\n",
        "                        if file == f\"{tag}.txt\":\n",
        "                            file_path = os.path.join(fol1_folder, file)\n",
        "                            file_size = os.path.getsize(file_path)\n",
        "                            if file_size > largest_size:\n",
        "                                largest_size = file_size\n",
        "                                largest_file = file_path\n",
        "            \n",
        "            # Since we found the largest file, we transform it using the \"rotate_points_to_zero\" function.\n",
        "            # Then we also save the data to a new excel file, and also store the coordinates of the rotated RFID tag.\n",
        "            if largest_file:\n",
        "                df = pd.read_csv(largest_file, header = None, names = ['time', 'X', 'Y', 'Z', 'Power', 'Phase', 'Phase_Unwrapped'])\n",
        "\n",
        "                # Extract as arrays\n",
        "                X = df[\"X\"].values\n",
        "                Y = df[\"Y\"].values\n",
        "\n",
        "                # Rotate and transform the points to (0,0)\n",
        "                X_rot,Y_rot, rfid_pos, rot_angle = rotate_points_to_zero(X, Y, [rfid_x * 100,rfid_y * 100]) \n",
        "                \n",
        "                # Save the new data\n",
        "                df[\"X_new\"] = X_rot\n",
        "                df[\"Y_new\"] = Y_rot\n",
        "\n",
        "                rfid_df.loc[rfid_df[\"EPC_TAG\"] == tag, \"X_new\"] = rfid_pos[0]\n",
        "                rfid_df.loc[rfid_df[\"EPC_TAG\"] == tag, \"Y_new\"] = rfid_pos[1]\n",
        "                \n",
        "                rfid_df.to_excel(file_tag, index = False)\n",
        "\n",
        "                new_file_path = largest_file.replace(\".txt\", \"_processed.xlsx\")\n",
        "                df.to_excel(new_file_path, index = False)\n",
        "            \n",
        "            # Now we need to rotate the other orbits with respect to the initial one (the largest in size)\n",
        "            # We once more iterate through all the \"Antenna\" folders in order to locate all instances of the tag.\n",
        "            for folder in folders:    \n",
        "                antenna_folder = os.path.join(folder_path, folder)\n",
        "                fol1_folder = os.path.join(antenna_folder, 'unwrapped_measurements')\n",
        "\n",
        "                # Check if file exists, and if it does also check if file has already been processed.\n",
        "                if os.path.exists(fol1_folder):\n",
        "                    if f\"{tag}_processed.xlsx\" in os.listdir(fol1_folder):\n",
        "                        continue\n",
        "                    else:\n",
        "                        # The following procedure is simillar to the one before, but instead of rotating the orbit to zero, we rotate it with respect to the largest orbit.\n",
        "                        for file in os.listdir(fol1_folder):\n",
        "                            if file == f\"{tag}.txt\":\n",
        "                                file_path = os.path.join(fol1_folder, file)\n",
        "                                df_1 = pd.read_csv(file_path, header = None, names = ['time', 'X', 'Y', 'Z', 'Power', 'Phase', 'Phase_Unwrapped'])\n",
        "\n",
        "                                # Extract as arrays\n",
        "                                X1 = df_1[\"X\"].values\n",
        "                                Y1 = df_1[\"Y\"].values\n",
        "\n",
        "                                # Rotate and transform the points to (0,0)\n",
        "                                X_rot, Y_rot = rotate_with_respect(X[0], Y[0], rot_angle, X1, Y1)\n",
        "                                \n",
        "                                # Save the new data\n",
        "                                df_1[\"X_new\"] = X_rot\n",
        "                                df_1[\"Y_new\"] = Y_rot\n",
        "\n",
        "                                new_file_path = file_path.replace(\".txt\", \"_processed_smaller.xlsx\")\n",
        "                                df_1.to_excel(new_file_path, index = False)\n",
        "\n",
        "#We expect to see 2 types of folders inside the unwrapped measurements folders. The larger in size will have the '_processed.xlsx' suffix, while the smaller ones will have the \n",
        "#'_processed_smaller.xlsx'.        \n"
      ]
    },
    {
      "cell_type": "markdown",
      "metadata": {},
      "source": [
        "***"
      ]
    },
    {
      "cell_type": "markdown",
      "metadata": {},
      "source": [
        "## Screenshot για απόδειξη"
      ]
    },
    {
      "attachments": {
        "image-2.png": {
          "image/png": "[encoded data removed]"
        }
      },
      "cell_type": "markdown",
      "metadata": {},
      "source": [
        "![image-2.png](attachment:image-2.png)"
      ]
    },
    {
      "attachments": {
        "image.png": {
          "image/png": "[encoded data removed]"
        }
      },
      "cell_type": "markdown",
      "metadata": {},
      "source": [
        "![image.png](attachment:image.png)"
      ]
    },
    {
      "attachments": {
        "image-2.png": {
          "image/png": "[encoded data removed]"
        }
      },
      "cell_type": "markdown",
      "metadata": {},
      "source": [
        "![image-2.png](attachment:image-2.png)"
      ]
    },
    {
      "attachments": {
        "image-2.png": {
          "image/png": "[encoded data removed]"
        }
      },
      "cell_type": "markdown",
      "metadata": {},
      "source": [
        "![image-2.png](attachment:image-2.png)"
      ]
    },
    {
      "cell_type": "markdown",
      "metadata": {},
      "source": [
        "***"
      ]
    },
    {
      "cell_type": "markdown",
      "metadata": {},
      "source": [
        "## Προετοιμασία των δεδομένων"
      ]
    },
    {
      "cell_type": "markdown",
      "metadata": {},
      "source": [
        "Πλέον έχουμε μετατρέψει όλους τους υποφακέλους στην μορφή που τους θέλουμε, στραμένους στο 0. Τώρα θα δημιουργήσουμε τους πίνακες X και y για εισαγωγή στο νευρωνικό."
      ]
    },
    {
      "cell_type": "markdown",
      "metadata": {},
      "source": [
        "Για αρχή ασχολούμαστε με το straight path."
      ]
    },
    {
      "cell_type": "markdown",
      "metadata": {},
      "source": [
        "Η παρακάτω συνάρτηση θα χρησιμοποιηθεί για να κάνει γραμμική παρεμβολή στα data, τα οποία θα έχουν την μορφή [X,Y,Z,phase]."
      ]
    },
    {
      "cell_type": "code",
      "execution_count": 4,
      "metadata": {},
      "outputs": [],
      "source": [
        "def lin_interpolation(data, length):\n",
        "    x_original = np.linspace(0, 1, len(data))\n",
        "    x_new = np.linspace(0, 1, length)    \n",
        "\n",
        "    # Initialize the result array\n",
        "    result = np.empty((length, data.shape[1]))\n",
        "\n",
        "    # Interpolate each column\n",
        "    for i in range(data.shape[1]):\n",
        "        interp_func = np.interp(x_new, x_original, data[:, i])\n",
        "        result[:, i] = interp_func\n",
        "\n",
        "    return result"
      ]
    },
    {
      "cell_type": "code",
      "execution_count": 43,
      "metadata": {},
      "outputs": [],
      "source": [
        "# Root folder where all the files are stored\n",
        "root_folder = Path(__file__).parent if \"__file__\" in globals() else Path.cwd()\n",
        "root_folder /= 'Measurements'\n",
        "\n",
        "experinent = 'Straight ' # Some are named Straight Path, some Straight path.....................................\n",
        "\n",
        "size_threshold = 10240  #10KB in our case, anything smaller in size will get filtered out\n",
        "\n",
        "interp_length = 500 # Large enough to not clip information from bigger files, and small enought to not destroy small files, need to check what works best\n",
        "\n",
        "final_tensor = []\n",
        "final_labels = []\n",
        "\n",
        "# Loop through all directories and files\n",
        "for folder_path, _, files in os.walk(root_folder):\n",
        "    # We only examine the folders with a specific experiment, in our case Straight Path\n",
        "    if experinent not in folder_path:\n",
        "        continue\n",
        "\n",
        "    if 'Antenna_' not in folder_path: # It means we are on the top-most subfolder, we don't want to read the nested 'Transformed_Coordinates' since the outer one is edited.\n",
        "        file_tag = os.path.join(folder_path, 'Transformed_Coordinates.xlsx')\n",
        "\n",
        "        # Check if the file exists\n",
        "        try:\n",
        "            rfid_df = pd.read_excel(file_tag)\n",
        "        except FileNotFoundError:\n",
        "            continue\n",
        "        \n",
        "        # All of the folders we expect to iterate through\n",
        "        folders = ['Antenna_1', 'Antenna_2', 'Antenna_3', 'Antenna_4']\n",
        "\n",
        "        # All of the columns we need to save\n",
        "        sel_cols = ['X_new', 'Y_new', 'Z', 'Phase_Unwrapped']\n",
        "\n",
        "        # Extract each tag name from the rfid_df\n",
        "        for tag in rfid_df['EPC_TAG'].unique():\n",
        "            # Get the rfid tag coordinates\n",
        "            row = rfid_df[rfid_df[\"EPC_TAG\"] == tag]\n",
        "            rfid_x = row[\"X_new\"].values[0] \n",
        "            rfid_y = row[\"Y_new\"].values[0]\n",
        "            rfid_z = row['Z'].values[0] * 100 # Z was in meters\n",
        "\n",
        "            # Iterate through all antenna folders, if they exist, and locate the excel file path for each tag\n",
        "            for folder in folders:\n",
        "                # Go inside the unwrapped measurements folder to search for the processed excel file\n",
        "                antenna_folder = os.path.join(folder_path, folder)\n",
        "                unwrapped_measurement_fold = os.path.join(antenna_folder, 'unwrapped_measurements')\n",
        "\n",
        "                if os.path.exists(unwrapped_measurement_fold): # If it exists continue\n",
        "                    for file in os.listdir(unwrapped_measurement_fold): # For all files in the unwrapped measurements directory search for the one excel file that has our current tag name\n",
        "                        if file == f\"{tag}_processed.xlsx\" or file == f\"{tag}_processed_smaller.xlsx\":\n",
        "                            # Create the file path for current tag\n",
        "                            file_path = os.path.join(unwrapped_measurement_fold, file)\n",
        "\n",
        "                            # If the file is smaller than a threshold do not save it since it is trash\n",
        "                            if os.path.getsize(file_path) >= size_threshold:\n",
        "                                tag_df = pd.read_excel(file_path)\n",
        "\n",
        "                                # Create the tensor containing all our information [X,Y,Z,phase]\n",
        "                                info_tens = tag_df[sel_cols].to_numpy()\n",
        "\n",
        "                                # Interpolate to create a specific length tensor not an arbitary one\n",
        "                                res = lin_interpolation(info_tens, interp_length)\n",
        "\n",
        "                                # Append result and tag to their respective array\n",
        "                                final_tensor.append(res)\n",
        "                                final_labels.append([rfid_x, rfid_y, rfid_z])"
      ]
    },
    {
      "cell_type": "markdown",
      "metadata": {},
      "source": [
        "Εφόσον έχουμε τους πίνακες με τα δεδομένα μας τους μετατρέπουμε σε numpy πίνακες."
      ]
    },
    {
      "cell_type": "code",
      "execution_count": 45,
      "metadata": {},
      "outputs": [
        {
          "data": {
            "text/plain": [
              "((1013, 3), (1013, 500, 4))"
            ]
          },
          "execution_count": 45,
          "metadata": {},
          "output_type": "execute_result"
        }
      ],
      "source": [
        "final_labels = np.array(final_labels)\n",
        "final_tensor = np.array(final_tensor)\n",
        "\n",
        "final_labels.shape , final_tensor.shape # final_labels shape (tags_measured, (x_tag,y_tag,z_tag)), final_tensor shape (tags_measured, fixed_sample_size, (x_rob,y_rob,z_rob, phase))"
      ]
    },
    {
      "cell_type": "markdown",
      "metadata": {},
      "source": [
        "Τέλος αποθηκεύουμε τα δεδομένα σε έναν νέο φάκελο Raw_Data, με την μορφή .npy ."
      ]
    },
    {
      "cell_type": "code",
      "execution_count": 47,
      "metadata": {},
      "outputs": [
        {
          "name": "stdout",
          "output_type": "stream",
          "text": [
            "Created folder: c:\\Users\\jimka\\OneDrive\\Documents\\GitHub\\NNs-on-RFID-Localization\\Experiments\\Raw_Data_0\n"
          ]
        }
      ],
      "source": [
        "from pathlib import Path\n",
        "\n",
        "# Get the directory of the script\n",
        "parent_dir = Path(__file__).parent if \"__file__\" in globals() else Path.cwd()\n",
        "\n",
        "# Initialize a list to store the indices\n",
        "existing_indices = []\n",
        "\n",
        "# Iterate through the folders in the directory\n",
        "for folder in parent_dir.iterdir():\n",
        "    if folder.is_dir() and folder.name.startswith(\"Raw_Data_\"):  # Check if it's a directory and follows the pattern\n",
        "        try:\n",
        "            index = int(folder.name[len(\"Raw_Data_\"):])  # Extract the number part\n",
        "            existing_indices.append(index)\n",
        "        except ValueError:\n",
        "            pass  # Ignore folders that don't have a valid integer index\n",
        "\n",
        "# Determine the next index\n",
        "new_index = (max(existing_indices) + 1) if existing_indices else 0\n",
        "\n",
        "# Create the new folder\n",
        "new_folder_path = parent_dir / f\"Raw_Data_{new_index}\"\n",
        "new_folder_path.mkdir(exist_ok=True)\n",
        "\n",
        "print(f\"Created folder: {new_folder_path}\")\n",
        "\n",
        "np.save(f\"{new_folder_path}/final_tensor.npy\", final_tensor)\n",
        "np.save(f\"{new_folder_path}/final_labels.npy\", final_labels)"
      ]
    },
    {
      "cell_type": "markdown",
      "metadata": {},
      "source": [
        "***"
      ]
    },
    {
      "cell_type": "markdown",
      "metadata": {},
      "source": [
        "## Προετοιμασία των δεδομένων για τις 2 διαστάσεις"
      ]
    },
    {
      "cell_type": "markdown",
      "metadata": {},
      "source": [
        "Τα δεδομένα μας θέλουμε να στραφούν όλα στο μηδέν, μετατρέποντας κάθε κεραία σε ανεξάρτητη μέτρηση, και στην συνέχεια το tag να μετατοπιστεί στο αντίστοιχο ίσο ύψος με την κεραία που το διαβάζει."
      ]
    },
    {
      "cell_type": "markdown",
      "metadata": {},
      "source": [
        "Αν υποθέσουμε ότι η κεραία βρίσκεται σε συντεταγμένες x_ant, y_ant, z_ant, το tag σε x_tag, y_tag, z_tag, τότε οι συντεταγμένες του tag μετά την τοποθέτηση του στο ίδιο ύψος θα είναι, x' = x_tag, z'= z_ant, $y' = y\\_ant ∓ sqrt(Dy^2 + Dz^2)$"
      ]
    },
    {
      "cell_type": "markdown",
      "metadata": {},
      "source": [
        "Κάνουμε λοιπόν την ίδια διαδικασία."
      ]
    },
    {
      "cell_type": "code",
      "execution_count": null,
      "metadata": {},
      "outputs": [],
      "source": [
        "# Root folder where all the files are stored\n",
        "root_folder = Path(__file__).parent if \"__file__\" in globals() else Path.cwd()\n",
        "root_folder /= 'Measurements'\n",
        "\n",
        "\n",
        "# Loop through all directories and files\n",
        "for folder_path, _, files in os.walk(root_folder):\n",
        "    if 'Antenna_' in folder_path: # It means we are on the nested subfolder, we don't want to edit the outer \"Transformed_Coordinates\" file\n",
        "        file_tag = os.path.join(folder_path, 'Transformed_Coordinates.xlsx')\n",
        "\n",
        "        # Check if the file exists\n",
        "        try:\n",
        "            rfid_df = pd.read_excel(file_tag)\n",
        "        except FileNotFoundError:\n",
        "            continue\n",
        "\n",
        "        # Extract each tag name from the rfid_df\n",
        "        for tag in rfid_df['EPC_TAG'].unique():\n",
        "            # Get the rfid tag coordinates\n",
        "            row = rfid_df[rfid_df[\"EPC_TAG\"] == tag]\n",
        "            rfid_x = row[\"X\"].values[0] \n",
        "            rfid_y = row[\"Y\"].values[0]\n",
        "            rfid_z = row[\"Z\"].values[0]\n",
        "\n",
        "            # Go inside the unwrapped measurements folder if it exists\n",
        "            unwrapped_measurement_folder = os.path.join(folder_path, 'unwrapped_measurements')\n",
        "            if os.path.exists(unwrapped_measurement_folder):\n",
        "                for file in os.listdir(unwrapped_measurement_folder):\n",
        "                    if file == f\"{tag}.txt\": # Search for a specific tag\n",
        "                        file_path = os.path.join(unwrapped_measurement_folder, file)\n",
        "                        df = pd.read_csv(file_path, header = None, names = ['time', 'X', 'Y', 'Z', 'Power', 'Phase', 'Phase_Unwrapped'])\n",
        "                        \n",
        "                        # Extract as arrays \n",
        "                        X = df[\"X\"].values\n",
        "                        Y = df[\"Y\"].values\n",
        "                        Z = df[\"Z\"].values\n",
        "\n",
        "                        # Rotate and transform the points to (0,0)\n",
        "                        X_rot,Y_rot, rfid_pos, rot_angle = rotate_points_to_zero(X, Y, [rfid_x * 100,rfid_y * 100])\n",
        "\n",
        "                        # Transform the Y coordinate of the tag so it is on the same height as the antenna reading it\n",
        "                        z_ant = Z[0]\n",
        "                        if rfid_pos[1] >= Y_rot[0]:\n",
        "                            y_rotated = Y_rot[0] + np.sqrt((Y_rot[0]-rfid_pos[1])**2 + (z_ant -rfid_z * 100)**2)\n",
        "                        else: \n",
        "                            y_rotated = Y_rot[0] - np.sqrt((Y_rot[0]-rfid_pos[1])**2 + (z_ant -rfid_z * 100)**2)\n",
        "\n",
        "                        # Save the new data\n",
        "                        df[\"X_new\"] = X_rot\n",
        "                        df[\"Y_new\"] = Y_rot\n",
        "\n",
        "                        rfid_df.loc[rfid_df[\"EPC_TAG\"] == tag, \"X_new\"] = rfid_pos[0]\n",
        "                        rfid_df.loc[rfid_df[\"EPC_TAG\"] == tag, \"Y_new\"] = y_rotated\n",
        "                        \n",
        "                        rfid_df.to_excel(file_tag, index = False)\n",
        "\n",
        "                        new_file_path = file_path.replace(\".txt\", \"_processed2D.xlsx\")\n",
        "                        df.to_excel(new_file_path, index = False) "
      ]
    },
    {
      "cell_type": "markdown",
      "metadata": {},
      "source": [
        "Τώρα με όμοιο τρόπο με πριν θα κάνουμε γραμμική παρεμβολή στα δεδομένα και θα τα αποθηκεύσουμε."
      ]
    },
    {
      "cell_type": "code",
      "execution_count": 5,
      "metadata": {},
      "outputs": [],
      "source": [
        "# Root folder where all the files are stored\n",
        "root_folder = Path(__file__).parent if \"__file__\" in globals() else Path.cwd()\n",
        "root_folder /= 'Measurements'\n",
        "\n",
        "experinent = 'Straight ' # Some are named Straight Path, some Straight path.....................................\n",
        "\n",
        "size_threshold = 10240  #10KB in our case, anything smaller in size will get filtered out\n",
        "\n",
        "interp_length = 500 # Large enough to not clip information from bigger files, and small enought to not destroy small files, need to check what works best\n",
        "\n",
        "final_tensor = []\n",
        "final_labels = []\n",
        "\n",
        "# Loop through all directories and files\n",
        "for folder_path, _, files in os.walk(root_folder):\n",
        "    # We only examine the folders with a specific experiment, in our case Straight Path\n",
        "    if experinent not in folder_path:\n",
        "        continue\n",
        "\n",
        "    if 'Antenna_' in folder_path: # It means we are on the nested subfolder, we don't want to read the outer 'Transformed_Coordinates' in our 2D problem.\n",
        "        file_tag = os.path.join(folder_path, 'Transformed_Coordinates.xlsx')\n",
        "\n",
        "        # Check if the file exists\n",
        "        try:\n",
        "            rfid_df = pd.read_excel(file_tag)\n",
        "        except FileNotFoundError:\n",
        "            continue\n",
        "        \n",
        "\n",
        "        # All of the columns we need to save\n",
        "        sel_cols = ['X_new', 'Y_new', 'Z', 'Phase_Unwrapped']\n",
        "\n",
        "        # Extract each tag name from the rfid_df\n",
        "        for tag in rfid_df['EPC_TAG'].unique():\n",
        "            # Get the rfid tag coordinates\n",
        "            row = rfid_df[rfid_df[\"EPC_TAG\"] == tag]\n",
        "            rfid_x = row[\"X_new\"].values[0] \n",
        "            rfid_y = row[\"Y_new\"].values[0]\n",
        "            rfid_z = row['Z'].values[0] * 100 # Z was in meters\n",
        "\n",
        "            # Iterate through all antenna folders, if they exist, and locate the excel file path for each tag\n",
        "            # Go inside the unwrapped measurements folder to search for the processed excel file\n",
        "            unwrapped_measurement_fold = os.path.join(folder_path, 'unwrapped_measurements')\n",
        "\n",
        "            if os.path.exists(unwrapped_measurement_fold): # If it exists continue\n",
        "                for file in os.listdir(unwrapped_measurement_fold): # For all files in the unwrapped measurements directory search for the one excel file that has our current tag name\n",
        "                    if file == f\"{tag}_processed2D.xlsx\":\n",
        "                        # Create the file path for current tag\n",
        "                        file_path = os.path.join(unwrapped_measurement_fold, file)\n",
        "\n",
        "                        # If the file is smaller than a threshold do not save it since it is trash\n",
        "                        if os.path.getsize(file_path) >= size_threshold:\n",
        "                            tag_df = pd.read_excel(file_path)\n",
        "\n",
        "                            # Create the tensor containing all our information [X,Y,Z,phase]\n",
        "                            info_tens = tag_df[sel_cols].to_numpy()\n",
        "\n",
        "                            # Interpolate to create a specific length tensor not an arbitary one\n",
        "                            res = lin_interpolation(info_tens, interp_length)\n",
        "\n",
        "                            # Append result and tag to their respective array\n",
        "                            final_tensor.append(res)\n",
        "                            final_labels.append([rfid_x, rfid_y, rfid_z])"
      ]
    },
    {
      "cell_type": "code",
      "execution_count": 6,
      "metadata": {},
      "outputs": [
        {
          "data": {
            "text/plain": [
              "((1013, 3), (1013, 500, 4))"
            ]
          },
          "execution_count": 6,
          "metadata": {},
          "output_type": "execute_result"
        }
      ],
      "source": [
        "final_labels = np.array(final_labels)\n",
        "final_tensor = np.array(final_tensor)\n",
        "\n",
        "final_labels.shape , final_tensor.shape # final_labels shape (tags_measured, (x_tag,y_tag,z_tag)), final_tensor shape (tags_measured, fixed_sample_size, (x_rob,y_rob,z_rob, phase))"
      ]
    },
    {
      "cell_type": "code",
      "execution_count": 10,
      "metadata": {},
      "outputs": [
        {
          "name": "stdout",
          "output_type": "stream",
          "text": [
            "Created folder: c:\\Users\\jimka\\OneDrive\\Documents\\GitHub\\NNs-on-RFID-Localization\\Experiments\\Raw_Data_1\n"
          ]
        }
      ],
      "source": [
        "from pathlib import Path\n",
        "\n",
        "# Get the directory of the script\n",
        "parent_dir = Path(__file__).parent if \"__file__\" in globals() else Path.cwd()\n",
        "\n",
        "# Initialize a list to store the indices\n",
        "existing_indices = []\n",
        "\n",
        "# Iterate through the folders in the directory\n",
        "for folder in parent_dir.iterdir():\n",
        "    if folder.is_dir() and folder.name.startswith(\"Raw_Data_\"):  # Check if it's a directory and follows the pattern\n",
        "        try:\n",
        "            index = int(folder.name[len(\"Raw_Data_\"):])  # Extract the number part\n",
        "            existing_indices.append(index)\n",
        "        except ValueError:\n",
        "            pass  # Ignore folders that don't have a valid integer index\n",
        "\n",
        "# Determine the next index\n",
        "new_index = (max(existing_indices) + 1) if existing_indices else 0\n",
        "\n",
        "# Create the new folder\n",
        "new_folder_path = parent_dir / f\"Raw_Data_{new_index}\"\n",
        "new_folder_path.mkdir(exist_ok=True)\n",
        "\n",
        "print(f\"Created folder: {new_folder_path}\")\n",
        "\n",
        "np.save(f\"{new_folder_path}/final_tensor.npy\", final_tensor)\n",
        "np.save(f\"{new_folder_path}/final_labels.npy\", final_labels)"
      ]
    }
  ],
  "metadata": {
    "kernelspec": {
      "display_name": "Python 3",
      "language": "python",
      "name": "python3"
    },
    "language_info": {
      "codemirror_mode": {
        "name": "ipython",
        "version": 3
      },
      "file_extension": ".py",
      "mimetype": "text/x-python",
      "name": "python",
      "nbconvert_exporter": "python",
      "pygments_lexer": "ipython3",
      "version": "3.11.9"
    }
  },
  "nbformat": 4,
  "nbformat_minor": 2
}
