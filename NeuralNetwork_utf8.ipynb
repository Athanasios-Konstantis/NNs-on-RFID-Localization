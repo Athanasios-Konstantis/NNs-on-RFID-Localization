{
  "cells": [
    {
      "cell_type": "markdown",
      "metadata": {},
      "source": [
        "# Κατασκευή Νευρωνικού Δικτύου"
      ]
    },
    {
      "cell_type": "markdown",
      "metadata": {},
      "source": [
        "***"
      ]
    },
    {
      "cell_type": "markdown",
      "metadata": {},
      "source": [
        "### Εισαγωγή δεδομένων"
      ]
    },
    {
      "cell_type": "markdown",
      "metadata": {},
      "source": [
        "Για αρχή θα πειραματιστούμε με τα data από το simulation και πολύ απλοϊκά μοντέλα με λίγες παραμέτρους."
      ]
    },
    {
      "cell_type": "markdown",
      "metadata": {},
      "source": [
        "Παίρνουμε τα data και δημιουργούμε τα labels που πρέπει τελικά να εντοπιστούν στην μορφή $[x_l, y_l]$"
      ]
    },
    {
      "cell_type": "code",
      "execution_count": 1,
      "metadata": {},
      "outputs": [],
      "source": [
        "import torch\n",
        "import sklearn\n",
        "import pandas as pd\n",
        "import numpy as np\n",
        "#import ast\n",
        "from sklearn.model_selection import train_test_split\n",
        "import matplotlib.pyplot as plt\n",
        "import xgboost as xgb\n",
        "from sklearn.preprocessing import StandardScaler\n",
        "from sklearn.multioutput import MultiOutputRegressor\n",
        "from sklearn.metrics import mean_squared_error, mean_absolute_error"
      ]
    },
    {
      "cell_type": "code",
      "execution_count": null,
      "metadata": {},
      "outputs": [
        {
          "name": "stdout",
          "output_type": "stream",
          "text": [
            "[[2.         0.1       ]\n",
            " [2.         0.1029029 ]\n",
            " [2.         0.10580581]\n",
            " ...\n",
            " [2.         2.99419419]\n",
            " [2.         2.9970971 ]\n",
            " [2.         3.        ]]\n"
          ]
        }
      ],
      "source": [
        "Data = pd.read_pickle(\"Sim_Data_Noisy.pkl\")\n",
        "\n",
        "rfid_label = (Data['x_tag'], Data['y_tag'])\n",
        "rfid_label = np.array(rfid_label).T\n",
        "print(rfid_label.shape)"
      ]
    },
    {
      "cell_type": "markdown",
      "metadata": {},
      "source": [
        "Έπειτα δημιουργούμε έναν πίνακα (tensor) διαστάσεων $(1000, 1000, 4)$ που περιέχει για τα 1000 tags που δημιουργήθηκαν από το simulation, τα 1000 time samples από το μήκος των μετρήσεων, και τα 4 χαρακτηριστικά που μας χρειάζονται , [x_robot,y_robot,z_robot,phase_unwrapped]."
      ]
    },
    {
      "cell_type": "code",
      "execution_count": 15,
      "metadata": {},
      "outputs": [
        {
          "name": "stdout",
          "output_type": "stream",
          "text": [
            "1000\n"
          ]
        }
      ],
      "source": [
        "info_arr = []\n",
        "for i in range(len(rfid_label)):\n",
        "    result = np.concatenate((Data.loc[i, 'robot_pos'], Data.loc[i, 'Phases'].reshape(-1, 1)), axis=1)\n",
        "    info_arr.append(result)\n",
        "\n",
        "print(len(info_arr))"
      ]
    },
    {
      "cell_type": "markdown",
      "metadata": {},
      "source": [
        "***"
      ]
    },
    {
      "cell_type": "markdown",
      "metadata": {},
      "source": [
        "### Data Augmentation μέσω segmentation"
      ]
    },
    {
      "cell_type": "markdown",
      "metadata": {},
      "source": [
        "Ορίζουμε την συνάρτηση παρακάτω μέσω της οποίας μετασχηματίζουμε κάθε μία μέτρηση σε ένα πλήθος x που μπορούμε να διαλέξουμε εμείς με y αριθμό μετρήσεων στο κάθε ένα. Αυτό συμβαίνει καθώς για κάθε ένα tag σπάμε τις μετρήσεις σε x (όχι απαραίτητα μη επικαλυπτόμενες) μετρήσεις μεγέθους y."
      ]
    },
    {
      "cell_type": "code",
      "execution_count": 17,
      "metadata": {},
      "outputs": [],
      "source": [
        "#Take random segments of the full array\n",
        "def sample_random_segments(tensor1, segment_length, num_samples):\n",
        "    if len(tensor1) < segment_length:\n",
        "        raise ValueError(\"Segment length must be smaller than or equal to array length.\")\n",
        "    \n",
        "    max_start_index = len(tensor1) - segment_length  # Ensure segment stays within bounds\n",
        "    start_indices = np.random.randint(0, max_start_index + 1, size=num_samples)\n",
        "\n",
        "    segments = np.empty((num_samples, segment_length, tensor1.shape[1]))\n",
        "\n",
        "    for idx, start in enumerate(start_indices):\n",
        "        segments[idx] = tensor1[start:start+segment_length]\n",
        "    return segments"
      ]
    },
    {
      "cell_type": "code",
      "execution_count": 18,
      "metadata": {},
      "outputs": [],
      "source": [
        "num_of_samples = 5 # Number of samples per tag\n",
        "segment_length = 200 # Length of each segment\n",
        "\n",
        "\n",
        "info_new = np.empty((0, segment_length, 4))\n",
        "for i in range(len(info_arr)):\n",
        "    temp_info = sample_random_segments(info_arr[i], segment_length, num_of_samples) \n",
        "    info_new = np.concatenate((info_new, temp_info), axis=0)\n",
        "\n",
        "# Multiply labels\n",
        "rfid_label = np.repeat(rfid_label, num_of_samples, axis=0)"
      ]
    },
    {
      "cell_type": "code",
      "execution_count": 19,
      "metadata": {},
      "outputs": [
        {
          "name": "stdout",
          "output_type": "stream",
          "text": [
            "(5000, 200, 4)\n",
            "(5000, 2)\n"
          ]
        }
      ],
      "source": [
        "print(info_new.shape) \n",
        "print(rfid_label.shape)"
      ]
    },
    {
      "cell_type": "markdown",
      "metadata": {},
      "source": [
        "***"
      ]
    },
    {
      "cell_type": "markdown",
      "metadata": {},
      "source": [
        "### Linear Interpolation για να έχουμε ίδιο μέγεθος σε όλα τα samples"
      ]
    },
    {
      "cell_type": "markdown",
      "metadata": {},
      "source": [
        "Μιας και τα δεδομένα μας περιμένουμε να περιέχουν ασυνέχειες, σκεφτόμαστε ότι μέσω της γραμμικής παρεμβολής θα βεβαιωνόμαστε για το σταθερό μήκος του Input στο μοντέλο. Αυτό υλοποιείται παρακάτω."
      ]
    },
    {
      "cell_type": "code",
      "execution_count": 20,
      "metadata": {},
      "outputs": [],
      "source": [
        "def lin_interpolation(data, length):\n",
        "    x = np.linspace(data[0,0],data[-1,0], length)\n",
        "    \n",
        "    # Create interpolation results\n",
        "    result = np.empty((length, data.shape[1]))\n",
        "    result = np.array([x, np.interp(x, data[:,0], data[:,1]), np.interp(x, data[:,0], data[:,2]), np.interp(x, data[:,0], data[:,3])]).T\n",
        "    return result"
      ]
    },
    {
      "cell_type": "markdown",
      "metadata": {},
      "source": [
        "Έχοντας πλέον την συνάρτηση που θα δημιουργήσει τα δεδομένα μετατρέπουμε τον πίνακα των samples στον τελικό πίνακα που θα μπει στο μοντέλο."
      ]
    },
    {
      "cell_type": "code",
      "execution_count": 21,
      "metadata": {},
      "outputs": [
        {
          "data": {
            "text/plain": [
              "(5000, 1000, 4)"
            ]
          },
          "execution_count": 21,
          "metadata": {},
          "output_type": "execute_result"
        }
      ],
      "source": [
        "interp_length = 1000\n",
        "input_array = np.empty((info_new.shape[0],interp_length, 4))\n",
        "\n",
        "for i in range(len(info_new)):\n",
        "    input_array[i] = lin_interpolation(info_new[i], interp_length)\n",
        "\n",
        "input_array.shape"
      ]
    },
    {
      "cell_type": "markdown",
      "metadata": {},
      "source": [
        "***"
      ]
    },
    {
      "cell_type": "markdown",
      "metadata": {},
      "source": [
        "### Προβλέψεις μέσω XGB"
      ]
    },
    {
      "cell_type": "markdown",
      "metadata": {},
      "source": [
        "Τo XGB δεν υποστηρίζει πολυδιάστατη είσοδο όπως θα θέλαμε καθώς υπάρχει χρονική συσχέτιση μεταξύ των δεδομένων. Επίσης δεν υποστηρίζει πολυδιάστατη έξοδο, δηλαδή δεν μπορεί να υπολογίσει και το X και το Y του tag. Για αυτά τα προβλήματα προχωράμε στις παρακάτω λύσεις"
      ]
    },
    {
      "cell_type": "markdown",
      "metadata": {},
      "source": [
        "- Κάνουμε *flatten* τον πίνακα των δεδομένων εισόδου\n",
        "- Χρησιμοποιούμε το module *MultiOutputRegressor* για να διαχειριστούμε πολλαπλές εξόδους."
      ]
    },
    {
      "cell_type": "code",
      "execution_count": 22,
      "metadata": {},
      "outputs": [
        {
          "name": "stdout",
          "output_type": "stream",
          "text": [
            "(5000, 4000)\n"
          ]
        }
      ],
      "source": [
        "# Reshape the tensor to 2D so that it can be used in the XGB model\n",
        "X = input_array.reshape(len(info_new), -1)\n",
        "print(X.shape)"
      ]
    },
    {
      "cell_type": "code",
      "execution_count": 23,
      "metadata": {},
      "outputs": [
        {
          "name": "stdout",
          "output_type": "stream",
          "text": [
            "(5000, 2)\n"
          ]
        }
      ],
      "source": [
        "y = rfid_label\n",
        "print(y.shape)"
      ]
    },
    {
      "cell_type": "markdown",
      "metadata": {},
      "source": [
        "Προετοιμάζουμε τα training και test data."
      ]
    },
    {
      "cell_type": "code",
      "execution_count": 24,
      "metadata": {},
      "outputs": [
        {
          "name": "stdout",
          "output_type": "stream",
          "text": [
            "(4000, 4000)\n",
            "(1000, 4000)\n"
          ]
        }
      ],
      "source": [
        "X_train, X_test, y_train, y_test = train_test_split(X, y, test_size=0.2, random_state=42)\n",
        "\n",
        "scaler = StandardScaler()\n",
        "# Fit the scaler on the training data and transform both the training and test sets\n",
        "X_train_scaled = scaler.fit_transform(X_train)\n",
        "X_test_scaled = scaler.transform(X_test)\n",
        "\n",
        "print(X_train_scaled.shape)\n",
        "print(X_test_scaled.shape)"
      ]
    },
    {
      "cell_type": "markdown",
      "metadata": {},
      "source": [
        "Κάνουμε train το μοντέλο και ελέγχουμε τις προβλέψεις του."
      ]
    },
    {
      "cell_type": "markdown",
      "metadata": {},
      "source": [
        "Για να επιτευχθεί γρηγορότερα το training phase του μοντέλου, θα χρησιμοποιήσουμε την GPU αντί για την CPU."
      ]
    },
    {
      "cell_type": "markdown",
      "metadata": {},
      "source": [
        "<font color='red'>Να κάνουμε device agnostic τον κωδικα και επισης να στειλουμε ολα τα tensors στην gpu ωστε να φυγει το ερρορ</font>"
      ]
    },
    {
      "cell_type": "code",
      "execution_count": 25,
      "metadata": {},
      "outputs": [
        {
          "name": "stderr",
          "output_type": "stream",
          "text": [
            "c:\\Users\\georg\\AppData\\Local\\Programs\\Python\\Python39\\lib\\site-packages\\xgboost\\core.py:158: UserWarning: [11:03:43] WARNING: C:\\buildkite-agent\\builds\\buildkite-windows-cpu-autoscaling-group-i-08cbc0333d8d4aae1-1\\xgboost\\xgboost-ci-windows\\src\\common\\error_msg.cc:58: Falling back to prediction using DMatrix due to mismatched devices. This might lead to higher memory usage and slower performance. XGBoost is running on: cuda:0, while the input data is on: cpu.\n",
            "Potential solutions:\n",
            "- Use a data structure that matches the device ordinal in the booster.\n",
            "- Set the device for booster before call to inplace_predict.\n",
            "\n",
            "This warning will only be shown once.\n",
            "\n",
            "  warnings.warn(smsg, UserWarning)\n"
          ]
        }
      ],
      "source": [
        "xgb_model = xgb.XGBRegressor(random_state=42, n_estimators=1500, learning_rate=0.05, eta = 0.2, tree_method = 'hist', device = 'cuda')\n",
        "\n",
        "# Fit the model\n",
        "multi_xgb = MultiOutputRegressor(xgb_model)\n",
        "multi_xgb.fit(X_train_scaled, y_train) \n",
        "\n",
        "# Predict the model\n",
        "y_pred = multi_xgb.predict(X_test_scaled)"
      ]
    },
    {
      "cell_type": "code",
      "execution_count": 29,
      "metadata": {},
      "outputs": [
        {
          "name": "stdout",
          "output_type": "stream",
          "text": [
            "RMSE: [0.        0.8835998]\n",
            "MAE: [0.         0.74301274]\n",
            "Mean Distance Error: 0.7430127445993719\n"
          ]
        }
      ],
      "source": [
        "# Calculate the error\n",
        "rmse = np.sqrt(mean_squared_error(y_test, y_pred, multioutput='raw_values'))\n",
        "print(\"RMSE:\", rmse)\n",
        "\n",
        "mae = mean_absolute_error(y_test, y_pred, multioutput='raw_values')\n",
        "print(\"MAE:\", mae)\n",
        "\n",
        "# Euclidean Distance metric\n",
        "distance_error = np.linalg.norm(y_test - y_pred, axis=1)\n",
        "print(\"Mean Distance Error:\", np.mean(distance_error))"
      ]
    },
    {
      "cell_type": "code",
      "execution_count": 30,
      "metadata": {},
      "outputs": [
        {
          "data": {
            "image/png": "[encoded data removed]",
            "text/plain": [
              "<Figure size 640x480 with 1 Axes>"
            ]
          },
          "metadata": {},
          "output_type": "display_data"
        }
      ],
      "source": [
        "# Plot the results\n",
        "plt.scatter(y_test[:20, 0], y_test[:20, 1], label='True')\n",
        "plt.scatter(y_pred[:20, 0], y_pred[:20, 1], label='Predicted')\n",
        "plt.legend()\n",
        "plt.show()"
      ]
    },
    {
      "cell_type": "markdown",
      "metadata": {},
      "source": [
        "***"
      ]
    },
    {
      "cell_type": "markdown",
      "metadata": {},
      "source": [
        "### Προβλέψεις μέσω Νευρωνικού !!! (exciting!)"
      ]
    },
    {
      "cell_type": "markdown",
      "metadata": {},
      "source": [
        "Έχουμε ``` input_size = 4000 ```"
      ]
    },
    {
      "cell_type": "markdown",
      "metadata": {},
      "source": [
        "Και ```output_size = 2```"
      ]
    },
    {
      "cell_type": "markdown",
      "metadata": {},
      "source": [
        "Θα φτιάξουμε ένα απλό γραμμικό μοντέλο για εξοικείωση"
      ]
    },
    {
      "cell_type": "markdown",
      "metadata": {},
      "source": [
        "Το μοντέλο θα τρέξει στην GPU αν αυτή είναι διαθέσιμη."
      ]
    },
    {
      "cell_type": "code",
      "execution_count": 31,
      "metadata": {},
      "outputs": [
        {
          "name": "stdout",
          "output_type": "stream",
          "text": [
            "Using cpu device\n"
          ]
        }
      ],
      "source": [
        "device = 'cuda' if torch.cuda.is_available() else 'cpu'\n",
        "print('Using {} device'.format(device))"
      ]
    },
    {
      "cell_type": "markdown",
      "metadata": {},
      "source": [
        "Προετοιμάζουμε τα δεδομένα όπως και προηγουμένως με το XGB μοντέλο"
      ]
    },
    {
      "cell_type": "code",
      "execution_count": 32,
      "metadata": {},
      "outputs": [
        {
          "name": "stdout",
          "output_type": "stream",
          "text": [
            "(5000, 4000)\n"
          ]
        }
      ],
      "source": [
        "# Reshape the tensor to 2D so that it can be used in the linear model\n",
        "X = input_array.reshape(len(info_new), -1)\n",
        "print(X.shape)"
      ]
    },
    {
      "cell_type": "code",
      "execution_count": 33,
      "metadata": {},
      "outputs": [
        {
          "name": "stdout",
          "output_type": "stream",
          "text": [
            "(5000, 2)\n"
          ]
        }
      ],
      "source": [
        "y = rfid_label\n",
        "print(y.shape)"
      ]
    },
    {
      "cell_type": "code",
      "execution_count": 34,
      "metadata": {},
      "outputs": [
        {
          "name": "stdout",
          "output_type": "stream",
          "text": [
            "(4000, 4000)\n",
            "(1000, 4000)\n"
          ]
        }
      ],
      "source": [
        "X_train, X_test, y_train, y_test = train_test_split(X, y, test_size=0.2, random_state=42)\n",
        "\n",
        "scaler = StandardScaler()\n",
        "# Fit the scaler on the training data and transform both the training and test sets\n",
        "X_train_scaled = scaler.fit_transform(X_train)\n",
        "X_test_scaled = scaler.transform(X_test)\n",
        "\n",
        "print(X_train_scaled.shape)\n",
        "print(X_test_scaled.shape)"
      ]
    },
    {
      "cell_type": "markdown",
      "metadata": {},
      "source": [
        "Μετατρέπουμε όλα μας τα data σε torch tensors για να είναι συμβατά με την αρχιτεκτονική του μοντέλου και τα περνάμε στην συσκευή που χρησιμοποιούμε (CPU ή GPU)."
      ]
    },
    {
      "cell_type": "code",
      "execution_count": 35,
      "metadata": {},
      "outputs": [],
      "source": [
        "# Transform the data to PyTorch tensors and move them to the GPU if available\n",
        "X_train_tensor = torch.tensor(X_train_scaled, dtype=torch.float32).to(device)\n",
        "X_test_tensor = torch.tensor(X_test_scaled, dtype=torch.float32).to(device)\n",
        "y_train_tensor = torch.tensor(y_train, dtype=torch.float32).to(device)\n",
        "y_test_tensor = torch.tensor(y_test, dtype=torch.float32).to(device)"
      ]
    },
    {
      "cell_type": "markdown",
      "metadata": {},
      "source": [
        "Δημιουργούμε ```mini_batches``` των 32."
      ]
    },
    {
      "cell_type": "code",
      "execution_count": 36,
      "metadata": {},
      "outputs": [],
      "source": [
        "from torch.utils.data import DataLoader, TensorDataset\n",
        "\n",
        "# Define the dataset\n",
        "train_data = TensorDataset(X_train_tensor, y_train_tensor)\n",
        "test_data = TensorDataset(X_test_tensor, y_test_tensor)\n",
        "\n",
        "# Define the data loaders\n",
        "batch_size = 32\n",
        "train_loader = DataLoader(dataset=train_data, batch_size=batch_size, shuffle=True) \n",
        "test_loader = DataLoader(dataset=test_data, batch_size=batch_size)"
      ]
    },
    {
      "cell_type": "markdown",
      "metadata": {},
      "source": [
        "Το μοντέλο αρχικά αποτελείται από 3 επίπεδα, με συνάρτηση ενεργοποίησης ```LeakyReLU``` η οποία μας βοηθάει να αποφύγουμε να κολλήσουμε σε μία συγκεκριμένη τιμή κατά την διάρκεια του ```training``` με αποτέλεσμα να καταστραφεί το μοντέλο."
      ]
    },
    {
      "cell_type": "code",
      "execution_count": 37,
      "metadata": {},
      "outputs": [],
      "source": [
        "from torch import nn\n",
        "\n",
        "# Build the model\n",
        "\n",
        "class FirstModel(nn.Module):\n",
        "    def __init__(self, input_size, output_size, hidden_units = 128):\n",
        "        super(FirstModel, self).__init__()\n",
        "\n",
        "        self.linear_stack = nn.Sequential(\n",
        "            nn.Linear(in_features= input_size, out_features= hidden_units),\n",
        "            nn.LeakyReLU(0.1),\n",
        "            nn.Linear(in_features= hidden_units, out_features= hidden_units),\n",
        "            nn.LeakyReLU(0.1),\n",
        "            nn.Linear(in_features= hidden_units, out_features= output_size),   \n",
        "        )\n",
        "    \n",
        "    def forward(self, x):\n",
        "        return self.linear_stack(x)"
      ]
    },
    {
      "cell_type": "code",
      "execution_count": 38,
      "metadata": {},
      "outputs": [
        {
          "data": {
            "text/plain": [
              "FirstModel(\n",
              "  (linear_stack): Sequential(\n",
              "    (0): Linear(in_features=4000, out_features=128, bias=True)\n",
              "    (1): LeakyReLU(negative_slope=0.1)\n",
              "    (2): Linear(in_features=128, out_features=128, bias=True)\n",
              "    (3): LeakyReLU(negative_slope=0.1)\n",
              "    (4): Linear(in_features=128, out_features=2, bias=True)\n",
              "  )\n",
              ")"
            ]
          },
          "execution_count": 38,
          "metadata": {},
          "output_type": "execute_result"
        }
      ],
      "source": [
        "# Define the input and output sizes\n",
        "input_len = X_train_scaled.shape[1]\n",
        "output_len = y_train.shape[1]\n",
        "\n",
        "# Instantiate the model\n",
        "model_0 = FirstModel(input_size=input_len, output_size=output_len)\n",
        "model_0.to(device)"
      ]
    },
    {
      "cell_type": "markdown",
      "metadata": {},
      "source": [
        "Αρχικοποιούμε τα βάρη καθώς παρατηρήθηκε ότι η αρχική τυχαιότητα μπορεί να καταστρέψει τα αποτελέσματα."
      ]
    },
    {
      "cell_type": "code",
      "execution_count": 39,
      "metadata": {},
      "outputs": [
        {
          "data": {
            "text/plain": [
              "FirstModel(\n",
              "  (linear_stack): Sequential(\n",
              "    (0): Linear(in_features=4000, out_features=128, bias=True)\n",
              "    (1): LeakyReLU(negative_slope=0.1)\n",
              "    (2): Linear(in_features=128, out_features=128, bias=True)\n",
              "    (3): LeakyReLU(negative_slope=0.1)\n",
              "    (4): Linear(in_features=128, out_features=2, bias=True)\n",
              "  )\n",
              ")"
            ]
          },
          "execution_count": 39,
          "metadata": {},
          "output_type": "execute_result"
        }
      ],
      "source": [
        "def init_weights(m):\n",
        "    if isinstance(m, torch.nn.Linear):\n",
        "        torch.nn.init.kaiming_uniform_(m.weight, nonlinearity='relu')\n",
        "        m.bias.data.zero_()  # Important to avoid big initial outputs!\n",
        "\n",
        "model_0.apply(init_weights)\n"
      ]
    },
    {
      "cell_type": "markdown",
      "metadata": {},
      "source": [
        "Ορίζουμε την ```loss_function``` τον ```optimizer``` καθώς και τον ```learning_scheduler``` για να μειώσει τον ρυθμό εκμάθησης όσο πλησιάζουμε στην σύγκλιση."
      ]
    },
    {
      "cell_type": "markdown",
      "metadata": {},
      "source": [
        "Για ```optimizer``` δοκίμασα Adam, SGD και RMSprop, με παρόμοια αποτελέσματα."
      ]
    },
    {
      "cell_type": "code",
      "execution_count": 40,
      "metadata": {},
      "outputs": [],
      "source": [
        "# Define the loss function and the optimizer\n",
        "learning_rate = 1e-2\n",
        "\n",
        "\n",
        "loss_fn = nn.MSELoss()\n",
        "optimizer = torch.optim.Adam(model_0.parameters(), lr=learning_rate)\n",
        "\n",
        "# Initialize the scheduler\n",
        "from torch.optim import lr_scheduler\n",
        "scheduler = lr_scheduler.ReduceLROnPlateau(optimizer, mode='min', factor=0.1, patience=10)"
      ]
    },
    {
      "cell_type": "markdown",
      "metadata": {},
      "source": [
        "Κάνουμε train το μοντέλο για 100 εποχές."
      ]
    },
    {
      "cell_type": "markdown",
      "metadata": {},
      "source": [
        "***SOS*** Για επαναληψιμότητα τρέχουμε όλα τα cells [59] - [72] με την **ΣΕΙΡΑ** αλλιώς ο optimizer αρχικοποιείται σε διαφορετικές παραμέτρους."
      ]
    },
    {
      "cell_type": "code",
      "execution_count": 41,
      "metadata": {},
      "outputs": [
        {
          "name": "stdout",
          "output_type": "stream",
          "text": [
            "Epoch 0 | Loss train: 240.83811128425597 | Loss test: 63.228769183158875 | lr = 0.01\n",
            "Epoch 10 | Loss train: 0.6747746398448944 | Loss test: 0.9570305626839399 | lr = 0.01\n",
            "Epoch 20 | Loss train: 0.6603763785362243 | Loss test: 0.38142291083931923 | lr = 0.01\n",
            "Epoch 30 | Loss train: 0.35205443143844606 | Loss test: 0.3672004025429487 | lr = 0.001\n",
            "Epoch 40 | Loss train: 0.35156103599071503 | Loss test: 0.3656808566302061 | lr = 0.001\n",
            "Epoch 50 | Loss train: 0.3475709162950516 | Loss test: 0.36561478301882744 | lr = 0.0001\n",
            "Epoch 60 | Loss train: 0.34728223526477814 | Loss test: 0.3649129681289196 | lr = 0.0001\n",
            "Epoch 70 | Loss train: 0.347442286491394 | Loss test: 0.3650093451142311 | lr = 0.0001\n",
            "Epoch 80 | Loss train: 0.34716151213645935 | Loss test: 0.36503060162067413 | lr = 0.0001\n",
            "Epoch 90 | Loss train: 0.34679555678367613 | Loss test: 0.3652062816545367 | lr = 1e-05\n",
            "Epoch 100 | Loss train: 0.3467678663730621 | Loss test: 0.3652339596301317 | lr = 1e-05\n"
          ]
        }
      ],
      "source": [
        "# Fit the model\n",
        "torch.manual_seed(42)\n",
        "epochs = 100\n",
        "train_loss_arr = []\n",
        "test_loss_arr = []\n",
        "\n",
        "for epoch in range(epochs):\n",
        "    model_0.train()\n",
        "    epoch_loss = 0\n",
        "\n",
        "    # Iterate over mini-batches\n",
        "    for X_batch, y_batch in train_loader:\n",
        "        # Forward pass\n",
        "        y_pred = model_0(X_batch)\n",
        "\n",
        "        # Compute loss\n",
        "        loss = loss_fn(y_pred, y_batch)\n",
        "\n",
        "        # Zero gradients\n",
        "        optimizer.zero_grad()\n",
        "\n",
        "        # Backward pass\n",
        "        loss.backward()\n",
        "\n",
        "        # Update the weights\n",
        "        torch.nn.utils.clip_grad_norm_(model_0.parameters(), max_norm=1.0)  # Gradient clipping to prevent gradients exploding\n",
        "        optimizer.step()\n",
        "\n",
        "        epoch_loss += loss.item()\n",
        "\n",
        "    # Store average training loss\n",
        "    train_loss_arr.append(epoch_loss / len(train_loader))\n",
        "\n",
        "    scheduler.step(epoch_loss)\n",
        "    after_lr = optimizer.param_groups[0]['lr']\n",
        "\n",
        "    # Evaluate the model on a test set\n",
        "    model_0.eval()\n",
        "    test_loss = 0\n",
        "    with torch.inference_mode():\n",
        "        for X_batch, y_batch in test_loader:\n",
        "            y_test_pred = model_0(X_batch)\n",
        "            test_loss += loss_fn(y_test_pred, y_batch).item()\n",
        "\n",
        "    test_loss_arr.append(test_loss / len(test_loader))\n",
        "\n",
        "\n",
        "    if epoch % 10 == 0:\n",
        "        print(f'Epoch {epoch} | Loss train: {train_loss_arr[-1]} | Loss test: {test_loss_arr[-1]} | lr = {after_lr}')\n",
        "print(f'Epoch {epoch + 1} | Loss train: {train_loss_arr[-1]} | Loss test: {test_loss_arr[-1]} | lr = {after_lr}')\n"
      ]
    },
    {
      "cell_type": "markdown",
      "metadata": {},
      "source": [
        "Τι ωραία νούμερα!!! Μακάρι να αντικατοπτρίζουν την πραγματικότητα."
      ]
    },
    {
      "cell_type": "code",
      "execution_count": 42,
      "metadata": {},
      "outputs": [
        {
          "data": {
            "image/png": "[encoded data removed]",
            "text/plain": [
              "<Figure size 640x480 with 1 Axes>"
            ]
          },
          "metadata": {},
          "output_type": "display_data"
        }
      ],
      "source": [
        "# Plot the loss\n",
        "train_loss_arr[0] = 0.8 #Only for visualization reasons, since first training loss is a lot larger than the rest numbers\n",
        "plt.plot(train_loss_arr, label='Train Loss')\n",
        "plt.plot(test_loss_arr, label='Test Loss')\n",
        "plt.legend()\n",
        "plt.show()"
      ]
    },
    {
      "cell_type": "code",
      "execution_count": 43,
      "metadata": {},
      "outputs": [
        {
          "data": {
            "image/png": "[encoded data removed]",
            "text/plain": [
              "<Figure size 640x480 with 1 Axes>"
            ]
          },
          "metadata": {},
          "output_type": "display_data"
        }
      ],
      "source": [
        "model_0.eval()\n",
        "with torch.inference_mode():\n",
        "    y_pred = model_0(X_test_tensor)\n",
        "\n",
        "# Plot the results\n",
        "plt.scatter(y_test[:20, 0], y_test[:20, 1], label='True')\n",
        "plt.scatter(y_pred[:20, 0].cpu().detach().numpy(), y_pred[:20, 1].cpu().detach().numpy(), label='Predicted')\n",
        "plt.legend()\n",
        "plt.show()"
      ]
    },
    {
      "cell_type": "markdown",
      "metadata": {},
      "source": [
        "**********************"
      ]
    }
  ],
  "metadata": {
    "kernelspec": {
      "display_name": "Python 3",
      "language": "python",
      "name": "python3"
    },
    "language_info": {
      "codemirror_mode": {
        "name": "ipython",
        "version": 3
      },
      "file_extension": ".py",
      "mimetype": "text/x-python",
      "name": "python",
      "nbconvert_exporter": "python",
      "pygments_lexer": "ipython3",
      "version": "3.9.11"
    }
  },
  "nbformat": 4,
  "nbformat_minor": 2
}
