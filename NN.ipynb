{
 "cells": [
  {
   "cell_type": "code",
   "execution_count": null,
   "metadata": {},
   "outputs": [
    {
     "name": "stdout",
     "output_type": "stream",
     "text": [
      "[0.1 0.1 0.1 ... 3.  3.  3. ]\n",
      "(5000, 250)\n",
      "(5000,)\n"
     ]
    }
   ],
   "source": [
    "import sklearn.neural_network\n",
    "import torch\n",
    "import sklearn\n",
    "import pandas as pd\n",
    "import numpy as np\n",
    "import ast\n",
    "from sklearn.model_selection import train_test_split\n",
    "import matplotlib.pyplot as plt\n",
    "\n",
    "def sample_random_segments(arr, segment_length, num_samples):\n",
    "    if len(arr) < segment_length:\n",
    "        raise ValueError(\"Segment length must be smaller than or equal to array length.\")\n",
    "    \n",
    "    max_start_index = len(arr) - segment_length  # Ensure segment stays within bounds\n",
    "    start_indices = np.random.randint(0, max_start_index + 1, size=num_samples)\n",
    "\n",
    "    segments = np.empty((0,segment_length))\n",
    "    for i in start_indices:\n",
    "        segments = np.vstack((segments,np.array(arr[i:i+segment_length])))\n",
    "    #segments = ([np.array(arr[i:i + segment_length]) for i in start_indices])\n",
    "    return segments\n",
    "Data = pd.read_pickle(\"Sim_Data.pkl\")\n",
    "#y = np.transpose(np.vstack((Data[\"x_tag\"].to_numpy(),Data[\"y_tag\"].to_numpy(),Data[\"z_tag\"].to_numpy())))\n",
    "y = Data[\"y_tag\"].to_numpy()\n",
    "phases = np.vstack(Data[\"Phases\"].to_numpy())\n",
    "powers = np.vstack(Data[\"Powers\"].to_numpy())\n",
    "X = np.hstack((phases,powers))\n",
    "\n",
    "num_of_samples_each = 5\n",
    "X_new = np.empty((0,250))\n",
    "for i in range(0,X.shape[0]):\n",
    "    tempX = np.array(sample_random_segments(X[i,:],250,num_of_samples_each)) \n",
    "    X_new = np.vstack((X_new,tempX))\n",
    "y_new = np.repeat(y,num_of_samples_each)\n",
    "print(y_new)\n",
    "print(X_new.shape)\n",
    "print(y_new.shape)\n",
    "X_train, X_test, y_train, y_test = train_test_split(X_new, y_new, test_size=0.2, random_state=42)\n",
    "\n",
    "from sklearn.preprocessing import StandardScaler\n",
    "mlp = sklearn.neural_network.MLPRegressor(random_state=42, max_iter=2000, tol=0.1,hidden_layer_sizes=(1000,100),activation=\"relu\",solver=\"adam\",alpha=0.01)\n",
    "scaler = StandardScaler()\n",
    "\n",
    "# Fit the scaler on the training data and transform both the training and test sets\n",
    "X_train_scaled = scaler.fit_transform(X_train)\n",
    "X_test_scaled = scaler.transform(X_test)\n",
    "\n",
    "# Train the model with the scaled data\n",
    "mlp.fit(X_train_scaled, y_train)\n",
    "y_hat = mlp.predict(X_test_scaled)\n",
    "print(\"R^2 Score:\", mlp.score(X_test_scaled, y_test))\n",
    "\n",
    "plt.figure()\n",
    "x = np.arange(0,len(y_test))\n",
    "plt.scatter(x,y_test)\n",
    "plt.scatter(x,y_hat)\n",
    "plt.show()\n",
    "plt.figure()\n",
    "e = y_test-y_hat\n",
    "plt.scatter(x,e)\n",
    "plt.show()\n",
    "\n"
   ]
  },
  {
   "cell_type": "code",
   "execution_count": null,
   "metadata": {},
   "outputs": [],
   "source": []
  }
 ],
 "metadata": {
  "kernelspec": {
   "display_name": "Python 3",
   "language": "python",
   "name": "python3"
  },
  "language_info": {
   "codemirror_mode": {
    "name": "ipython",
    "version": 3
   },
   "file_extension": ".py",
   "mimetype": "text/x-python",
   "name": "python",
   "nbconvert_exporter": "python",
   "pygments_lexer": "ipython3",
   "version": "3.11.9"
  }
 },
 "nbformat": 4,
 "nbformat_minor": 2
}
