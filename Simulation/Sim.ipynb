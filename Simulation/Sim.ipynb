{
 "cells": [
  {
   "cell_type": "code",
   "execution_count": 1,
   "metadata": {},
   "outputs": [],
   "source": [
    "import numpy as np\n",
    "import pandas as pd\n",
    "import matplotlib.pyplot as plt\n",
    "from scipy.interpolate import interp1d\n",
    "import random\n",
    "import os"
   ]
  },
  {
   "cell_type": "markdown",
   "metadata": {},
   "source": [
    "Δημιουργούμε τον φάκελο του current simulation. Αν υπάρχουν φάκελοι με αρίθμηση δημιουργούμε εναν καινούριο με index μεγαλύτερο κατά 1."
   ]
  },
  {
   "cell_type": "code",
   "execution_count": 2,
   "metadata": {},
   "outputs": [
    {
     "name": "stdout",
     "output_type": "stream",
     "text": [
      "Created folder: c:\\Users\\jimka\\OneDrive\\Documents\\GitHub\\NNs-on-RFID-Localization\\Simulation\\Sim_Data_7\n"
     ]
    }
   ],
   "source": [
    "from pathlib import Path\n",
    "\n",
    "# Get the directory of the script\n",
    "parent_dir = Path(__file__).parent if \"__file__\" in globals() else Path.cwd()\n",
    "\n",
    "# Initialize a list to store the indices\n",
    "existing_indices = []\n",
    "\n",
    "# Iterate through the folders in the directory\n",
    "for folder in parent_dir.iterdir():\n",
    "    if folder.is_dir() and folder.name.startswith(\"Sim_Data_\"):  # Check if it's a directory and follows the pattern\n",
    "        try:\n",
    "            index = int(folder.name[len(\"Sim_Data_\"):])  # Extract the number part\n",
    "            existing_indices.append(index)\n",
    "        except ValueError:\n",
    "            pass  # Ignore folders that don't have a valid integer index\n",
    "\n",
    "# Determine the next index\n",
    "new_index = (max(existing_indices) + 1) if existing_indices else 0\n",
    "\n",
    "# Create the new folder\n",
    "new_folder_path = parent_dir / f\"Sim_Data_{new_index}\"\n",
    "new_folder_path.mkdir(exist_ok=True)\n",
    "\n",
    "print(f\"Created folder: {new_folder_path}\")\n",
    "\n"
   ]
  },
  {
   "cell_type": "markdown",
   "metadata": {},
   "source": [
    "Κλάση Ρομπότ για την γέννηση των ρομπότ. Κάθε προσομοίωση έχει 1 ρομπότ συνήθως, με 1-4 κεραίες."
   ]
  },
  {
   "cell_type": "code",
   "execution_count": 3,
   "metadata": {},
   "outputs": [],
   "source": [
    "class Robot:\n",
    "    def __init__(self,pos:np.ndarray,antennas:list):\n",
    "        self.antennas = antennas\n",
    "        self.position = pos\n",
    "        self.num_of_antennas = len(antennas)\n",
    "    def update_pos(self,pos):\n",
    "        self.position = pos"
   ]
  },
  {
   "cell_type": "markdown",
   "metadata": {},
   "source": [
    "Κλάση Tag για τη γέννηση των tags. Κάθε προσομοίωση έχει 1 tag."
   ]
  },
  {
   "cell_type": "code",
   "execution_count": 5,
   "metadata": {},
   "outputs": [],
   "source": [
    "class Tag:\n",
    "    def __init__(self,pos:np.ndarray):\n",
    "        self.position = pos"
   ]
  },
  {
   "cell_type": "markdown",
   "metadata": {},
   "source": [
    "Κλάση Antenna για τις κεραίες των ρομπότ."
   ]
  },
  {
   "cell_type": "code",
   "execution_count": 4,
   "metadata": {},
   "outputs": [],
   "source": [
    "class Antenna:\n",
    "    def __init__(self,z:float,G_dBm:float,theta_vector:np.ndarray,phi_vector:np.ndarray):\n",
    "        self.z = z\n",
    "        self.G_dBm = G_dBm\n",
    "        self.theta_vector = theta_vector\n",
    "        self.phi_vector = phi_vector\n",
    "        self.phase_bias = random.uniform(0,2*np.pi)\n",
    "    \n",
    "    def get_gain(self,theta_rad:float,phi_rad:float):\n",
    "        theta_deg: int = round(theta_rad*180/np.pi)%360 #we don't really need the modulo here, i think but just to be safe\n",
    "        phi_deg: int = round(phi_rad * 180/np.pi)%360\n",
    "        return self.theta_vector[theta_deg] + self.phi_vector[phi_deg] + self.G_dBm\n"
   ]
  },
  {
   "cell_type": "markdown",
   "metadata": {},
   "source": [
    "Ξεκινάμε το simulation "
   ]
  },
  {
   "cell_type": "code",
   "execution_count": 6,
   "metadata": {},
   "outputs": [
    {
     "data": {
      "text/html": [
       "<div>\n",
       "<style scoped>\n",
       "    .dataframe tbody tr th:only-of-type {\n",
       "        vertical-align: middle;\n",
       "    }\n",
       "\n",
       "    .dataframe tbody tr th {\n",
       "        vertical-align: top;\n",
       "    }\n",
       "\n",
       "    .dataframe thead th {\n",
       "        text-align: right;\n",
       "    }\n",
       "</style>\n",
       "<table border=\"1\" class=\"dataframe\">\n",
       "  <thead>\n",
       "    <tr style=\"text-align: right;\">\n",
       "      <th></th>\n",
       "      <th>tag_pos</th>\n",
       "      <th>Antenna</th>\n",
       "      <th>robot_pos</th>\n",
       "      <th>Phases</th>\n",
       "    </tr>\n",
       "  </thead>\n",
       "  <tbody>\n",
       "    <tr>\n",
       "      <th>0</th>\n",
       "      <td>[2.0, 0.1, 0.0]</td>\n",
       "      <td>0</td>\n",
       "      <td>[[0.0016592182891534504, 0.0, 0.0], [0.0061772...</td>\n",
       "      <td>[0.0, -0.013931420973875674, -0.19694396574274...</td>\n",
       "    </tr>\n",
       "    <tr>\n",
       "      <th>1</th>\n",
       "      <td>[2.0, 0.10145072536268135, 0.0]</td>\n",
       "      <td>0</td>\n",
       "      <td>[[0.0047779282632206335, 0.0, 0.0], [0.0099028...</td>\n",
       "      <td>[0.0, -0.06780893461152004, -0.372687830109057...</td>\n",
       "    </tr>\n",
       "    <tr>\n",
       "      <th>2</th>\n",
       "      <td>[2.0, 0.10290145072536269, 0.0]</td>\n",
       "      <td>0</td>\n",
       "      <td>[[0.004597193584383609, 0.0, 0.0], [0.01080826...</td>\n",
       "      <td>[0.0, -0.05292323279039124, -0.272468358175146...</td>\n",
       "    </tr>\n",
       "    <tr>\n",
       "      <th>3</th>\n",
       "      <td>[2.0, 0.10435217608804402, 0.0]</td>\n",
       "      <td>0</td>\n",
       "      <td>[[0.007397813777500801, 0.0, 0.0], [0.01335308...</td>\n",
       "      <td>[0.0, -0.11624923272798071, -0.289476540021439...</td>\n",
       "    </tr>\n",
       "    <tr>\n",
       "      <th>4</th>\n",
       "      <td>[2.0, 0.10580290145072536, 0.0]</td>\n",
       "      <td>0</td>\n",
       "      <td>[[0.0062299988834332715, 0.0, 0.0], [0.0081049...</td>\n",
       "      <td>[0.0, 0.16841321371747142, -0.0298498554396644...</td>\n",
       "    </tr>\n",
       "  </tbody>\n",
       "</table>\n",
       "</div>"
      ],
      "text/plain": [
       "                           tag_pos  Antenna  \\\n",
       "0                  [2.0, 0.1, 0.0]        0   \n",
       "1  [2.0, 0.10145072536268135, 0.0]        0   \n",
       "2  [2.0, 0.10290145072536269, 0.0]        0   \n",
       "3  [2.0, 0.10435217608804402, 0.0]        0   \n",
       "4  [2.0, 0.10580290145072536, 0.0]        0   \n",
       "\n",
       "                                           robot_pos  \\\n",
       "0  [[0.0016592182891534504, 0.0, 0.0], [0.0061772...   \n",
       "1  [[0.0047779282632206335, 0.0, 0.0], [0.0099028...   \n",
       "2  [[0.004597193584383609, 0.0, 0.0], [0.01080826...   \n",
       "3  [[0.007397813777500801, 0.0, 0.0], [0.01335308...   \n",
       "4  [[0.0062299988834332715, 0.0, 0.0], [0.0081049...   \n",
       "\n",
       "                                              Phases  \n",
       "0  [0.0, -0.013931420973875674, -0.19694396574274...  \n",
       "1  [0.0, -0.06780893461152004, -0.372687830109057...  \n",
       "2  [0.0, -0.05292323279039124, -0.272468358175146...  \n",
       "3  [0.0, -0.11624923272798071, -0.289476540021439...  \n",
       "4  [0.0, 0.16841321371747142, -0.0298498554396644...  "
      ]
     },
     "execution_count": 6,
     "metadata": {},
     "output_type": "execute_result"
    }
   ],
   "source": [
    "#We assume the RFID tag frequency is 866MHz\n",
    "freq = 866e6\n",
    "#Speed of light\n",
    "c = 299792458.0\n",
    "\n",
    "lambda_signal = c/freq\n",
    "\n",
    "\n",
    "Pt_dBm = 30\n",
    "\n",
    "G_R_dBm = 1\n",
    "\n",
    "#antenna initialization\n",
    "pattern = pd.read_excel(\"pattern.xlsx\")\n",
    "gain_theta = pattern[\"Gain_t(dB)\"].to_numpy()\n",
    "gain_phi = pattern[\"Gain_p(dB)\"].to_numpy()\n",
    "Antenna1 = Antenna(0,4,gain_theta,gain_phi)\n",
    "Antenna2 = Antenna(0.4,4,gain_theta,gain_phi)\n",
    "Antenna3 = Antenna(0.6,4,gain_theta,gain_phi)\n",
    "\n",
    "#Points of the movement (for the moment it is straight)\n",
    "p1 = np.array([0,0,0])\n",
    "p2 = np.array([4,0,0])\n",
    "#Initialization of robot with antennas\n",
    "Robot_inst = Robot(p1,[Antenna1])\n",
    "#p3 serves as a visual guide to know where the movement starts\n",
    "kappa = 0.1\n",
    "p3 = (1-kappa)*p1+kappa*p2\n",
    "\n",
    "\n",
    "data_list = []  #list containing all the saved data\n",
    "#tag position params\n",
    "x_tag = 2 \n",
    "z_tag = 0\n",
    "y_steps = np.linspace(0.1,3,2000) #the last number is the number of samples for each epoch\n",
    "for antenna_num,antenna in enumerate(Robot_inst.antennas):\n",
    "    #do this for all antennas\n",
    "    for y_tag in y_steps:\n",
    "        #Tag initialization\n",
    "        tagp = np.array([x_tag,y_tag,z_tag])\n",
    "        tag1 = Tag(tagp)\n",
    "        \n",
    "        phases = []\n",
    "        robot_pos = []\n",
    "        rho = 0   #rho is the position of the x axis\n",
    "        mu,sigma = 0.0038,0.001834  #mu and sigma for the normal distribution of the sampling based on real data. This can change depending on the data.\n",
    "        while(rho<4):\n",
    "        #for j in range(0,1000):\n",
    "            rho = rho + np.random.normal(mu,sigma)\n",
    "            #there will be a problem with z if p1 and p2 do not have z = 0\n",
    "            new_pos = p1 + rho*(p2-p1)/np.linalg.norm(p2-p1)\n",
    "            #new_pos = p1 + j*(p2-p1)/np.linalg.norm(p2-p1)\n",
    "            robot_pos.append(new_pos)\n",
    "            Robot_inst.update_pos(new_pos)\n",
    "            r = np.linalg.norm(tag1.position-Robot_inst.position)\n",
    "            #Find the phi,theta of the antenna pattern and move it from -pi,pi to 0,2pi\n",
    "            if(tag1.position[0] == 0):\n",
    "                theta_tag = np.pi/2\n",
    "            else:\n",
    "                theta_tag = np.atan(tag1.position[1]/tag1.position[0])\n",
    "            theta_tag = (theta_tag + 2*np.pi)%np.pi\n",
    "            if(tag1.position[2] == antenna.z):\n",
    "                phi_tag = 0\n",
    "            else:\n",
    "                phi_tag = np.atan(np.sqrt(pow(tag1.position[0],2)+pow(tag1.position[1],2))/(tag1.position[2]-antenna.z))\n",
    "            phi_tag = (phi_tag + 2*np.pi)%np.pi\n",
    "            #we calculate the Friis equation\n",
    "            Pr = antenna.get_gain(theta_tag,phi_tag) + G_R_dBm + Pt_dBm + 20*np.log10(lambda_signal/(4*np.pi*r))\n",
    "            phases.append( ((2*np.pi)/lambda_signal)*2*r + antenna.phase_bias + np.random.normal(0,0.09)) #mu = 0 and sigma = 5deg ~= 0.09 rad\n",
    "        data_list.append({\n",
    "            \"tag_pos\": np.array([x_tag,y_tag,z_tag]),\n",
    "            \"Antenna\": antenna_num,\n",
    "            \"robot_pos\" : np.array(robot_pos),\n",
    "            \"Phases\": np.array(phases)-phases[0]\n",
    "        })\n",
    "    \n",
    "    ##VISUALIZATION\n",
    "\n",
    "    # fig = plt.figure()\n",
    "    # plt.scatter(np.array([p1[0],p3[0],p2[0],tagp[0]]),np.array([p1[1],p3[1],p2[1],tagp[1]]))\n",
    "    # plt.show()\n",
    "    \n",
    "    # fig = plt.figure()\n",
    "    # x = np.arange(0,len(phases))\n",
    "    # plt.scatter(x,np.array(phases)-phases[0])\n",
    "    # plt.show()\n",
    "\n",
    "    # fig = plt.figure()\n",
    "    # x = np.arange(0,len(phases))\n",
    "    # plt.scatter(x,np.array(phases)%(2*np.pi),linewidths=0.2)\n",
    "    # plt.show()\n",
    "\n",
    "    # fig = plt.figure()\n",
    "    # plt.plot(gain_theta)\n",
    "    # plt.plot(gain_phi)\n",
    "    # plt.show()\n",
    "\n",
    "# Convert the list to a DataFrame\n",
    "Data = pd.DataFrame(data_list)\n",
    "\n",
    "# Save to a pickle file\n",
    "Data.to_pickle(f\"{new_folder_path}/Sim_Data_Noisy.pkl\")\n",
    "\n",
    "Data.head()\n",
    "\n"
   ]
  },
  {
   "cell_type": "code",
   "execution_count": 7,
   "metadata": {},
   "outputs": [
    {
     "name": "stdout",
     "output_type": "stream",
     "text": [
      "(2000, 3)\n"
     ]
    }
   ],
   "source": [
    "#Data = pd.read_pickle(\"Sim_Data_Noisy.pkl\")\n",
    "tag_pos = np.vstack(Data['tag_pos'].to_numpy())\n",
    "antenna_nums = np.vstack(Data['Antenna'].to_numpy())\n",
    "print(tag_pos.shape)"
   ]
  },
  {
   "cell_type": "markdown",
   "metadata": {},
   "source": [
    "Έπειτα δημιουργούμε έναν πίνακα (tensor) διαστάσεων $(1000, 1000, 4)$ που περιέχει για τα 1000 tags που δημιουργήθηκαν από το simulation, τα 1000 time samples από το μήκος των μετρήσεων, και τα 4 χαρακτηριστικά που μας χρειάζονται , [x_robot,y_robot,z_robot,phase_unwrapped]."
   ]
  },
  {
   "cell_type": "markdown",
   "metadata": {},
   "source": [
    "***"
   ]
  },
  {
   "cell_type": "markdown",
   "metadata": {},
   "source": [
    "### Data Augmentation μέσω segmentation"
   ]
  },
  {
   "cell_type": "markdown",
   "metadata": {},
   "source": [
    "Ορίζουμε την συνάρτηση παρακάτω μέσω της οποίας μετασχηματίζουμε κάθε μία μέτρηση σε ένα πλήθος x που μπορούμε να διαλέξουμε εμείς με y αριθμό μετρήσεων στο κάθε ένα. Αυτό συμβαίνει καθώς για κάθε ένα tag σπάμε τις μετρήσεις σε x (όχι απαραίτητα μη επικαλυπτόμενες) μετρήσεις μεγέθους y."
   ]
  },
  {
   "cell_type": "code",
   "execution_count": 8,
   "metadata": {},
   "outputs": [],
   "source": [
    "def sample_random_segments_fn(data, num_samples= 5, segment_length= 400):\n",
    "    segments = []\n",
    "    # Data contains ['Phases', 'robot_pos']\n",
    "    for i in range(len(data)):\n",
    "        phases = data['Phases'][i]\n",
    "        robot_pos = data['robot_pos'][i]\n",
    "        # Get the length of the phases array\n",
    "        length = len(phases)\n",
    "        # Generate random start indices for segments\n",
    "        start_indices = random.sample(range(length - segment_length), num_samples)\n",
    "        for start in start_indices:\n",
    "            end = start + segment_length\n",
    "            segment_phases = phases[start:end]\n",
    "            segment_robot_pos = robot_pos[start:end]\n",
    "            # Append the segment data to the list, but subtract the first x-value from the tag pos and robot pos\n",
    "            segments.append({\n",
    "                'Phases': segment_phases,\n",
    "                'robot_pos': segment_robot_pos - segment_robot_pos[0],\n",
    "                'tag_pos': [data['tag_pos'][i][0] - segment_robot_pos[0][0], data['tag_pos'][i][1], data['tag_pos'][i][2]]\n",
    "            })\n",
    "    return segments"
   ]
  },
  {
   "cell_type": "code",
   "execution_count": 9,
   "metadata": {},
   "outputs": [
    {
     "data": {
      "text/html": [
       "<div>\n",
       "<style scoped>\n",
       "    .dataframe tbody tr th:only-of-type {\n",
       "        vertical-align: middle;\n",
       "    }\n",
       "\n",
       "    .dataframe tbody tr th {\n",
       "        vertical-align: top;\n",
       "    }\n",
       "\n",
       "    .dataframe thead th {\n",
       "        text-align: right;\n",
       "    }\n",
       "</style>\n",
       "<table border=\"1\" class=\"dataframe\">\n",
       "  <thead>\n",
       "    <tr style=\"text-align: right;\">\n",
       "      <th></th>\n",
       "      <th>Phases</th>\n",
       "      <th>robot_pos</th>\n",
       "      <th>tag_pos</th>\n",
       "    </tr>\n",
       "  </thead>\n",
       "  <tbody>\n",
       "    <tr>\n",
       "      <th>0</th>\n",
       "      <td>[-9.2957602694798, -9.609572904101327, -9.8965...</td>\n",
       "      <td>[[0.0, 0.0, 0.0], [0.004774677828534579, 0.0, ...</td>\n",
       "      <td>[1.7369415305779177, 0.1, 0.0]</td>\n",
       "    </tr>\n",
       "    <tr>\n",
       "      <th>1</th>\n",
       "      <td>[-6.1017959732055544, -6.167594555618081, -6.2...</td>\n",
       "      <td>[[0.0, 0.0, 0.0], [-0.0009029686782236201, 0.0...</td>\n",
       "      <td>[1.8274908981487963, 0.1, 0.0]</td>\n",
       "    </tr>\n",
       "    <tr>\n",
       "      <th>2</th>\n",
       "      <td>[-27.44887389425717, -27.392750109251715, -27....</td>\n",
       "      <td>[[0.0, 0.0, 0.0], [0.0005745920054198717, 0.0,...</td>\n",
       "      <td>[1.2405525357968772, 0.1, 0.0]</td>\n",
       "    </tr>\n",
       "    <tr>\n",
       "      <th>3</th>\n",
       "      <td>[-5.744895640983813, -5.887920268672602, -5.81...</td>\n",
       "      <td>[[0.0, 0.0, 0.0], [0.0026343373035221107, 0.0,...</td>\n",
       "      <td>[1.8381592821599153, 0.1, 0.0]</td>\n",
       "    </tr>\n",
       "    <tr>\n",
       "      <th>4</th>\n",
       "      <td>[-62.387336622065604, -62.09964894985859, -62....</td>\n",
       "      <td>[[0.0, 0.0, 0.0], [0.0009948973952895734, 0.0,...</td>\n",
       "      <td>[-0.2667734648732236, 0.1, 0.0]</td>\n",
       "    </tr>\n",
       "  </tbody>\n",
       "</table>\n",
       "</div>"
      ],
      "text/plain": [
       "                                              Phases  \\\n",
       "0  [-9.2957602694798, -9.609572904101327, -9.8965...   \n",
       "1  [-6.1017959732055544, -6.167594555618081, -6.2...   \n",
       "2  [-27.44887389425717, -27.392750109251715, -27....   \n",
       "3  [-5.744895640983813, -5.887920268672602, -5.81...   \n",
       "4  [-62.387336622065604, -62.09964894985859, -62....   \n",
       "\n",
       "                                           robot_pos  \\\n",
       "0  [[0.0, 0.0, 0.0], [0.004774677828534579, 0.0, ...   \n",
       "1  [[0.0, 0.0, 0.0], [-0.0009029686782236201, 0.0...   \n",
       "2  [[0.0, 0.0, 0.0], [0.0005745920054198717, 0.0,...   \n",
       "3  [[0.0, 0.0, 0.0], [0.0026343373035221107, 0.0,...   \n",
       "4  [[0.0, 0.0, 0.0], [0.0009948973952895734, 0.0,...   \n",
       "\n",
       "                           tag_pos  \n",
       "0   [1.7369415305779177, 0.1, 0.0]  \n",
       "1   [1.8274908981487963, 0.1, 0.0]  \n",
       "2   [1.2405525357968772, 0.1, 0.0]  \n",
       "3   [1.8381592821599153, 0.1, 0.0]  \n",
       "4  [-0.2667734648732236, 0.1, 0.0]  "
      ]
     },
     "execution_count": 9,
     "metadata": {},
     "output_type": "execute_result"
    }
   ],
   "source": [
    "# Sample random segments from all the data\n",
    "random_segments = sample_random_segments_fn(Data, num_samples= 5, segment_length= 400)\n",
    "# Convert the list of segments to a DataFrame\n",
    "random_segments_df = pd.DataFrame(random_segments)\n",
    "random_segments_df.head()"
   ]
  },
  {
   "cell_type": "markdown",
   "metadata": {},
   "source": [
    "***"
   ]
  },
  {
   "cell_type": "markdown",
   "metadata": {},
   "source": [
    "### Linear Interpolation για να έχουμε ίδιο μέγεθος σε όλα τα samples"
   ]
  },
  {
   "cell_type": "markdown",
   "metadata": {},
   "source": [
    "Μιας και τα δεδομένα μας περιμένουμε να περιέχουν ασυνέχειες, σκεφτόμαστε ότι μέσω της γραμμικής παρεμβολής θα βεβαιωνόμαστε για το σταθερό μήκος του Input στο μοντέλο. Αυτό υλοποιείται παρακάτω."
   ]
  },
  {
   "cell_type": "code",
   "execution_count": 10,
   "metadata": {},
   "outputs": [],
   "source": [
    "#Linear interpolation through the random segments data\n",
    "def linear_interpolation(data, num_of_samples):\n",
    "    interpolated_data = []\n",
    "    for i in range(len(data)):\n",
    "        phases = data['Phases'][i]\n",
    "        robot_pos = data['robot_pos'][i]\n",
    "        tag_pos = data['tag_pos'][i]\n",
    "\n",
    "        # Create the interpolation function\n",
    "        f_phases = interp1d(np.arange(len(phases)), phases, kind='linear')\n",
    "        f_robot_pos = interp1d(np.arange(len(robot_pos)), robot_pos, axis=0, kind='linear')\n",
    "\n",
    "        # Generate new x values for interpolation\n",
    "        new_x = np.linspace(0, len(phases) - 1, num_of_samples)\n",
    "\n",
    "        # Interpolate the phases and robot positions\n",
    "        new_phases = f_phases(new_x)\n",
    "        new_robot_pos = f_robot_pos(new_x)\n",
    "\n",
    "        interpolated_data.append({\n",
    "            'Phases': new_phases,\n",
    "            'robot_pos': new_robot_pos,\n",
    "            'tag_pos': tag_pos,\n",
    "\n",
    "        })\n",
    "    return interpolated_data\n"
   ]
  },
  {
   "cell_type": "code",
   "execution_count": 11,
   "metadata": {},
   "outputs": [],
   "source": [
    "# Interpolate the random segments data\n",
    "interpolated_segments = linear_interpolation(random_segments_df, num_of_samples=385)\n",
    "# Convert the list of interpolated segments to a DataFrame\n",
    "interpolated_segments_df = pd.DataFrame(interpolated_segments)\n",
    "# Save the interpolated data to a pickle file\n",
    "interpolated_segments_df.to_pickle(f\"{new_folder_path}/Sim_Data_Interpolated.pkl\")"
   ]
  },
  {
   "cell_type": "markdown",
   "metadata": {},
   "source": [
    "Αποθηκεύουμε και το μικρότερο αρχείο χωρίς τις θέσεις του ρομπότ μιας και αυτές είναι προκαθορισμένες και δεν είναι ανάγκη να αποθηκεύονται."
   ]
  }
 ],
 "metadata": {
  "kernelspec": {
   "display_name": "Python 3",
   "language": "python",
   "name": "python3"
  },
  "language_info": {
   "codemirror_mode": {
    "name": "ipython",
    "version": 3
   },
   "file_extension": ".py",
   "mimetype": "text/x-python",
   "name": "python",
   "nbconvert_exporter": "python",
   "pygments_lexer": "ipython3",
   "version": "3.11.9"
  }
 },
 "nbformat": 4,
 "nbformat_minor": 2
}
