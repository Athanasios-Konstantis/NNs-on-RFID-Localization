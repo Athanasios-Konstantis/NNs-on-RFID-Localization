{
 "cells": [
  {
   "cell_type": "code",
   "execution_count": 24,
   "metadata": {},
   "outputs": [],
   "source": [
    "import numpy as np\n",
    "import pandas as pd\n",
    "import matplotlib.pyplot as plt\n",
    "from scipy.interpolate import interp1d"
   ]
  },
  {
   "cell_type": "code",
   "execution_count": 25,
   "metadata": {},
   "outputs": [],
   "source": [
    "class Robot:\n",
    "    def __init__(self,pos:np.ndarray,antennas:list):\n",
    "        self.antennas = antennas\n",
    "        self.position = pos\n",
    "        self.num_of_antennas = len(antennas)\n",
    "    def update_pos(self,pos):\n",
    "        self.position = pos"
   ]
  },
  {
   "cell_type": "code",
   "execution_count": 26,
   "metadata": {},
   "outputs": [],
   "source": [
    "class Tag:\n",
    "    def __init__(self,pos:np.ndarray):\n",
    "        self.position = pos"
   ]
  },
  {
   "cell_type": "code",
   "execution_count": 27,
   "metadata": {},
   "outputs": [],
   "source": [
    "class Antenna:\n",
    "    def __init__(self,z:float,G_dBm:float,theta_vector:np.ndarray,phi_vector:np.ndarray):\n",
    "        self.z = z\n",
    "        self.G_dBm = G_dBm\n",
    "        self.theta_vector = theta_vector\n",
    "        self.phi_vector = phi_vector\n",
    "    \n",
    "    def get_gain(self,theta_rad:float,phi_rad:float):\n",
    "        theta_deg: int = round(theta_rad*180/np.pi)%360 #we don't really need the modulo here, i think but just to be safe\n",
    "        phi_deg: int = round(phi_rad * 180/np.pi)%360\n",
    "        return self.theta_vector[theta_deg] + self.phi_vector[phi_deg] + self.G_dBm\n"
   ]
  },
  {
   "cell_type": "code",
   "execution_count": 28,
   "metadata": {},
   "outputs": [],
   "source": [
    "#We assume the RFID tag frequency is 866MHz\n",
    "freq = 866e6\n",
    "#Speed of light\n",
    "c = 299792458.0\n",
    "\n",
    "lambda_signal = c/freq\n",
    "\n",
    "\n",
    "Pt_dBm = 30\n",
    "\n",
    "G_R_dBm = 1\n",
    "\n",
    "#antenna initialization\n",
    "pattern = pd.read_excel(\"pattern.xlsx\")\n",
    "gain_theta = pattern[\"Gain_t(dB)\"].to_numpy()\n",
    "gain_phi = pattern[\"Gain_p(dB)\"].to_numpy()\n",
    "Antenna1 = Antenna(0.2,4,gain_theta,gain_phi)\n",
    "#Antenna2 = Antenna(0.4,4,gain_theta,gain_phi)\n",
    "\n",
    "#Points of the movement (for the moment it is straight)\n",
    "p1 = np.array([0,0,0])\n",
    "p2 = np.array([4,0,0])\n",
    "#Initialization of robot with antennas\n",
    "Robot_inst = Robot(p1,[Antenna1])\n",
    "#p3 serves as a visual guide to know where the movement starts\n",
    "kappa = 0.1\n",
    "p3 = (1-kappa)*p1+kappa*p2\n",
    "\n",
    "\n",
    "data_list = []  #list containing all the saved data\n",
    "#tag position params\n",
    "x_tag = 2 \n",
    "z_tag = 0.1\n",
    "y_steps = np.linspace(0.1,3,1000) #the last number is the number of samples for each epoch\n",
    "for y_tag in y_steps:\n",
    "    #Tag initialization\n",
    "    tagp = np.array([x_tag,y_tag,z_tag])\n",
    "    tag1 = Tag(tagp)\n",
    "    #do this for all antennas\n",
    "    for antenna_num,antenna in enumerate(Robot_inst.antennas):\n",
    "        phases = []\n",
    "        robot_pos = []\n",
    "        rho = 0   #rho is the position of the x axis\n",
    "        mu,sigma = 0.0038,0.001834  #mu and sigma for the normal distribution of the sampling \n",
    "        while(rho<4):\n",
    "        #for j in range(0,1000):\n",
    "            rho = rho + np.random.normal(mu,sigma)\n",
    "            #there will be a problem with z if p1 and p2 do not have z = 0\n",
    "            new_pos = p1 + rho*(p2-p1)/np.linalg.norm(p2-p1)\n",
    "            #new_pos = p1 + j*(p2-p1)/np.linalg.norm(p2-p1)\n",
    "            robot_pos.append(new_pos)\n",
    "            Robot_inst.update_pos(new_pos)\n",
    "            r = np.linalg.norm(tag1.position-Robot_inst.position)\n",
    "            #Find the phi,theta of the antenna pattern and move it from -pi,pi to 0,2pi\n",
    "            if(tag1.position[0] == 0):\n",
    "                theta_tag = np.pi/2\n",
    "            else:\n",
    "                theta_tag = np.atan(tag1.position[1]/tag1.position[0])\n",
    "            theta_tag = (theta_tag + 2*np.pi)%np.pi\n",
    "            if(tag1.position[2] == antenna.z):\n",
    "                phi_tag = 0\n",
    "            else:\n",
    "                phi_tag = np.atan(np.sqrt(pow(tag1.position[0],2)+pow(tag1.position[1],2))/(tag1.position[2]-antenna.z))\n",
    "            phi_tag = (phi_tag + 2*np.pi)%np.pi\n",
    "            #we calculate the Friis equation\n",
    "            Pr = antenna.get_gain(theta_tag,phi_tag) + G_R_dBm + Pt_dBm + 20*np.log10(lambda_signal/(4*np.pi*r))\n",
    "            phases.append( ((2*np.pi)/lambda_signal)*2*r + np.random.normal(0,0.09)) #mu = 0 and sigma = 5deg ~= 0.09 rad\n",
    "        data_list.append({\n",
    "            \"tag_pos\": np.array([x_tag,y_tag,z_tag]),\n",
    "            \"Antenna\": antenna_num,\n",
    "            \"robot_pos\" : np.array(robot_pos),\n",
    "            \"Phases\": np.array(phases)\n",
    "        })\n",
    "    \n",
    "    ##VISUALIZATION\n",
    "\n",
    "    # fig = plt.figure()\n",
    "    # plt.scatter(np.array([p1[0],p3[0],p2[0],tagp[0]]),np.array([p1[1],p3[1],p2[1],tagp[1]]))\n",
    "    # plt.show()\n",
    "    \n",
    "    # fig = plt.figure()\n",
    "    # x = np.arange(0,len(phases))\n",
    "    # plt.scatter(x,phases)\n",
    "    # plt.show()\n",
    "\n",
    "    # fig = plt.figure()\n",
    "    # x = np.arange(0,len(phases))\n",
    "    # plt.scatter(x,np.array(phases)%(2*np.pi),linewidths=0.2)\n",
    "    # plt.show()\n",
    "\n",
    "    # fig = plt.figure()\n",
    "    # plt.plot(gain_theta)\n",
    "    # plt.plot(gain_phi)\n",
    "    # plt.show()\n",
    "\n",
    "# Convert the list to a DataFrame\n",
    "Data = pd.DataFrame(data_list)\n",
    "\n",
    "# Save to a pickle file\n",
    "Data.to_pickle(\"Sim_Data_Noisy.pkl\")\n",
    "\n",
    "\n",
    "\n"
   ]
  },
  {
   "cell_type": "code",
   "execution_count": 29,
   "metadata": {},
   "outputs": [
    {
     "name": "stdout",
     "output_type": "stream",
     "text": [
      "(1000, 3)\n"
     ]
    }
   ],
   "source": [
    "#Data = pd.read_pickle(\"Sim_Data_Noisy.pkl\")\n",
    "tag_pos = np.vstack(Data['tag_pos'].to_numpy())\n",
    "print(tag_pos.shape)"
   ]
  },
  {
   "cell_type": "markdown",
   "metadata": {},
   "source": [
    "Έπειτα δημιουργούμε έναν πίνακα (tensor) διαστάσεων $(1000, 1000, 4)$ που περιέχει για τα 1000 tags που δημιουργήθηκαν από το simulation, τα 1000 time samples από το μήκος των μετρήσεων, και τα 4 χαρακτηριστικά που μας χρειάζονται , [x_robot,y_robot,z_robot,phase_unwrapped]."
   ]
  },
  {
   "cell_type": "markdown",
   "metadata": {},
   "source": [
    "***"
   ]
  },
  {
   "cell_type": "markdown",
   "metadata": {},
   "source": [
    "### Data Augmentation μέσω segmentation"
   ]
  },
  {
   "cell_type": "markdown",
   "metadata": {},
   "source": [
    "Ορίζουμε την συνάρτηση παρακάτω μέσω της οποίας μετασχηματίζουμε κάθε μία μέτρηση σε ένα πλήθος x που μπορούμε να διαλέξουμε εμείς με y αριθμό μετρήσεων στο κάθε ένα. Αυτό συμβαίνει καθώς για κάθε ένα tag σπάμε τις μετρήσεις σε x (όχι απαραίτητα μη επικαλυπτόμενες) μετρήσεις μεγέθους y."
   ]
  },
  {
   "cell_type": "code",
   "execution_count": 30,
   "metadata": {},
   "outputs": [],
   "source": [
    "#Take random segments of the full array\n",
    "def sample_random_segments(tensor1, segment_length, num_samples):\n",
    "    if len(tensor1) < segment_length:\n",
    "        raise ValueError(\"Segment length must be smaller than or equal to array length.\")\n",
    "    max_start_index = len(tensor1) - segment_length  # Ensure segment stays within bounds\n",
    "    start_indices = np.random.randint(0, max_start_index + 1, size=num_samples)\n",
    "    segments = np.empty((num_samples, segment_length))\n",
    "\n",
    "    for idx, start in enumerate(start_indices):\n",
    "        segments[idx] = tensor1[start:start+segment_length]\n",
    "    return segments,start_indices"
   ]
  },
  {
   "cell_type": "code",
   "execution_count": 31,
   "metadata": {},
   "outputs": [],
   "source": [
    "num_of_samples = 5 # Number of samples per tag\n",
    "segment_length = 1000 # Length of each segment\n",
    "\n",
    "\n",
    "phase_segments = np.empty((0, segment_length))\n",
    "x0_indices = np.empty((0),dtype=int)\n",
    "for i in range(tag_pos.shape[0]):\n",
    "    temp_info,temp_indx = sample_random_segments(Data.loc[i,'Phases'], segment_length, num_of_samples) \n",
    "    phase_segments = np.concatenate((phase_segments, temp_info), axis=0)\n",
    "    x0_indices = np.hstack((x0_indices,temp_indx))\n",
    "# Multiply labels\n",
    "tag_pos = np.repeat(tag_pos, num_of_samples, axis=0)"
   ]
  },
  {
   "cell_type": "code",
   "execution_count": 32,
   "metadata": {},
   "outputs": [
    {
     "name": "stdout",
     "output_type": "stream",
     "text": [
      "(5000, 1000)\n",
      "(5000, 3)\n",
      "[23  1  6 ... 42  7 17]\n"
     ]
    }
   ],
   "source": [
    "print(phase_segments.shape) \n",
    "print(tag_pos.shape)\n",
    "print(x0_indices)"
   ]
  },
  {
   "cell_type": "markdown",
   "metadata": {},
   "source": [
    "***"
   ]
  },
  {
   "cell_type": "markdown",
   "metadata": {},
   "source": [
    "### Linear Interpolation για να έχουμε ίδιο μέγεθος σε όλα τα samples"
   ]
  },
  {
   "cell_type": "markdown",
   "metadata": {},
   "source": [
    "Μιας και τα δεδομένα μας περιμένουμε να περιέχουν ασυνέχειες, σκεφτόμαστε ότι μέσω της γραμμικής παρεμβολής θα βεβαιωνόμαστε για το σταθερό μήκος του Input στο μοντέλο. Αυτό υλοποιείται παρακάτω."
   ]
  },
  {
   "cell_type": "code",
   "execution_count": 33,
   "metadata": {},
   "outputs": [],
   "source": [
    "num_of_samples = 1000\n",
    "\n",
    "\n",
    "robot_pos = np.vstack(Data['robot_pos'].to_numpy())\n",
    "new_robot_pos = np.empty((0,num_of_samples))\n",
    "new_phases = np.empty((0,num_of_samples))\n",
    "\n",
    "data_list = []\n",
    "for i in range(len(phase_segments)):\n",
    "    original_samples = phase_segments[i]\n",
    "    original_positions = robot_pos[x0_indices[i]:x0_indices[i]+segment_length,0]\n",
    "    new_positions = np.linspace(original_positions[0],original_positions[-1], num_of_samples)\n",
    "    new_robot_pos = np.vstack((new_robot_pos,new_positions))\n",
    "    new_samples = np.interp(new_positions, original_positions, original_samples)\n",
    "    new_phases = np.vstack((new_phases,new_samples))\n",
    "    data_list.append({\n",
    "            \"tag_pos\": np.array([x_tag,y_tag,z_tag]),\n",
    "            \"Antenna\": antenna_num,\n",
    "            \"robot_pos\" : np.array(new_positions),\n",
    "            \"Phases\": np.array(new_samples)\n",
    "        })\n",
    "\n",
    "# Convert the list to a DataFrame\n",
    "Data = pd.DataFrame(data_list)\n",
    "\n",
    "# Save to a pickle file\n",
    "Data.to_pickle(\"Sim_Data_Noisy_Interp.pkl\")\n"
   ]
  },
  {
   "cell_type": "code",
   "execution_count": 34,
   "metadata": {},
   "outputs": [],
   "source": [
    "data_list = []\n",
    "for i in range(len(phase_segments)):\n",
    "    data_list.append(\n",
    "        {\n",
    "            \"tag_pos\": np.array([x_tag-new_robot_pos[i,0],y_tag,z_tag]),\n",
    "            \"Antenna\": antenna_num,\n",
    "            \"Phases\" : new_phases[i]\n",
    "        }\n",
    "    )\n",
    "\n",
    "# Convert the list to a DataFrame\n",
    "Data = pd.DataFrame(data_list)\n",
    "\n",
    "# Save to a pickle file\n",
    "Data.to_pickle(\"Sim_Data_Noisy_Interp_Small.pkl\")"
   ]
  }
 ],
 "metadata": {
  "kernelspec": {
   "display_name": "Python 3",
   "language": "python",
   "name": "python3"
  },
  "language_info": {
   "codemirror_mode": {
    "name": "ipython",
    "version": 3
   },
   "file_extension": ".py",
   "mimetype": "text/x-python",
   "name": "python",
   "nbconvert_exporter": "python",
   "pygments_lexer": "ipython3",
   "version": "3.9.11"
  }
 },
 "nbformat": 4,
 "nbformat_minor": 2
}
