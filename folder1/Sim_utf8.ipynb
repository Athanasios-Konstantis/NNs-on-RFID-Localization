{
  "cells": [
    {
      "cell_type": "code",
      "execution_count": 1,
      "metadata": {},
      "outputs": [],
      "source": "import numpy as np\nimport pandas as pd\nimport matplotlib.pyplot as plt\nfrom scipy.interpolate import interp1d\nimport random"
    },
    {
      "cell_type": "code",
      "execution_count": 2,
      "metadata": {},
      "outputs": [],
      "source": "class Robot:\n    def __init__(self,pos:np.ndarray,antennas:list):\n        self.antennas = antennas\n        self.position = pos\n        self.num_of_antennas = len(antennas)\n    def update_pos(self,pos):\n        self.position = pos"
    },
    {
      "cell_type": "code",
      "execution_count": 3,
      "metadata": {},
      "outputs": [],
      "source": "class Tag:\n    def __init__(self,pos:np.ndarray):\n        self.position = pos"
    },
    {
      "cell_type": "code",
      "execution_count": 4,
      "metadata": {},
      "outputs": [],
      "source": "class Antenna:\n    def __init__(self,z:float,G_dBm:float,theta_vector:np.ndarray,phi_vector:np.ndarray):\n        self.z = z\n        self.G_dBm = G_dBm\n        self.theta_vector = theta_vector\n        self.phi_vector = phi_vector\n    \n    def get_gain(self,theta_rad:float,phi_rad:float):\n        theta_deg: int = round(theta_rad*180/np.pi)%360 #we don't really need the modulo here, i think but just to be safe\n        phi_deg: int = round(phi_rad * 180/np.pi)%360\n        return self.theta_vector[theta_deg] + self.phi_vector[phi_deg] + self.G_dBm\n"
    },
    {
      "cell_type": "code",
      "execution_count": 18,
      "metadata": {},
      "outputs": [
        {
          "name": "stdout",
          "output_type": "stream",
          "text": "<class 'pandas.core.frame.DataFrame'>\nRangeIndex: 1000 entries, 0 to 999\nData columns (total 6 columns):\n #   Column     Non-Null Count  Dtype  \n---  ------     --------------  -----  \n 0   x_tag      1000 non-null   float64\n 1   y_tag      1000 non-null   float64\n 2   z_tag      1000 non-null   float64\n 3   Antenna    1000 non-null   int64  \n 4   robot_pos  1000 non-null   object \n 5   Phases     1000 non-null   object \ndtypes: float64(3), int64(1), object(2)\nmemory usage: 47.0+ KB\n"
        }
      ],
      "source": "#We assume the RFID tag frequency is 866MHz\nfreq = 866e6\n#Speed of light\nc = 299792458.0\n\nlambda_signal = c/freq\n\n\nPt_dBm = 30\n\nG_R_dBm = 1\n\n#antenna initialization\npattern = pd.read_excel(\"pattern.xlsx\")\ngain_theta = pattern[\"Gain_t(dB)\"].to_numpy()\ngain_phi = pattern[\"Gain_p(dB)\"].to_numpy()\nAntenna1 = Antenna(0.2,4,gain_theta,gain_phi)\n#Antenna2 = Antenna(0.4,4,gain_theta,gain_phi)\n\n#Points of the movement (for the moment it is straight)\np1 = np.array([0,0,0])\np2 = np.array([4,0,0])\n#Initialization of robot with antennas\nRobot_inst = Robot(p1,[Antenna1])\n#p3 serves as a visual guide to know where the movement starts\nkappa = 0.1\np3 = (1-kappa)*p1+kappa*p2\n\n\ndata_list = []  #list containing all the saved data\n#tag position params\nx_tag = 2 # Lets spice it up a bit\nz_tag = 0.1\ny_steps = np.linspace(0.1,3,1000) #the last number is the number of samples for each epoch\nfor y_tag in y_steps:\n    #Tag initialization\n    tagp = np.array([x_tag,y_tag,z_tag])\n    tag1 = Tag(tagp)\n    #do this for all antennas\n    for antenna_num,antenna in enumerate(Robot_inst.antennas):\n        phases = []\n        robot_pos = []\n        rho = 0   #rho is the position of the x axis\n        mu,sigma = 0.0038,0.001834  #mu and sigma for the normal distribution of the sampling \n        while(rho<4):\n            rho = rho + np.random.normal(mu,sigma)\n            #there will be a problem with z if p1 and p2 do not have z = 0\n            new_pos = p1 + rho*(p2-p1)/np.linalg.norm(p2-p1)\n            robot_pos.append(new_pos)\n            Robot_inst.update_pos(new_pos)\n            r = np.linalg.norm(tag1.position-Robot_inst.position)\n            phases.append( ((2*np.pi)/lambda_signal)*2*r + np.random.normal(0,0.09)) #mu = 0 and sigma = 5deg ~= 0.09 rad\n        data_list.append({\n            \"x_tag\": tag1.position[0],\n            \"y_tag\": tag1.position[1],\n            \"z_tag\": tag1.position[2],\n            \"Antenna\": antenna_num,\n            \"robot_pos\" : np.array(robot_pos),\n            \"Phases\": np.array(phases)\n        })\n\n# Convert the list to a DataFrame\ndf = pd.DataFrame(data_list)\n\n# Save to an Excel file\ndf.to_pickle(\"Sim_Data_Noisy.pkl\")\n\ndf.info()"
    },
    {
      "cell_type": "code",
      "execution_count": 19,
      "metadata": {},
      "outputs": [
        {
          "data": {
            "text/plain": "(1059, 1047)"
          },
          "execution_count": 19,
          "metadata": {},
          "output_type": "execute_result"
        }
      ],
      "source": "len(df.Phases[56]), len(df.Phases[75]) # Different values so an error occurs!"
    }
  ],
  "metadata": {
    "kernelspec": {
      "display_name": "Python 3",
      "language": "python",
      "name": "python3"
    },
    "language_info": {
      "codemirror_mode": {
        "name": "ipython",
        "version": 3
      },
      "file_extension": ".py",
      "mimetype": "text/x-python",
      "name": "python",
      "nbconvert_exporter": "python",
      "pygments_lexer": "ipython3",
      "version": "3.11.9"
    }
  },
  "nbformat": 4,
  "nbformat_minor": 2
}