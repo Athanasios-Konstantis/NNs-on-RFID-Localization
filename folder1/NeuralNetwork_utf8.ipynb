{
  "cells": [
    {
      "cell_type": "markdown",
      "metadata": {},
      "source": "# Κατασκευή Νευρωνικού Δικτύου"
    },
    {
      "cell_type": "markdown",
      "metadata": {},
      "source": "***"
    },
    {
      "cell_type": "markdown",
      "metadata": {},
      "source": "### Εισαγωγή δεδομένων"
    },
    {
      "cell_type": "markdown",
      "metadata": {},
      "source": "Για αρχή θα πειραματιστούμε με τα data από το simulation και πολύ απλοϊκά μοντέλα με λίγες παραμέτρους."
    },
    {
      "cell_type": "markdown",
      "metadata": {},
      "source": "Παίρνουμε τα data και δημιουργούμε τα labels που πρέπει τελικά να εντοπιστούν στην μορφή $[x_l, y_l]$"
    },
    {
      "cell_type": "code",
      "execution_count": 1,
      "metadata": {},
      "outputs": [],
      "source": "import torch\nimport sklearn\nimport pandas as pd\nimport numpy as np\n#import ast\nfrom sklearn.model_selection import train_test_split\nimport matplotlib.pyplot as plt\nimport xgboost as xgb\nfrom sklearn.preprocessing import StandardScaler\nfrom sklearn.multioutput import MultiOutputRegressor\nfrom sklearn.metrics import mean_squared_error, mean_absolute_error"
    },
    {
      "cell_type": "code",
      "execution_count": 100,
      "metadata": {},
      "outputs": [
        {
          "name": "stdout",
          "output_type": "stream",
          "text": "(1000, 2)\n"
        }
      ],
      "source": "Data = pd.read_pickle(\"Sim_Data_Noisy.pkl\")\n\nrfid_label = (Data['x_tag'], Data['y_tag'])\nrfid_label = np.array(rfid_label).T\nprint(rfid_label.shape)"
    },
    {
      "cell_type": "markdown",
      "metadata": {},
      "source": "Από την στιγμή που η διαδικασία παραγωγής δεδομένων παράγει διαφορετικού μήκους διανύσματα, δεν μπορούμε να δημιουργήσουμε ένα tensor διάστασης $(1000,1000,4)$, αντιθέτως ορίζουμε πρώτα την συνάρτηση με την οποία λαμβάνουμε segments και έπειτα μετατρέπουμε τα δεδομένα μας σε ίσου μήκους διανύσματα με την βοήθεια της συνάρτησης ```sample_random_segments```"
    },
    {
      "cell_type": "markdown",
      "metadata": {},
      "source": "***"
    },
    {
      "cell_type": "markdown",
      "metadata": {},
      "source": "### Data Augmentation μέσω segmentation"
    },
    {
      "cell_type": "markdown",
      "metadata": {},
      "source": "Ορίζουμε την συνάρτηση παρακάτω μέσω της οποίας μετασχηματίζουμε κάθε μία μέτρηση σε ένα πλήθος x που μπορούμε να διαλέξουμε εμείς με y αριθμό μετρήσεων στο κάθε ένα. Αυτό συμβαίνει καθώς για κάθε ένα tag σπάμε τις μετρήσεις σε x (όχι απαραίτητα μη επικαλυπτόμενες) μετρήσεις μεγέθους y."
    },
    {
      "cell_type": "markdown",
      "metadata": {},
      "source": "**UPDATE** Επιπλέον μέσα από αυτή την συνάρτηση μετατοπίζουμε και την x συντεταγμένη τόσο του tag όσο και του segment στο 0"
    },
    {
      "cell_type": "code",
      "execution_count": 105,
      "metadata": {},
      "outputs": [],
      "source": "#Take random segments of the full array\ndef sample_random_segments(tensor1, rfid, segment_length, num_samples):\n    if len(tensor1) < segment_length:\n        raise ValueError(\"Segment length must be smaller than or equal to array length.\")\n    \n    max_start_index = len(tensor1) - segment_length  # Ensure segment stays within bounds\n    start_indices = np.random.randint(0, max_start_index + 1, size=num_samples)\n\n    segments = np.empty((num_samples, segment_length, tensor1.shape[1]))\n    rfid_arr = np.empty((num_samples,rfid.shape[0]))\n\n    for idx, start in enumerate(start_indices):\n        segments[idx] = tensor1[start:start+segment_length] # We create the segments as before \n        rfid_arr[idx] = np.array((rfid[0] - segments[idx,0,0], rfid[1])) # We subtract from the rfid X coordinate the starting X value of the segment.\n        segments[idx,:,0] -= segments[idx,0,0] # We repeat this process for the X coordinate of the segment.\n    # We now have 2 arrays to return, one is of shape [num_of_samples, segment_length, 4] and it represents the segments as before, BUT all brought back to 0 for their X coordinate\n    # The second array represents the new rfid label since is has been moved from the standard X=2 coordinate to the new x' = X - X_start_segment\n    \n    return segments, rfid_arr"
    },
    {
      "cell_type": "markdown",
      "metadata": {},
      "source": "Όπως περιγράφω και στα σχόλια η παραπάνω συνάρτηση εξυπηρετεί δύο σκοπούς. \n- Δημιουργεί ίσου μήκους διανύσματα, καθώς αυτά που είχαμε πριν ήταν διαφορετικού\n- Μεταφέρει τα segments στο 0 και μετακινεί και τα labels σε αντίστοιχη θέση αναφορικά με τα segments."
    },
    {
      "cell_type": "code",
      "execution_count": 103,
      "metadata": {},
      "outputs": [],
      "source": "num_of_samples = 5 # Number of samples per tag\nsegment_length = 200 # Length of each segment\n\ninfo_tensor = np.empty((0, segment_length, 4))\nlabels = np.empty((0,rfid_label.shape[1]))\n\nfor i in range(len(rfid_label)):\n    Data.loc[i, 'Phases'] = Data.loc[i, 'Phases'].reshape(-1, 1)\n    result = np.concatenate((Data.loc[i, 'robot_pos'], Data.loc[i, 'Phases'].reshape(-1, 1)), axis=1)\n    temp_info, temp_rfid = sample_random_segments(result, rfid_label[i], segment_length, num_of_samples) \n    info_tensor = np.concatenate((info_tensor, temp_info), axis=0)\n    labels = np.concatenate((labels,temp_rfid), axis=0)\n"
    },
    {
      "cell_type": "code",
      "execution_count": 104,
      "metadata": {},
      "outputs": [
        {
          "name": "stdout",
          "output_type": "stream",
          "text": "(5000, 200, 4)\n(5000, 2)\n"
        }
      ],
      "source": "print(info_tensor.shape) \nprint(labels.shape)"
    },
    {
      "cell_type": "markdown",
      "metadata": {},
      "source": "Ας ελέγξουμε τις παραπάνω παρατηρήσεις"
    },
    {
      "cell_type": "code",
      "execution_count": 110,
      "metadata": {},
      "outputs": [
        {
          "data": {
            "text/plain": "(array([[ 0.35382358,  0.1       ],\n        [ 1.13535148,  0.1       ],\n        [-0.34409654,  0.1       ],\n        [ 0.42229355,  0.1       ],\n        [ 0.60296627,  0.1       ]]),\n array([[ 1.56197494,  0.1029029 ],\n        [-0.61567099,  0.1029029 ],\n        [ 1.34246255,  0.1029029 ],\n        [ 0.91224586,  0.1029029 ],\n        [ 1.19924373,  0.1029029 ]]))"
          },
          "execution_count": 110,
          "metadata": {},
          "output_type": "execute_result"
        }
      ],
      "source": "labels[:5], labels[5:10]"
    },
    {
      "cell_type": "markdown",
      "metadata": {},
      "source": "Όπως βλέπουμε ανά 5 έχουν σταθερό y αλλά διαφορετικό X καθώς αυτό έχει μετατοπιστεί ανάλογα με την Χ συντεταγμένη του αντίστοιχου segment. Ας δούμε και μερικά segments."
    },
    {
      "cell_type": "code",
      "execution_count": 116,
      "metadata": {},
      "outputs": [
        {
          "data": {
            "text/plain": "array([[[ 0.00000000e+00,  0.00000000e+00,  0.00000000e+00,\n          1.37350548e+01],\n        [ 2.42255760e-03,  0.00000000e+00,  0.00000000e+00,\n          1.37124464e+01],\n        [ 7.73930614e-03,  0.00000000e+00,  0.00000000e+00,\n          1.37375684e+01]],\n\n       [[ 0.00000000e+00,  0.00000000e+00,  0.00000000e+00,\n          4.14651763e+01],\n        [-3.99643229e-04,  0.00000000e+00,  0.00000000e+00,\n          4.15089134e+01],\n        [ 4.32314642e-03,  0.00000000e+00,  0.00000000e+00,\n          4.13727460e+01]],\n\n       [[ 0.00000000e+00,  0.00000000e+00,  0.00000000e+00,\n          1.35150855e+01],\n        [ 4.06758469e-03,  0.00000000e+00,  0.00000000e+00,\n          1.36346483e+01],\n        [ 9.36150422e-03,  0.00000000e+00,  0.00000000e+00,\n          1.40198520e+01]],\n\n       [[ 0.00000000e+00,  0.00000000e+00,  0.00000000e+00,\n          1.60939351e+01],\n        [ 1.61636349e-03,  0.00000000e+00,  0.00000000e+00,\n          1.61532721e+01],\n        [ 3.71952603e-03,  0.00000000e+00,  0.00000000e+00,\n          1.58923084e+01]]])"
          },
          "execution_count": 116,
          "metadata": {},
          "output_type": "execute_result"
        }
      ],
      "source": "info_tensor[:4,:3]"
    },
    {
      "cell_type": "markdown",
      "metadata": {},
      "source": "Επίσης παρατηρούμε ότι έχουν μετατοπιστεί στο μηδέν."
    },
    {
      "cell_type": "markdown",
      "metadata": {},
      "source": "***"
    },
    {
      "cell_type": "markdown",
      "metadata": {},
      "source": "### Linear Interpolation για να έχουμε ίδιο μέγεθος σε όλα τα samples"
    },
    {
      "cell_type": "markdown",
      "metadata": {},
      "source": "Μιας και τα δεδομένα μας περιμένουμε να περιέχουν ασυνέχειες, σκεφτόμαστε ότι μέσω της γραμμικής παρεμβολής θα βεβαιωνόμαστε για το σταθερό μήκος του Input στο μοντέλο. Αυτό υλοποιείται παρακάτω."
    },
    {
      "cell_type": "code",
      "execution_count": 117,
      "metadata": {},
      "outputs": [],
      "source": "def lin_interpolation(data, length):\n    x = np.linspace(data[0,0],data[-1,0], length)\n   \n    # Create interpolation results\n    result = np.empty((length, data.shape[1]))\n    result = np.array([x, np.interp(x, data[:,0], data[:,1]), np.interp(x, data[:,0], data[:,2]), np.interp(x, data[:,0], data[:,3])]).T\n    return result"
    },
    {
      "cell_type": "markdown",
      "metadata": {},
      "source": "Έχοντας πλέον την συνάρτηση που θα δημιουργήσει τα δεδομένα μετατρέπουμε τον πίνακα των samples στον τελικό πίνακα που θα μπει στο μοντέλο."
    },
    {
      "cell_type": "code",
      "execution_count": 118,
      "metadata": {},
      "outputs": [
        {
          "data": {
            "text/plain": "(5000, 1000, 4)"
          },
          "execution_count": 118,
          "metadata": {},
          "output_type": "execute_result"
        }
      ],
      "source": "interp_length = 1000\ninput_array = np.empty((info_tensor.shape[0],interp_length, 4))\n\nfor i in range(len(info_tensor)):\n    input_array[i] = lin_interpolation(info_tensor[i], interp_length)\n\ninput_array.shape"
    },
    {
      "cell_type": "markdown",
      "metadata": {},
      "source": "***"
    },
    {
      "cell_type": "markdown",
      "metadata": {},
      "source": "### Προβλέψεις μέσω XGB"
    },
    {
      "cell_type": "markdown",
      "metadata": {},
      "source": "Τo XGB δεν υποστηρίζει πολυδιάστατη είσοδο όπως θα θέλαμε καθώς υπάρχει χρονική συσχέτιση μεταξύ των δεδομένων. Επίσης δεν υποστηρίζει πολυδιάστατη έξοδο, δηλαδή δεν μπορεί να υπολογίσει και το X και το Y του tag. Για αυτά τα προβλήματα προχωράμε στις παρακάτω λύσεις"
    },
    {
      "cell_type": "markdown",
      "metadata": {},
      "source": "- Κάνουμε *flatten* τον πίνακα των δεδομένων εισόδου\n- Χρησιμοποιούμε το module *MultiOutputRegressor* για να διαχειριστούμε πολλαπλές εξόδους."
    },
    {
      "cell_type": "code",
      "execution_count": 122,
      "metadata": {},
      "outputs": [
        {
          "name": "stdout",
          "output_type": "stream",
          "text": "Using cuda device\n"
        }
      ],
      "source": "device = 'cuda' if torch.cuda.is_available() else 'cpu'\nprint('Using {} device'.format(device))"
    },
    {
      "cell_type": "code",
      "execution_count": 119,
      "metadata": {},
      "outputs": [
        {
          "name": "stdout",
          "output_type": "stream",
          "text": "(5000, 4000)\n"
        }
      ],
      "source": "# Reshape the tensor to 2D so that it can be used in the XGB model\nX = input_array.reshape(len(info_tensor), -1)\nprint(X.shape)"
    },
    {
      "cell_type": "code",
      "execution_count": 120,
      "metadata": {},
      "outputs": [
        {
          "name": "stdout",
          "output_type": "stream",
          "text": "(5000, 2)\n"
        }
      ],
      "source": "y = labels\nprint(y.shape)"
    },
    {
      "cell_type": "markdown",
      "metadata": {},
      "source": "Προετοιμάζουμε τα training και test data."
    },
    {
      "cell_type": "code",
      "execution_count": 133,
      "metadata": {},
      "outputs": [
        {
          "data": {
            "text/plain": "((4000, 4000), (1000, 4000))"
          },
          "execution_count": 133,
          "metadata": {},
          "output_type": "execute_result"
        }
      ],
      "source": "X_train, X_test, y_train, y_test = train_test_split(X, y, test_size=0.2, random_state=42)\n\nscaler = StandardScaler()\n# Fit the scaler on the training data and transform both the training and test sets\nX_train_scaled = scaler.fit_transform(X_train)\nX_test_scaled = scaler.transform(X_test)\n\nX_train_scaled.shape ,X_test_scaled.shape"
    },
    {
      "cell_type": "markdown",
      "metadata": {},
      "source": "Κάνουμε train το μοντέλο και ελέγχουμε τις προβλέψεις του."
    },
    {
      "cell_type": "markdown",
      "metadata": {},
      "source": "Για να επιτευχθεί γρηγορότερα το training phase του μοντέλου, θα χρησιμοποιήσουμε την GPU αντί για την CPU, αν αυτή είναι διαθέσιμη."
    },
    {
      "cell_type": "code",
      "execution_count": 134,
      "metadata": {},
      "outputs": [],
      "source": "xgb_model = xgb.XGBRegressor(random_state=42, n_estimators=1500, learning_rate=0.05, eta = 0.2, tree_method = 'hist', device = 'cuda')\n\n# Fit the model\nmulti_xgb = MultiOutputRegressor(xgb_model)\nmulti_xgb.fit(X_train_scaled, y_train) \n\n# Predict the model\ny_pred = multi_xgb.predict(X_test_scaled)"
    },
    {
      "cell_type": "code",
      "execution_count": 135,
      "metadata": {},
      "outputs": [
        {
          "name": "stdout",
          "output_type": "stream",
          "text": "RMSE: [0.04794239 0.04318286]\nMAE: [0.03246794 0.02836686]\nMean Distance Error: 0.04846050213955089\n"
        }
      ],
      "source": "# Calculate the error\nrmse = np.sqrt(mean_squared_error(y_test, y_pred, multioutput='raw_values'))\nprint(\"RMSE:\", rmse)\n\nmae = mean_absolute_error(y_test, y_pred, multioutput='raw_values')\nprint(\"MAE:\", mae)\n\n# Euclidean Distance metric\ndistance_error = np.linalg.norm(y_test - y_pred, axis=1)\nprint(\"Mean Distance Error:\", np.mean(distance_error))"
    },
    {
      "cell_type": "code",
      "execution_count": 136,
      "metadata": {},
      "outputs": [
        {
          "data": {
            "image/png": "[encoded data removed]",
            "text/plain": "<Figure size 640x480 with 1 Axes>"
          },
          "metadata": {},
          "output_type": "display_data"
        }
      ],
      "source": "# Plot the results\nplt.scatter(y_test[:20, 0], y_test[:20, 1], label='True')\nplt.scatter(y_pred[:20, 0], y_pred[:20, 1], label='Predicted')\nplt.legend()\nplt.show()"
    },
    {
      "cell_type": "markdown",
      "metadata": {},
      "source": "***"
    },
    {
      "cell_type": "markdown",
      "metadata": {},
      "source": "### Προβλέψεις μέσω Νευρωνικού !!! (exciting!)"
    },
    {
      "cell_type": "markdown",
      "metadata": {},
      "source": "Έχουμε ``` input_size = 4000 ```"
    },
    {
      "cell_type": "markdown",
      "metadata": {},
      "source": "Και ```output_size = 2```"
    },
    {
      "cell_type": "markdown",
      "metadata": {},
      "source": "Θα φτιάξουμε ένα απλό γραμμικό μοντέλο για εξοικείωση"
    },
    {
      "cell_type": "markdown",
      "metadata": {},
      "source": "Το μοντέλο θα τρέξει στην GPU αν αυτή είναι διαθέσιμη."
    },
    {
      "cell_type": "code",
      "execution_count": 137,
      "metadata": {},
      "outputs": [
        {
          "name": "stdout",
          "output_type": "stream",
          "text": "Using cuda device\n"
        }
      ],
      "source": "device = 'cuda' if torch.cuda.is_available() else 'cpu'\nprint('Using {} device'.format(device))"
    },
    {
      "cell_type": "markdown",
      "metadata": {},
      "source": "Προετοιμάζουμε τα δεδομένα όπως και προηγουμένως με το XGB μοντέλο"
    },
    {
      "cell_type": "code",
      "execution_count": 138,
      "metadata": {},
      "outputs": [
        {
          "name": "stdout",
          "output_type": "stream",
          "text": "(5000, 4000)\n"
        }
      ],
      "source": "# Reshape the tensor to 2D so that it can be used in the linear model\nX = input_array.reshape(len(info_tensor), -1)\nprint(X.shape)"
    },
    {
      "cell_type": "code",
      "execution_count": 140,
      "metadata": {},
      "outputs": [
        {
          "name": "stdout",
          "output_type": "stream",
          "text": "(5000, 2)\n"
        }
      ],
      "source": "y = labels\nprint(y.shape)"
    },
    {
      "cell_type": "code",
      "execution_count": 141,
      "metadata": {},
      "outputs": [
        {
          "name": "stdout",
          "output_type": "stream",
          "text": "(4000, 4000)\n(1000, 4000)\n"
        }
      ],
      "source": "X_train, X_test, y_train, y_test = train_test_split(X, y, test_size=0.2, random_state=42)\n\nscaler = StandardScaler()\n# Fit the scaler on the training data and transform both the training and test sets\nX_train_scaled = scaler.fit_transform(X_train)\nX_test_scaled = scaler.transform(X_test)\n\nprint(X_train_scaled.shape)\nprint(X_test_scaled.shape)"
    },
    {
      "cell_type": "markdown",
      "metadata": {},
      "source": "Μετατρέπουμε όλα μας τα data σε torch tensors για να είναι συμβατά με την αρχιτεκτονική του μοντέλου και τα περνάμε στην συσκευή που χρησιμοποιούμε (CPU ή GPU)."
    },
    {
      "cell_type": "code",
      "execution_count": 142,
      "metadata": {},
      "outputs": [],
      "source": "# Transform the data to PyTorch tensors and move them to the GPU if available\nX_train_tensor = torch.tensor(X_train_scaled, dtype=torch.float32).to(device)\nX_test_tensor = torch.tensor(X_test_scaled, dtype=torch.float32).to(device)\ny_train_tensor = torch.tensor(y_train, dtype=torch.float32).to(device)\ny_test_tensor = torch.tensor(y_test, dtype=torch.float32).to(device)"
    },
    {
      "cell_type": "markdown",
      "metadata": {},
      "source": "Δημιουργούμε ```mini_batches``` των 32."
    },
    {
      "cell_type": "code",
      "execution_count": 143,
      "metadata": {},
      "outputs": [],
      "source": "from torch.utils.data import DataLoader, TensorDataset\n\n# Define the dataset\ntrain_data = TensorDataset(X_train_tensor, y_train_tensor)\ntest_data = TensorDataset(X_test_tensor, y_test_tensor)\n\n# Define the data loaders\nbatch_size = 32\ntrain_loader = DataLoader(dataset=train_data, batch_size=batch_size, shuffle=True) \ntest_loader = DataLoader(dataset=test_data, batch_size=batch_size)"
    },
    {
      "cell_type": "markdown",
      "metadata": {},
      "source": "Το μοντέλο αρχικά αποτελείται από 3 επίπεδα, με συνάρτηση ενεργοποίησης ```LeakyReLU``` η οποία μας βοηθάει να αποφύγουμε να κολλήσουμε σε μία συγκεκριμένη τιμή κατά την διάρκεια του ```training``` με αποτέλεσμα να καταστραφεί το μοντέλο."
    },
    {
      "cell_type": "code",
      "execution_count": 144,
      "metadata": {},
      "outputs": [],
      "source": "from torch import nn\n\n# Build the model\n\nclass FirstModel(nn.Module):\n    def __init__(self, input_size, output_size, hidden_units = 128):\n        super(FirstModel, self).__init__()\n\n        self.linear_stack = nn.Sequential(\n            nn.Linear(in_features= input_size, out_features= hidden_units),\n            nn.LeakyReLU(0.1),\n            nn.Linear(in_features= hidden_units, out_features= hidden_units),\n            nn.LeakyReLU(0.1),\n            nn.Linear(in_features= hidden_units, out_features= output_size),   \n        )\n    \n    def forward(self, x):\n        return self.linear_stack(x)"
    },
    {
      "cell_type": "code",
      "execution_count": 145,
      "metadata": {},
      "outputs": [
        {
          "data": {
            "text/plain": "FirstModel(\n  (linear_stack): Sequential(\n    (0): Linear(in_features=4000, out_features=128, bias=True)\n    (1): LeakyReLU(negative_slope=0.1)\n    (2): Linear(in_features=128, out_features=128, bias=True)\n    (3): LeakyReLU(negative_slope=0.1)\n    (4): Linear(in_features=128, out_features=2, bias=True)\n  )\n)"
          },
          "execution_count": 145,
          "metadata": {},
          "output_type": "execute_result"
        }
      ],
      "source": "# Define the input and output sizes\ninput_len = X_train_scaled.shape[1]\noutput_len = y_train.shape[1]\n\n# Instantiate the model\nmodel_0 = FirstModel(input_size=input_len, output_size=output_len)\nmodel_0.to(device)"
    },
    {
      "cell_type": "markdown",
      "metadata": {},
      "source": "Αρχικοποιούμε τα βάρη καθώς παρατηρήθηκε ότι η αρχική τυχαιότητα μπορεί να καταστρέψει τα αποτελέσματα."
    },
    {
      "cell_type": "code",
      "execution_count": 146,
      "metadata": {},
      "outputs": [
        {
          "data": {
            "text/plain": "FirstModel(\n  (linear_stack): Sequential(\n    (0): Linear(in_features=4000, out_features=128, bias=True)\n    (1): LeakyReLU(negative_slope=0.1)\n    (2): Linear(in_features=128, out_features=128, bias=True)\n    (3): LeakyReLU(negative_slope=0.1)\n    (4): Linear(in_features=128, out_features=2, bias=True)\n  )\n)"
          },
          "execution_count": 146,
          "metadata": {},
          "output_type": "execute_result"
        }
      ],
      "source": "def init_weights(m):\n    if isinstance(m, torch.nn.Linear):\n        torch.nn.init.kaiming_uniform_(m.weight, nonlinearity='relu')\n        m.bias.data.zero_()  # Important to avoid big initial outputs!\n\nmodel_0.apply(init_weights)\n"
    },
    {
      "cell_type": "markdown",
      "metadata": {},
      "source": "Ορίζουμε την ```loss_function``` τον ```optimizer``` καθώς και τον ```learning_scheduler``` για να μειώσει τον ρυθμό εκμάθησης όσο πλησιάζουμε στην σύγκλιση."
    },
    {
      "cell_type": "markdown",
      "metadata": {},
      "source": "Για ```optimizer``` δοκίμασα Adam, SGD και RMSprop, με παρόμοια αποτελέσματα."
    },
    {
      "cell_type": "code",
      "execution_count": 147,
      "metadata": {},
      "outputs": [],
      "source": "# Define the loss function and the optimizer\nlearning_rate = 1e-2\n\n\nloss_fn = nn.MSELoss()\noptimizer = torch.optim.Adam(model_0.parameters(), lr=learning_rate)\n\n# Initialize the scheduler\nfrom torch.optim import lr_scheduler\nscheduler = lr_scheduler.ReduceLROnPlateau(optimizer, mode='min', factor=0.1, patience=10)"
    },
    {
      "cell_type": "markdown",
      "metadata": {},
      "source": "Κάνουμε train το μοντέλο για 100 εποχές."
    },
    {
      "cell_type": "markdown",
      "metadata": {},
      "source": "***SOS*** Για επαναληψιμότητα τρέχουμε όλα τα cells [59] - [72] με την **ΣΕΙΡΑ** αλλιώς ο optimizer αρχικοποιείται σε διαφορετικές παραμέτρους."
    },
    {
      "cell_type": "code",
      "execution_count": 148,
      "metadata": {},
      "outputs": [
        {
          "name": "stdout",
          "output_type": "stream",
          "text": "Epoch 0 | Loss train: 95.49870677089692 | Loss test: 2.2380713298916817 | lr = 0.01\nEpoch 10 | Loss train: 0.07682010265439748 | Loss test: 0.07576857169624418 | lr = 0.01\nEpoch 20 | Loss train: 0.042498144440352915 | Loss test: 0.03591301781125367 | lr = 0.01\nEpoch 30 | Loss train: 0.04456305000931025 | Loss test: 0.025094574026297778 | lr = 0.01\nEpoch 40 | Loss train: 0.001874613557010889 | Loss test: 0.0019552568592189346 | lr = 0.001\nEpoch 50 | Loss train: 0.0018037757524289192 | Loss test: 0.0019450867839623243 | lr = 0.001\nEpoch 60 | Loss train: 0.0011623686947859824 | Loss test: 0.0013995201588841155 | lr = 0.001\nEpoch 70 | Loss train: 0.0012080252496525646 | Loss test: 0.001313458555159741 | lr = 0.001\nEpoch 80 | Loss train: 0.001332087560556829 | Loss test: 0.0023680999511270784 | lr = 0.001\nEpoch 90 | Loss train: 0.00025577758939471094 | Loss test: 0.00027472654801385943 | lr = 0.0001\nEpoch 100 | Loss train: 0.00018930339626967906 | Loss test: 0.00019912412972189486 | lr = 0.0001\n"
        }
      ],
      "source": "# Fit the model\ntorch.manual_seed(42)\nepochs = 100\ntrain_loss_arr = []\ntest_loss_arr = []\n\nfor epoch in range(epochs):\n    model_0.train()\n    epoch_loss = 0\n\n    # Iterate over mini-batches\n    for X_batch, y_batch in train_loader:\n        # Forward pass\n        y_pred = model_0(X_batch)\n\n        # Compute loss\n        loss = loss_fn(y_pred, y_batch)\n\n        # Zero gradients\n        optimizer.zero_grad()\n\n        # Backward pass\n        loss.backward()\n\n        # Update the weights\n        torch.nn.utils.clip_grad_norm_(model_0.parameters(), max_norm=1.0)  # Gradient clipping to prevent gradients exploding\n        optimizer.step()\n\n        epoch_loss += loss.item()\n\n    # Store average training loss\n    train_loss_arr.append(epoch_loss / len(train_loader))\n\n    scheduler.step(epoch_loss)\n    after_lr = optimizer.param_groups[0]['lr']\n\n    # Evaluate the model on a test set\n    model_0.eval()\n    test_loss = 0\n    with torch.inference_mode():\n        for X_batch, y_batch in test_loader:\n            y_test_pred = model_0(X_batch)\n            test_loss += loss_fn(y_test_pred, y_batch).item()\n\n    test_loss_arr.append(test_loss / len(test_loader))\n\n\n    if epoch % 10 == 0:\n        print(f'Epoch {epoch} | Loss train: {train_loss_arr[-1]} | Loss test: {test_loss_arr[-1]} | lr = {after_lr}')\nprint(f'Epoch {epoch + 1} | Loss train: {train_loss_arr[-1]} | Loss test: {test_loss_arr[-1]} | lr = {after_lr}')\n"
    },
    {
      "cell_type": "markdown",
      "metadata": {},
      "source": "Τι ωραία νούμερα!!! Μακάρι να αντικατοπτρίζουν την πραγματικότητα."
    },
    {
      "cell_type": "code",
      "execution_count": 149,
      "metadata": {},
      "outputs": [
        {
          "data": {
            "image/png": "[encoded data removed]",
            "text/plain": "<Figure size 640x480 with 1 Axes>"
          },
          "metadata": {},
          "output_type": "display_data"
        }
      ],
      "source": "# Plot the loss\ntrain_loss_arr[0] = 0.8 #Only for visualization reasons, since first training loss is a lot larger than the rest numbers\nplt.plot(train_loss_arr, label='Train Loss')\nplt.plot(test_loss_arr, label='Test Loss')\nplt.legend()\nplt.show()"
    },
    {
      "cell_type": "code",
      "execution_count": 150,
      "metadata": {},
      "outputs": [
        {
          "data": {
            "image/png": "[encoded data removed]",
            "text/plain": "<Figure size 640x480 with 1 Axes>"
          },
          "metadata": {},
          "output_type": "display_data"
        }
      ],
      "source": "model_0.eval()\nwith torch.inference_mode():\n    y_pred = model_0(X_test_tensor)\n\n# Plot the results\nplt.scatter(y_test[:20, 0], y_test[:20, 1], label='True')\nplt.scatter(y_pred[:20, 0].cpu().detach().numpy(), y_pred[:20, 1].cpu().detach().numpy(), label='Predicted')\nplt.legend()\nplt.show()"
    },
    {
      "cell_type": "markdown",
      "metadata": {},
      "source": "**********************"
    }
  ],
  "metadata": {
    "kernelspec": {
      "display_name": "Python 3",
      "language": "python",
      "name": "python3"
    },
    "language_info": {
      "codemirror_mode": {
        "name": "ipython",
        "version": 3
      },
      "file_extension": ".py",
      "mimetype": "text/x-python",
      "name": "python",
      "nbconvert_exporter": "python",
      "pygments_lexer": "ipython3",
      "version": "3.11.9"
    }
  },
  "nbformat": 4,
  "nbformat_minor": 2
}